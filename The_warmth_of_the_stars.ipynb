{
 "cells": [
  {
   "cell_type": "markdown",
   "id": "cc1fb656",
   "metadata": {},
   "source": [
    "# Описание проекта"
   ]
  },
  {
   "cell_type": "markdown",
   "id": "bcb6a0aa",
   "metadata": {},
   "source": [
    "**Проект:** \"Прогнозирование температуры звезды\"<br>\n",
    "<br>\n",
    "**Заказчик** — Обсерватория «Небо на ладони»<br>\n",
    "**Цель проекта** - Разработать нейросеть, определяющую температуру на поверхности звёзд по данным, предоставленным заказчиком.\n",
    "<br>\n",
    "**Ограничения -** RMSE не более 4500\n",
    "<br>\n",
    "\n",
    "**Предоставленные данные содержат информацию о 240 звездах.**\n",
    "<br>\n",
    "\n",
    "**Структура предоставленных данных :**\n",
    "<br>\n",
    "* Первое поле без названия\n",
    "* `Temperature (K)` — абсолютная температура T(K) — температура на поверхности звезды в Кельвинах.\n",
    "* `Luminosity(L/Lo)` — относительная светимость L/Lo — светимость звезды относительно Солнца.\n",
    "* `Radius(R/Ro)` — относительный радиус R/Ro — радиус звезды относительно радиуса Солнца\n",
    "* `Absolute magnitude(Mv)` — абсолютная звёздная величина Mv — физическая величина, характеризующая блеск звезды\n",
    "* `Star type` — тип звезды\n",
    "* `Star color` — звёздный цвет (white, red, blue, yellow, yellow-orange и др.) — цвет звезды, который определяют на основе спектрального анализа\n",
    "<br>\n",
    "\n",
    "**Этапы реализации проекта:**<br>\n",
    "* Построение простой модели нейронной сети — baseline\n",
    "* Улучшение сети - ругуляризация\n",
    "* Выводы по проекту\n",
    "\n",
    "**План проекта:**\n",
    "* Загрузка данных\n",
    "* Предобработка и анализ данных\n",
    "* Подготовка данных для формирования сети\n",
    "* Построение простой модели нейронной сети — baseline\n",
    "* Построение модели нейронной сети с учетом регуляризации\n",
    "* Выводы по проекту"
   ]
  },
  {
   "cell_type": "markdown",
   "id": "c7c69298",
   "metadata": {},
   "source": [
    "# Импорт библиотек и глобальные установки"
   ]
  },
  {
   "cell_type": "raw",
   "id": "6e263761-07b7-4262-9a02-5513ed8c655b",
   "metadata": {},
   "source": [
    "!pip install phik -q"
   ]
  },
  {
   "cell_type": "code",
   "execution_count": 1,
   "id": "87559f1c",
   "metadata": {},
   "outputs": [],
   "source": [
    "# Импорт\n",
    "\n",
    "import numpy as np\n",
    "import pandas as pd\n",
    "import seaborn as sns\n",
    "import warnings\n",
    "import matplotlib.pyplot as plt\n",
    "\n",
    "from math import ceil\n",
    "\n",
    "import phik\n",
    "from phik.report import plot_correlation_matrix\n",
    "\n",
    "from sklearn.compose import ColumnTransformer\n",
    "from sklearn.model_selection import train_test_split\n",
    "from sklearn.preprocessing import StandardScaler, OneHotEncoder\n",
    "\n",
    "import torch\n",
    "import torch.nn as nn\n",
    "\n",
    "\n",
    "\n",
    "# Установки\n",
    "\n",
    "np.random.seed(42)\n",
    "torch.manual_seed(42)\n",
    "torch.use_deterministic_algorithms(True)\n",
    "\n",
    "warnings.filterwarnings('ignore')\n",
    "\n",
    "pd.set_option(\"display.max_columns\", None) # Отображать все поля DF\n",
    "pd.set_option('display.max_colwidth', None)  # Отображать все содержание полей DF\n",
    "\n",
    "RANDOM_STATE = 2025\n",
    "\n",
    "class color:\n",
    "    PURPLE = '\\033[95m'\n",
    "    CYAN = '\\033[96m'\n",
    "    DARKCYAN = '\\033[36m'\n",
    "    BLUE = '\\033[94m'\n",
    "    GREEN = '\\033[92m'\n",
    "    YELLOW = '\\033[93m'\n",
    "    RED = '\\033[91m'\n",
    "    BOLD = '\\033[1m'\n",
    "    UNDERLINE = '\\033[4m'\n",
    "    END = '\\033[0m'\n",
    "\n",
    "color_end = color.END\n",
    "red_start = color.RED\n",
    "blue_start = color.BLUE\n",
    "purple_start = color.PURPLE"
   ]
  },
  {
   "cell_type": "markdown",
   "id": "6604aa5f",
   "metadata": {},
   "source": [
    "# Функции"
   ]
  },
  {
   "cell_type": "markdown",
   "id": "e68a95b3",
   "metadata": {},
   "source": [
    "## `categorical_property_visualization` - визуализация категориальных признаков"
   ]
  },
  {
   "cell_type": "code",
   "execution_count": 26,
   "id": "fb94c0e2",
   "metadata": {},
   "outputs": [],
   "source": [
    "def categorical_property_visualization(\n",
    "    data_,\n",
    "    indexes_=[],\n",
    "    titles_=[],\n",
    "    values_='',\n",
    "    aggfunc_='count',\n",
    "    nrows_=2,\n",
    "    ncols_=3,\n",
    "    figsize_=(20, 7),\n",
    "    title_ = '',\n",
    "    y_title_ = 1\n",
    "):\n",
    "    \n",
    "    columns = data_.columns\n",
    "    record_count = data_.shape[0]\n",
    "    \n",
    "    row_ind = 0\n",
    "    col_ind = 0\n",
    "    subplot_ind = 0\n",
    "    \n",
    "    if nrows_ * ncols_ < len(indexes_):\n",
    "        print('Несоответствие - nrows_ * ncols_ < len(indexes_)')\n",
    "        return\n",
    "\n",
    "    fig, axes = plt.subplots(nrows = nrows_, ncols = ncols_, figsize = figsize_)\n",
    "    fig.suptitle(title_, fontsize=20, y = y_title_)\n",
    "\n",
    "    for x in axes.ravel():\n",
    "        x.axis(\"off\")    \n",
    "        #print(row_ind, col_ind)\n",
    "        #print(len(axes.shape))\n",
    "\n",
    "    for ind in indexes_:\n",
    "        if len(axes.shape) == 1:\n",
    "            current_ax = axes[subplot_ind]\n",
    "        else:\n",
    "            current_ax = axes[row_ind, col_ind]\n",
    "        \n",
    "        for_plot_df = data_.pivot_table(\n",
    "                index=ind,\n",
    "                values=values_,\n",
    "                aggfunc=aggfunc_\n",
    "            )\n",
    "        for_plot_df.columns = ['count']\n",
    "        for_plot_df.plot(\n",
    "                kind='pie',\n",
    "                ax = current_ax,\n",
    "                #y='id',\n",
    "                y='count',\n",
    "                autopct='%1.0f%%'\n",
    "            )\n",
    "        current_ax.set_title(titles_[subplot_ind])\n",
    "        current_ax.get_legend().remove()\n",
    "            \n",
    "        subplot_ind += 1\n",
    "        col_ind += 1\n",
    "        if col_ind == ncols_: #3\n",
    "            col_ind = 0\n",
    "            row_ind += 1"
   ]
  },
  {
   "cell_type": "markdown",
   "id": "4093777a",
   "metadata": {},
   "source": [
    "## `column_analiser` - визуализация числовых признаков"
   ]
  },
  {
   "cell_type": "code",
   "execution_count": 3,
   "id": "0a0ee882",
   "metadata": {},
   "outputs": [],
   "source": [
    "def column_analiser(\n",
    "    df_,\n",
    "    column_,\n",
    "    x_label='',\n",
    "    y_label='',\n",
    "    print_unique = False,\n",
    "    bins_= 70,\n",
    "    figsize_ = (15, 10),\n",
    "    height_ratios_ = [1, 3],\n",
    "    hue_lst_ = [],\n",
    "    kde_plot_log_flag_ = False,\n",
    "    kde_plot_figsize_ = (15, 10),\n",
    "    kde_plot_title = '',\n",
    "    kde_plot_x_label = '',\n",
    "    kde_plot_y_label = ''\n",
    "):\n",
    "\n",
    "    record_count = df_.shape[0]\n",
    "    \n",
    "    print('---------------------------------------------------------------------------------------------------------')\n",
    "    print(blue_start, f'Поле : {column_} - {x_label}', color_end)\n",
    "    isna_count = df_[column_].isna().sum()\n",
    "    print(blue_start, '    Количество пропусков - ', color_end, isna_count)\n",
    "    print(blue_start, '    Доля пропусков - ', color_end, round((isna_count / record_count) * 100, 2), '%')\n",
    "    print('')\n",
    "    \n",
    "    print(df_[column_].describe())\n",
    "    if print_unique:\n",
    "        print('Список значений')\n",
    "        print(df_[column_].unique())\n",
    "        \n",
    "    fig, axes = plt.subplots(nrows = 2, ncols = 1, figsize = figsize_, gridspec_kw={'height_ratios': height_ratios_})\n",
    "        \n",
    "    if kde_plot_log_flag_:\n",
    "        axes[0] = np.log1p(df_[column_]).plot(\n",
    "            kind = 'box',\n",
    "            ax = axes[0],\n",
    "            vert=False)\n",
    "        axes[1] = plt.hist(\n",
    "            np.log1p(df_[column_]),\n",
    "            bins=bins_\n",
    "        )\n",
    "    else:\n",
    "        axes[0] = df_[column_].plot(\n",
    "            kind = 'box',\n",
    "            ax = axes[0],\n",
    "            vert=False)\n",
    "        axes[1] = plt.hist(\n",
    "            df_[column_],\n",
    "            bins=bins_,\n",
    "        )\n",
    "\n",
    "    axes[0].set_ylabel(y_label)\n",
    "    plt.xlabel(x_label)\n",
    "    plt.ylabel(y_label)\n",
    "    plt.title('Распределение')    \n",
    "    plt.show()    \n",
    "    \n",
    "    if len(hue_lst_) > 0:\n",
    "        for hue_ in hue_lst_:\n",
    "            print('kde_plot_log_flag_ = ', kde_plot_log_flag_)\n",
    "            if kde_plot_log_flag_:\n",
    "                fig, axes = plt.subplots(nrows = 1, ncols = 1, figsize = kde_plot_figsize_)\n",
    "                sns.kdeplot(data = df_,\n",
    "                            x = np.log1p(df_[column_]),\n",
    "                            hue = hue_,\n",
    "                            fill = True)\n",
    "            else:\n",
    "                fig, axes = plt.subplots(nrows = 1, ncols = 1, figsize = kde_plot_figsize_)\n",
    "                sns.kdeplot(data = df_,\n",
    "                            x = df_[column_],\n",
    "                            hue = hue_,\n",
    "                            fill = True)\n",
    "                \n",
    "            plt.title(kde_plot_title)\n",
    "            plt.xlabel(kde_plot_x_label)\n",
    "            plt.ylabel(kde_plot_y_label)\n",
    "            plt.show()"
   ]
  },
  {
   "cell_type": "markdown",
   "id": "f2b89f4a",
   "metadata": {},
   "source": [
    "## `check_categorical_fields` - вывод уникальных значений полей"
   ]
  },
  {
   "cell_type": "code",
   "execution_count": 4,
   "id": "dcdb7af2",
   "metadata": {},
   "outputs": [],
   "source": [
    "def check_categorical_fields(df_, fields_lst, print_unique_val=False):\n",
    "    record_count = df_.shape[0]\n",
    "    for field in fields_lst:\n",
    "        print('---------------------------------------------------------------------------------------------------------')\n",
    "        print(blue_start, 'Поле - ', color_end, field)\n",
    "        print(blue_start, 'Количество уникальных значений -  ', color_end, len(df_[field].unique()))\n",
    "\n",
    "        isna_count = df_[field].isna().sum()\n",
    "        print(blue_start, 'Количество пропусков - ', color_end, isna_count)\n",
    "        if isna_count > 0:\n",
    "            print(blue_start, 'Доля пропусков - ', color_end, round((isna_count / record_count) * 100, 2), bold_start, '%')\n",
    "        print('')\n",
    "        if print_unique_val:\n",
    "            with pd.option_context(\"display.max_rows\", None):\n",
    "                unique_count_df = pd.DataFrame(df_[field].value_counts().sort_index(ascending = True)).reset_index()\n",
    "                unique_count_df.columns = ['Значение', 'Количество']\n",
    "                display(unique_count_df)"
   ]
  },
  {
   "cell_type": "markdown",
   "id": "40235f38",
   "metadata": {},
   "source": [
    "## `df_inf` - информация о дата фрейме"
   ]
  },
  {
   "cell_type": "code",
   "execution_count": 5,
   "id": "bf9d34da",
   "metadata": {},
   "outputs": [],
   "source": [
    "def df_inf(df, head_row=5, drop_duplicates_flag=False):\n",
    "    print(purple_start, '-------------------------------------------------------------------------------------------------------------------------------------', color_end)\n",
    "    try:\n",
    "        df_name = df.name\n",
    "        print(blue_start,'Имя:', df_name, color_end)\n",
    "    except:\n",
    "        df_name = 'Не определено'\n",
    "        display(blue_start,'Имя: Не определено', color_end)\n",
    "    print('')\n",
    "    \n",
    "    df_shape_ = df.shape\n",
    "    \n",
    "    print(blue_start, df_name, '(первые', head_row, 'строк)', color_end)\n",
    "    display(df.head(head_row))\n",
    "    print('')\n",
    "    \n",
    "    print(blue_start,'Информация: ', color_end)\n",
    "    df.info()\n",
    "    print('')\n",
    "\n",
    "    try:\n",
    "        print(blue_start,'Описание числовых полей: ', color_end)\n",
    "        display(df.describe(exclude=['O']))\n",
    "    except ValueError:\n",
    "        print(blue_start,'Числовых полей нет!', color_end)\n",
    "        \n",
    "    print('')\n",
    "    \n",
    "    try:\n",
    "        print(blue_start,'Описание не числовых полей: ', color_end)\n",
    "        display(df.describe(include=['O']))\n",
    "    except ValueError:\n",
    "        print(blue_start,'Не числовых полей нет!', color_end)\n",
    "        \n",
    "    print('')\n",
    "\n",
    "    print(blue_start,'Пропуски: ', color_end)\n",
    "    display(df.isna().sum().T)\n",
    "    print('')\n",
    "    \n",
    "    df_duplicates = []\n",
    "    df_duplicates = df[df.duplicated()]\n",
    "\n",
    "    #isna_record_count  = df[df.isnull().any(axis=1)].drop_duplicates().shape[0]\n",
    "    record_count = df_shape_[0]\n",
    "    isna_record_count  = df[df.isnull().any(axis=1)].shape[0]\n",
    "    \n",
    "    print(blue_start, 'Доля записей, содержащих пропуски:',color_end, round((isna_record_count/record_count)*100, 2),'%')\n",
    "    \n",
    "    if len(df_duplicates) > 0:\n",
    "        print(' ')\n",
    "        print(blue_start,'Количество дубликатов:',len(df_duplicates), color_end)\n",
    "        print(blue_start,'Дубликаты (первые', head_row, 'строк)', color_end)\n",
    "        display(df_duplicates.head(head_row))\n",
    "        if drop_duplicates_flag:\n",
    "            print(blue_start,'Дубликаты удалены!', color_end)\n",
    "            df.drop_duplicates(keep = 'first', inplace = True)\n",
    "            df_duplicates = df[df.duplicated()]\n",
    "            print(blue_start,'Количество дубликатов после удаления:',len(df_duplicates), color_end)\n",
    "    else:\n",
    "        print(blue_start,'Дубликаты не обнаружены!', color_end)\n",
    "    print(' ')\n",
    "    return df_duplicates, df_shape_"
   ]
  },
  {
   "cell_type": "markdown",
   "id": "caabaeb2",
   "metadata": {},
   "source": [
    "## `load_date` - загрузка файлов"
   ]
  },
  {
   "cell_type": "code",
   "execution_count": 6,
   "id": "e4180f2a",
   "metadata": {},
   "outputs": [],
   "source": [
    "# Функция загрузки file_name_ с возможностью парсинга даты (парсить/не парсить) \n",
    "# и отображением первых file_name_ строк\n",
    "# последовательность попыток загрузки по локациям:\n",
    "#    - текущая (локальная) директория \n",
    "#    - директория тренажера\n",
    "#    - https://code.s3.yandex.net/datasets/\n",
    "\n",
    "def load_date(\n",
    "    file_name_,\n",
    "    parse_dates_,\n",
    "    head_rows_ = 1):\n",
    "    \n",
    "    read_csv_res = red_start + 'ОШИБКА - ' + file_name_ + '- не загружен' + color_end\n",
    "    err = False\n",
    "    try:\n",
    "        df_ = pd.read_csv(\n",
    "            file_name_,\n",
    "            parse_dates = parse_dates_\n",
    "        )\n",
    "        read_csv_res = blue_start + file_name_ + ' загружен из локальной директории' + color_end\n",
    "    except:\n",
    "        try:\n",
    "            file_path = '/datasets/'\n",
    "            df_ = pd.read_csv(\n",
    "                file_path + file_name_,\n",
    "                parse_dates = parse_dates_\n",
    "            )\n",
    "            read_csv_res = blue_start + file_name_ + ' загружен в тренажере' + color_end\n",
    "        except:\n",
    "            try:\n",
    "                file_path = 'https://'\n",
    "                df_ = pd.read_csv(\n",
    "                    file_path + file_name_,\n",
    "                    parse_dates = parse_dates_\n",
    "                )\n",
    "                read_csv_res = blue_start + file_name_ + ' загружен из - ' + file_path + color_end\n",
    "            except:\n",
    "                read_csv_res = red_start + 'ОШИБКА - '  + file_name_ + ' - не загружен' + color_end\n",
    "                err = True\n",
    "    print(read_csv_res)\n",
    "    if err:\n",
    "        return 'ОШИБКА ЧТЕНИЯ'\n",
    "    else:\n",
    "        df_.name = file_name_\n",
    "        display(df_.head(head_rows_))\n",
    "        return df_"
   ]
  },
  {
   "cell_type": "markdown",
   "id": "8a907d08",
   "metadata": {},
   "source": [
    "## `cross_vall_score` - определение RMSE модели по параметрам"
   ]
  },
  {
   "cell_type": "code",
   "execution_count": 7,
   "id": "38fd9c7d",
   "metadata": {},
   "outputs": [],
   "source": [
    "# Функция для определения лучших параметров сети по значению RMSE\n",
    "\n",
    "def cross_vall_score(\n",
    "    model,\n",
    "    X_train,\n",
    "    y_train,\n",
    "    optimizer,\n",
    "    epochs_count = 0,\n",
    "    batch_size = 0,\n",
    "    optimize_iteration_count = 0,\n",
    "    loss = nn.MSELoss()\n",
    "                    ):\n",
    "\n",
    "    # количество батчей\n",
    "    batch_count = ceil(len(X_train)/batch_size)\n",
    "\n",
    "    # размер валидационной выборки \n",
    "    validation_size = len(X_train)//optimize_iteration_count\n",
    "    \n",
    "    scores_ = []\n",
    "    \n",
    "    for iteration in range(optimize_iteration_count):\n",
    "        \n",
    "        #обнуляем веса уровней сети\n",
    "        for layer in model.children():\n",
    "            if hasattr(layer, 'reset_parameters'):\n",
    "                layer.reset_parameters()\n",
    "            \n",
    "        #формирование валидационной и тренировочной выборок\n",
    "        #валидационная выборка\n",
    "        validation_data = X_train[iteration * validation_size: (iteration + 1) * validation_size]\n",
    "        val_targets = y_train[iteration * validation_size: (iteration + 1) * validation_size]\n",
    "        \n",
    "        #тренировочная выборка\n",
    "        train_data_part = np.concatenate(\n",
    "            [\n",
    "                X_train[: iteration * validation_size],\n",
    "                X_train[ (iteration + 1) * validation_size:]\n",
    "            ], axis = 0\n",
    "                                           )\n",
    "        train_targets_part = np.concatenate(\n",
    "            [\n",
    "                y_train[: iteration * validation_size],\n",
    "                y_train[ (iteration + 1) * validation_size:]\n",
    "            ], axis = 0\n",
    "                                              )\n",
    "        \n",
    "        #формироыание тензоров\n",
    "        validation_data = torch.FloatTensor(validation_data)\n",
    "        val_targets = torch.FloatTensor(val_targets)\n",
    "        train_data_part = torch.FloatTensor(train_data_part)\n",
    "        train_targets_part = torch.FloatTensor(train_targets_part)\n",
    "\n",
    "        # цикл по эпохам\n",
    "        for epoch in range(epochs_count):\n",
    "            # формирование случайного набора индексов\n",
    "            order = np.random.permutation(len(train_data_part))\n",
    "\n",
    "            #цикл по батчам внутри эпохи\n",
    "            for batch_idx in range(batch_count):\n",
    "                # обнуление градиентов\n",
    "                optimizer.zero_grad()\n",
    "\n",
    "                #значение первого индекса батча\n",
    "                start_index = batch_idx * batch_size\n",
    "\n",
    "                #Формирование входящих признаков и таргета текущего батча\n",
    "                batch_indexes = order[start_index : start_index + batch_size]\n",
    "                \n",
    "                X_batch = train_data_part[batch_indexes]\n",
    "                y_batch = train_targets_part[batch_indexes]\n",
    "\n",
    "                #формирование прогноза по батчу\n",
    "                predicts = model.forward(X_batch).flatten()\n",
    "\n",
    "                #вычисление потерь\n",
    "                loss_value = loss(predicts, y_batch.flatten())\n",
    "\n",
    "                #вычисление значения градиента функции потерь\n",
    "                loss_value.backward()\n",
    "\n",
    "                #шаг работы оптимизатора (обновление весов сети)\n",
    "                optimizer.step()\n",
    "\n",
    "            # формирование прогноза и потерь по валидационной выборке по последней эпохе\n",
    "            if epoch == epochs_count - 1:\n",
    "#                print('epoch = ', epoch)\n",
    "\n",
    "                # перевод модели в режим предсказания.В этом режиме не будут \n",
    "                # вычисляться и накапливаться градиенты.\n",
    "                model.eval()\n",
    "\n",
    "                #формирование прогноза по валидационной выбоорке\n",
    "                val_predict = model.forward(validation_data)\n",
    "                \n",
    "                RMSE_ = round(float(torch.sqrt(loss(val_targets, val_predict))), 4)\n",
    "                scores_.append(RMSE_)\n",
    "                print(\n",
    "                    blue_start, '    Итерация ',color_end,iteration + 1,\n",
    "                    blue_start, 'RMSE = ',color_end,RMSE_\n",
    "                     )\n",
    "    mean_rmse = round((sum(scores_) / len(scores_)), 4)\n",
    "    print(\n",
    "        blue_start,\n",
    "        'Средняя RMSE =',\n",
    "        color_end,\n",
    "        mean_rmse,  '\\n'\n",
    "         )\n",
    "    return mean_rmse #scores_"
   ]
  },
  {
   "cell_type": "markdown",
   "id": "ed90a3e6",
   "metadata": {},
   "source": [
    "## `cross_val_run` - запуск процесса кросс валидации по модели."
   ]
  },
  {
   "cell_type": "code",
   "execution_count": 8,
   "id": "d458d281",
   "metadata": {},
   "outputs": [],
   "source": [
    "def cross_val_run(\n",
    "    net,\n",
    "    X_train_torch,\n",
    "    y_train_torch,\n",
    "    optimazer_lst, #OPTIMIZER_LST\n",
    "    bach_size = 0, #BATCH_SIZE\n",
    "    epochs_count = 0, #EPOCHS_COUNT\n",
    "    optimize_iteration_count = 0, #OPTIMAZE_ITTERATION_COUNT\n",
    "    loss = 0 #LOSS\n",
    "):\n",
    "    optimizer_index = 0\n",
    "    scores_ = []\n",
    "\n",
    "    # Цикл по оптимизаторам\n",
    "    for optimizer in optimazer_lst:\n",
    "        print(\n",
    "            blue_start,\n",
    "            '-------------------------------------------------------------------',\n",
    "            color_end\n",
    "             )\n",
    "        print(blue_start, 'Оптимизатор - ', color_end)\n",
    "        display(optimizer)\n",
    "\n",
    "        # Цикл по размерам батча\n",
    "        for current_bach_size in bach_size:\n",
    "            print(blue_start, 'batch_size = ', color_end, current_bach_size)\n",
    "\n",
    "            # Фиксация результатов работы модели по текущему оптимизатору и размеру батча\n",
    "            scores_.append([\n",
    "                optimizer_index,\n",
    "                current_bach_size,\n",
    "                cross_vall_score(\n",
    "                    net,\n",
    "                    X_train_torch,\n",
    "                    y_train_torch,\n",
    "                    optimizer,\n",
    "                    epochs_count = EPOCHS_COUNT,\n",
    "                    batch_size = current_bach_size, #BATCH_SIZE,\n",
    "                    optimize_iteration_count = OPTIMAZE_ITTERATION_COUNT,\n",
    "                    loss = LOSS\n",
    "                                )]\n",
    "                         )\n",
    "        optimizer_index += 1\n",
    "    return scores_"
   ]
  },
  {
   "cell_type": "markdown",
   "id": "f6e91024",
   "metadata": {},
   "source": [
    "## `add_columns` - добавляет столбцы в `to_df` из `from_df`, которых нет в `to_df`"
   ]
  },
  {
   "cell_type": "code",
   "execution_count": 9,
   "id": "504c4154",
   "metadata": {},
   "outputs": [],
   "source": [
    "def add_columns(from_df, to_df, fill_value = 0, sort_column_flag = False):\n",
    "#    print(from_df.columns[~from_df.columns.isin(to_df.columns)])\n",
    "    new_column_lst = from_df.columns[~from_df.columns.isin(to_df.columns)]\n",
    "    for i in new_column_lst:\n",
    "        to_df[i] = fill_value\n",
    "#        print(i)\n",
    "#    display(to_df.head(2))\n",
    "    if sort_column_flag:\n",
    "        to_df = to_df.reindex(sorted(to_df.columns), axis=1)\n",
    "    return new_column_lst, to_df"
   ]
  },
  {
   "cell_type": "markdown",
   "id": "3b602cb1",
   "metadata": {},
   "source": [
    "## `get_best_optimizer_index` - возвращает индекс лучшего оптимизатора"
   ]
  },
  {
   "cell_type": "code",
   "execution_count": 10,
   "id": "e00c5426",
   "metadata": {},
   "outputs": [],
   "source": [
    "def get_best_optimizer_index(scores_):\n",
    "    scores_mean = np.mean(scores_, axis=1).tolist()\n",
    "    read_csv_res = blue_start + file_name_ + ' загружен из - ' + file_path + color_end\n",
    "    print(blue_start, scores_mean, color_end)\n",
    "    best_optimizer_score_index = scores_mean.index(min(scores_mean))\n",
    "    print(blue_start,'Средняя RMSE =', color_end, min(scores_mean))\n",
    "    return best_optimizer_score_index"
   ]
  },
  {
   "cell_type": "markdown",
   "id": "a982fcc6",
   "metadata": {},
   "source": [
    "## `fit_model` - обучение модели по параметрам"
   ]
  },
  {
   "cell_type": "code",
   "execution_count": 11,
   "id": "23b79d60",
   "metadata": {},
   "outputs": [],
   "source": [
    "# Функция обучает сеть батчами с заданным количеством эпох\n",
    "def fit_model(\n",
    "    model,\n",
    "    X_train,\n",
    "    y_train,\n",
    "    optimizer,\n",
    "    epochs_count = 0,\n",
    "    batch_size = 0,\n",
    "    loss = nn.MSELoss()\n",
    "             ):\n",
    "\n",
    "    # Вычисление количества батчей\n",
    "    batch_count = ceil(len(X_train) / batch_size)\n",
    "\n",
    "    # Цикл по эпохам\n",
    "    for epoch in range(epochs_count):\n",
    "        #случайная перестановка индексов\n",
    "        order = np.random.permutation(len(X_train))\n",
    "        # Цикл по батчам\n",
    "        for batch_idx in range(batch_count):\n",
    "            start_index = batch_idx * batch_size \n",
    "            optimizer.zero_grad() \n",
    "\n",
    "            #индексы для текущего батча\n",
    "            batch_indexes = order[start_index:start_index + batch_size]\n",
    "\n",
    "            # выборка входящих параметров, включающая batch_indexes\n",
    "            X_batch = X_train[batch_indexes]\n",
    "            # таргет - выборка, включающая batch_indexes\n",
    "            y_batch = y_train[batch_indexes]\n",
    "\n",
    "            # получение прогноза\n",
    "            preds = model.forward(X_batch).flatten() \n",
    "\n",
    "            # вычисление потерь\n",
    "            loss_value = loss(preds, y_batch.flatten())\n",
    "            \n",
    "            # вычисление значение градиента функции потерь\n",
    "            loss_value.backward()\n",
    "            # выполнение шага работы оптимизатора (обновление весов в сети)\n",
    "            optimizer.step()\n",
    "    return  model"
   ]
  },
  {
   "cell_type": "markdown",
   "id": "4d09851e",
   "metadata": {},
   "source": [
    "## `Model` - определение класса модели для прогнозирования"
   ]
  },
  {
   "cell_type": "code",
   "execution_count": 12,
   "id": "e60e3a77",
   "metadata": {},
   "outputs": [],
   "source": [
    "# Параметры модели:\n",
    "# n_in_neurons - количество нейронов на входе\n",
    "# n_hidden_neurons_1  - количество нейронов первого слоя\n",
    "# n_hidden_neurons_2  - количество нейронов второго слоя\n",
    "# n_hidden_neurons_3  - количество нейронов третьего слоя\n",
    "# n_out_neurons       - количество нейронов на выходе\n",
    "# normalization_flag  - параметр определяет включать (True), или не включать (False) регуляризацию\n",
    "\n",
    "# третий слой закоментарен, т.к. не результативен\n",
    "\n",
    "class Model(nn.Module):\n",
    "    def __init__(\n",
    "        self,\n",
    "        n_in_neurons,\n",
    "        n_hidden_neurons_1,\n",
    "        n_hidden_neurons_2,\n",
    "        n_hidden_neurons_3,\n",
    "        n_out_neurons,\n",
    "        normalization_flag = False\n",
    "                ):\n",
    "        \n",
    "        super(Model, self).__init__()\n",
    "\n",
    "        self.normalization_flag = normalization_flag\n",
    "        \n",
    "        self.fc1 = nn.Linear(n_in_neurons, n_hidden_neurons_1)\n",
    "        self.act1 = nn.ReLU()\n",
    "        if normalization_flag:\n",
    "            self.bn1 = nn.BatchNorm1d(n_hidden_neurons_1)\n",
    "        \n",
    "        self.fc2 = nn.Linear(n_hidden_neurons_1, n_hidden_neurons_2)\n",
    "        self.act2 = nn.ReLU()\n",
    "        \n",
    "        if normalization_flag:\n",
    "            self.dp2 = nn.Dropout(p = 0.2)\n",
    "##            self.bn2 = nn.BatchNorm1d(n_hidden_neurons_2)\n",
    "\n",
    "#        self.fc3 = nn.Linear(n_hidden_neurons_2, n_hidden_neurons_3)\n",
    "#        self.act3 = nn.ReLU()\n",
    "        \n",
    "#        if normalization_flag:\n",
    "#            self.dp3 = nn.Dropout(p = 0.2)\n",
    "#            self.bn3 = nn.BatchNorm1d(n_hidden_neurons_3)\n",
    "\n",
    "#        self.fc4 = nn.Linear(n_hidden_neurons_3, n_out_neurons)\n",
    "#        self.act4 = nn.Sigmoid()\n",
    "\n",
    "        self.fc3 = nn.Linear(n_hidden_neurons_2, n_out_neurons)\n",
    "        self.act3 = nn.Sigmoid()\n",
    "\n",
    "    def forward(self, x):\n",
    "        x = self.fc1(x)\n",
    "        if self.normalization_flag:\n",
    "            x = self.bn1(x)\n",
    "        x = self.act1(x)\n",
    "        \n",
    "        if self.normalization_flag:\n",
    "            x = self.dp2(x)\n",
    "        x = self.fc2(x)\n",
    "##        if self.normalization_flag:\n",
    "##            x = self.bn2(x)\n",
    "        x = self.act2(x)\n",
    "        \n",
    "#        if self.normalization_flag:\n",
    "#            x = self.dp3(x)\n",
    "#        x = self.fc3(x)\n",
    "#        if self.normalization_flag:\n",
    "#            x = self.bn3(x)\n",
    "#        x = self.act3(x)\n",
    "        \n",
    "\n",
    "#        x = self.fc4(x)\n",
    "\n",
    "        x = self.fc3(x)\n",
    "        \n",
    "        return x"
   ]
  },
  {
   "cell_type": "markdown",
   "id": "e531539f",
   "metadata": {},
   "source": [
    "## `get_optimizer_lst` - возвращает список оптимизаторов для объекта класса `Model`"
   ]
  },
  {
   "cell_type": "code",
   "execution_count": 13,
   "id": "56c49544",
   "metadata": {},
   "outputs": [],
   "source": [
    "def get_optimizer_lst(net_):\n",
    "    optimizer_lst_ = [\n",
    "        torch.optim.RMSprop(net_.parameters(), lr=1e-3),\n",
    "        torch.optim.RMSprop(net_.parameters(), lr=1e-2),\n",
    "        \n",
    "        torch.optim.Adam(net_.parameters(), lr = 1e-3),\n",
    "        torch.optim.Adam(net_.parameters(), lr = 1e-2),\n",
    "    \n",
    "        torch.optim.Adamax(net_.parameters(), lr = 1e-3),\n",
    "        torch.optim.Adamax(net_.parameters(), lr = 1e-2)\n",
    "    ]    \n",
    "    return optimizer_lst_"
   ]
  },
  {
   "cell_type": "markdown",
   "id": "ec2b6930",
   "metadata": {},
   "source": [
    "## `get_best_model_validation_params` - возвращает параметры модели с минимальным RMSE"
   ]
  },
  {
   "cell_type": "code",
   "execution_count": 14,
   "id": "e75da77b",
   "metadata": {},
   "outputs": [],
   "source": [
    "def get_best_model_validation_params(\n",
    "    scores_,\n",
    "    optimazer_lst,\n",
    "    metrica_field = 'RMSE',\n",
    "    optimizer_index_field = 'optimizer_index',\n",
    "    batch_size_field = 'batch_size'):\n",
    "\n",
    "    # Поиск best_optimizer_score_index - индекс оптимизатора с минимальным значением metrica_field\n",
    "    best_optimizer_score_index = scores[optimizer_index_field].loc[\n",
    "    scores[metrica_field] == scores[metrica_field].min()\n",
    "    ].values[0]\n",
    "    \n",
    "    # Поиск best_batch_size - оптимального размера батча для \n",
    "    # минимального значением metrica_field\n",
    "    best_batch_size = scores[batch_size_field].loc[\n",
    "    scores[metrica_field] == scores[metrica_field].min()\n",
    "    ].values[0]\n",
    "\n",
    "    # Минимальное значение метрики\n",
    "    best_metrica_val = scores[metrica_field].loc[scores[metrica_field] == scores[metrica_field].min()].values[0]\n",
    "    \n",
    "    print(blue_start, 'Оптимальные параматры модели:', color_end)\n",
    "    best_optimazer = optimazer_lst[best_optimizer_score_index]\n",
    "    print(blue_start, '    Лучший оптимайцзер - ', color_end, optimazer_lst[best_optimizer_score_index].__class__.__name__)\n",
    "    print(blue_start, '    Индекс оптимизатора - ', color_end, best_optimizer_score_index)\n",
    "    print(blue_start, '    Размер батча - ', color_end, best_batch_size)\n",
    "    \n",
    "    print(' ')\n",
    "    print(blue_start, 'Значение метрики - ', best_metrica_val, color_end)\n",
    "    \n",
    "    return best_optimizer_score_index, best_batch_size, best_metrica_val"
   ]
  },
  {
   "cell_type": "markdown",
   "id": "49aaef26",
   "metadata": {},
   "source": [
    "## `harvard_color_stars_method` - возвращает цвет в соответствии с температурой планеты по Гарвардскому классификатору"
   ]
  },
  {
   "cell_type": "code",
   "execution_count": 15,
   "id": "e7a5de7c",
   "metadata": {},
   "outputs": [],
   "source": [
    "def harvard_color_stars_method(temperature_):\n",
    "    if temperature_ > 30000:\n",
    "        return 'blue'\n",
    "    elif 30000 >= temperature_ > 10000:\n",
    "        return 'blue_white'\n",
    "    elif 10000 >= temperature_ > 7400:\n",
    "        return 'white'\n",
    "    elif 7400 >= temperature_ > 6000:\n",
    "        return 'yellow_white'\n",
    "    elif 6000 >= temperature_ > 5000:\n",
    "        return 'yellow'\n",
    "    elif 5000 >= temperature_ > 3800:\n",
    "        return 'orange'\n",
    "    else:\n",
    "        return 'red'"
   ]
  },
  {
   "cell_type": "markdown",
   "id": "corresponding-armstrong",
   "metadata": {
    "ExecuteTime": {
     "end_time": "2022-05-05T04:58:05.692448Z",
     "start_time": "2022-05-05T04:58:05.688565Z"
    }
   },
   "source": [
    "# Загрузка данных"
   ]
  },
  {
   "cell_type": "code",
   "execution_count": 16,
   "id": "spectacular-folder",
   "metadata": {},
   "outputs": [
    {
     "name": "stdout",
     "output_type": "stream",
     "text": [
      "\u001b[94m6_class.csv загружен из локальной директории\u001b[0m\n"
     ]
    },
    {
     "data": {
      "text/html": [
       "<div>\n",
       "<style scoped>\n",
       "    .dataframe tbody tr th:only-of-type {\n",
       "        vertical-align: middle;\n",
       "    }\n",
       "\n",
       "    .dataframe tbody tr th {\n",
       "        vertical-align: top;\n",
       "    }\n",
       "\n",
       "    .dataframe thead th {\n",
       "        text-align: right;\n",
       "    }\n",
       "</style>\n",
       "<table border=\"1\" class=\"dataframe\">\n",
       "  <thead>\n",
       "    <tr style=\"text-align: right;\">\n",
       "      <th></th>\n",
       "      <th>Unnamed: 0</th>\n",
       "      <th>Temperature (K)</th>\n",
       "      <th>Luminosity(L/Lo)</th>\n",
       "      <th>Radius(R/Ro)</th>\n",
       "      <th>Absolute magnitude(Mv)</th>\n",
       "      <th>Star type</th>\n",
       "      <th>Star color</th>\n",
       "    </tr>\n",
       "  </thead>\n",
       "  <tbody>\n",
       "    <tr>\n",
       "      <th>0</th>\n",
       "      <td>0</td>\n",
       "      <td>3068</td>\n",
       "      <td>0.0024</td>\n",
       "      <td>0.1700</td>\n",
       "      <td>16.12</td>\n",
       "      <td>0</td>\n",
       "      <td>Red</td>\n",
       "    </tr>\n",
       "    <tr>\n",
       "      <th>1</th>\n",
       "      <td>1</td>\n",
       "      <td>3042</td>\n",
       "      <td>0.0005</td>\n",
       "      <td>0.1542</td>\n",
       "      <td>16.60</td>\n",
       "      <td>0</td>\n",
       "      <td>Red</td>\n",
       "    </tr>\n",
       "    <tr>\n",
       "      <th>2</th>\n",
       "      <td>2</td>\n",
       "      <td>2600</td>\n",
       "      <td>0.0003</td>\n",
       "      <td>0.1020</td>\n",
       "      <td>18.70</td>\n",
       "      <td>0</td>\n",
       "      <td>Red</td>\n",
       "    </tr>\n",
       "  </tbody>\n",
       "</table>\n",
       "</div>"
      ],
      "text/plain": [
       "   Unnamed: 0  Temperature (K)  Luminosity(L/Lo)  Radius(R/Ro)  \\\n",
       "0           0             3068            0.0024        0.1700   \n",
       "1           1             3042            0.0005        0.1542   \n",
       "2           2             2600            0.0003        0.1020   \n",
       "\n",
       "   Absolute magnitude(Mv)  Star type Star color  \n",
       "0                   16.12          0        Red  \n",
       "1                   16.60          0        Red  \n",
       "2                   18.70          0        Red  "
      ]
     },
     "metadata": {},
     "output_type": "display_data"
    }
   ],
   "source": [
    "stars_df = load_date(file_name_ = '6_class.csv', parse_dates_ = [], head_rows_ = 3)"
   ]
  },
  {
   "cell_type": "markdown",
   "id": "dfbbb292",
   "metadata": {},
   "source": [
    "## `Выводы`"
   ]
  },
  {
   "cell_type": "markdown",
   "id": "388d1719",
   "metadata": {},
   "source": [
    "* Данные загружены"
   ]
  },
  {
   "cell_type": "markdown",
   "id": "simple-subdivision",
   "metadata": {},
   "source": [
    "# Предобработка данных"
   ]
  },
  {
   "cell_type": "markdown",
   "id": "dbb66202",
   "metadata": {},
   "source": [
    "## Переименование полей (Snake case стиль)"
   ]
  },
  {
   "cell_type": "code",
   "execution_count": 17,
   "id": "6e1521cb",
   "metadata": {},
   "outputs": [],
   "source": [
    "original_columns = stars_df.columns\n",
    "stars_df.columns = [\n",
    "    'star_index',\n",
    "    'temperature',\n",
    "    'luminosity',\n",
    "    'radius',\n",
    "    'absolute_magnitude',\n",
    "    'star_type',\n",
    "    'star_color'\n",
    "]\n",
    "stars_df.set_index('star_index', inplace = True)"
   ]
  },
  {
   "cell_type": "markdown",
   "id": "e90c2665",
   "metadata": {},
   "source": [
    "## Информация о датафрейме"
   ]
  },
  {
   "cell_type": "code",
   "execution_count": 18,
   "id": "d5ad6115",
   "metadata": {},
   "outputs": [
    {
     "name": "stdout",
     "output_type": "stream",
     "text": [
      "\u001b[95m ------------------------------------------------------------------------------------------------------------------------------------- \u001b[0m\n",
      "\u001b[94m Имя: 6_class.csv \u001b[0m\n",
      "\n",
      "\u001b[94m 6_class.csv (первые 3 строк) \u001b[0m\n"
     ]
    },
    {
     "data": {
      "text/html": [
       "<div>\n",
       "<style scoped>\n",
       "    .dataframe tbody tr th:only-of-type {\n",
       "        vertical-align: middle;\n",
       "    }\n",
       "\n",
       "    .dataframe tbody tr th {\n",
       "        vertical-align: top;\n",
       "    }\n",
       "\n",
       "    .dataframe thead th {\n",
       "        text-align: right;\n",
       "    }\n",
       "</style>\n",
       "<table border=\"1\" class=\"dataframe\">\n",
       "  <thead>\n",
       "    <tr style=\"text-align: right;\">\n",
       "      <th></th>\n",
       "      <th>temperature</th>\n",
       "      <th>luminosity</th>\n",
       "      <th>radius</th>\n",
       "      <th>absolute_magnitude</th>\n",
       "      <th>star_type</th>\n",
       "      <th>star_color</th>\n",
       "    </tr>\n",
       "    <tr>\n",
       "      <th>star_index</th>\n",
       "      <th></th>\n",
       "      <th></th>\n",
       "      <th></th>\n",
       "      <th></th>\n",
       "      <th></th>\n",
       "      <th></th>\n",
       "    </tr>\n",
       "  </thead>\n",
       "  <tbody>\n",
       "    <tr>\n",
       "      <th>0</th>\n",
       "      <td>3068</td>\n",
       "      <td>0.0024</td>\n",
       "      <td>0.1700</td>\n",
       "      <td>16.12</td>\n",
       "      <td>0</td>\n",
       "      <td>Red</td>\n",
       "    </tr>\n",
       "    <tr>\n",
       "      <th>1</th>\n",
       "      <td>3042</td>\n",
       "      <td>0.0005</td>\n",
       "      <td>0.1542</td>\n",
       "      <td>16.60</td>\n",
       "      <td>0</td>\n",
       "      <td>Red</td>\n",
       "    </tr>\n",
       "    <tr>\n",
       "      <th>2</th>\n",
       "      <td>2600</td>\n",
       "      <td>0.0003</td>\n",
       "      <td>0.1020</td>\n",
       "      <td>18.70</td>\n",
       "      <td>0</td>\n",
       "      <td>Red</td>\n",
       "    </tr>\n",
       "  </tbody>\n",
       "</table>\n",
       "</div>"
      ],
      "text/plain": [
       "            temperature  luminosity  radius  absolute_magnitude  star_type  \\\n",
       "star_index                                                                   \n",
       "0                  3068      0.0024  0.1700               16.12          0   \n",
       "1                  3042      0.0005  0.1542               16.60          0   \n",
       "2                  2600      0.0003  0.1020               18.70          0   \n",
       "\n",
       "           star_color  \n",
       "star_index             \n",
       "0                 Red  \n",
       "1                 Red  \n",
       "2                 Red  "
      ]
     },
     "metadata": {},
     "output_type": "display_data"
    },
    {
     "name": "stdout",
     "output_type": "stream",
     "text": [
      "\n",
      "\u001b[94m Информация:  \u001b[0m\n",
      "<class 'pandas.core.frame.DataFrame'>\n",
      "Index: 240 entries, 0 to 239\n",
      "Data columns (total 6 columns):\n",
      " #   Column              Non-Null Count  Dtype  \n",
      "---  ------              --------------  -----  \n",
      " 0   temperature         240 non-null    int64  \n",
      " 1   luminosity          240 non-null    float64\n",
      " 2   radius              240 non-null    float64\n",
      " 3   absolute_magnitude  240 non-null    float64\n",
      " 4   star_type           240 non-null    int64  \n",
      " 5   star_color          240 non-null    object \n",
      "dtypes: float64(3), int64(2), object(1)\n",
      "memory usage: 13.1+ KB\n",
      "\n",
      "\u001b[94m Описание числовых полей:  \u001b[0m\n"
     ]
    },
    {
     "data": {
      "text/html": [
       "<div>\n",
       "<style scoped>\n",
       "    .dataframe tbody tr th:only-of-type {\n",
       "        vertical-align: middle;\n",
       "    }\n",
       "\n",
       "    .dataframe tbody tr th {\n",
       "        vertical-align: top;\n",
       "    }\n",
       "\n",
       "    .dataframe thead th {\n",
       "        text-align: right;\n",
       "    }\n",
       "</style>\n",
       "<table border=\"1\" class=\"dataframe\">\n",
       "  <thead>\n",
       "    <tr style=\"text-align: right;\">\n",
       "      <th></th>\n",
       "      <th>temperature</th>\n",
       "      <th>luminosity</th>\n",
       "      <th>radius</th>\n",
       "      <th>absolute_magnitude</th>\n",
       "      <th>star_type</th>\n",
       "    </tr>\n",
       "  </thead>\n",
       "  <tbody>\n",
       "    <tr>\n",
       "      <th>count</th>\n",
       "      <td>240.000000</td>\n",
       "      <td>240.000000</td>\n",
       "      <td>240.000000</td>\n",
       "      <td>240.000000</td>\n",
       "      <td>240.000000</td>\n",
       "    </tr>\n",
       "    <tr>\n",
       "      <th>mean</th>\n",
       "      <td>10497.462500</td>\n",
       "      <td>107188.361635</td>\n",
       "      <td>237.157781</td>\n",
       "      <td>4.382396</td>\n",
       "      <td>2.500000</td>\n",
       "    </tr>\n",
       "    <tr>\n",
       "      <th>std</th>\n",
       "      <td>9552.425037</td>\n",
       "      <td>179432.244940</td>\n",
       "      <td>517.155763</td>\n",
       "      <td>10.532512</td>\n",
       "      <td>1.711394</td>\n",
       "    </tr>\n",
       "    <tr>\n",
       "      <th>min</th>\n",
       "      <td>1939.000000</td>\n",
       "      <td>0.000080</td>\n",
       "      <td>0.008400</td>\n",
       "      <td>-11.920000</td>\n",
       "      <td>0.000000</td>\n",
       "    </tr>\n",
       "    <tr>\n",
       "      <th>25%</th>\n",
       "      <td>3344.250000</td>\n",
       "      <td>0.000865</td>\n",
       "      <td>0.102750</td>\n",
       "      <td>-6.232500</td>\n",
       "      <td>1.000000</td>\n",
       "    </tr>\n",
       "    <tr>\n",
       "      <th>50%</th>\n",
       "      <td>5776.000000</td>\n",
       "      <td>0.070500</td>\n",
       "      <td>0.762500</td>\n",
       "      <td>8.313000</td>\n",
       "      <td>2.500000</td>\n",
       "    </tr>\n",
       "    <tr>\n",
       "      <th>75%</th>\n",
       "      <td>15055.500000</td>\n",
       "      <td>198050.000000</td>\n",
       "      <td>42.750000</td>\n",
       "      <td>13.697500</td>\n",
       "      <td>4.000000</td>\n",
       "    </tr>\n",
       "    <tr>\n",
       "      <th>max</th>\n",
       "      <td>40000.000000</td>\n",
       "      <td>849420.000000</td>\n",
       "      <td>1948.500000</td>\n",
       "      <td>20.060000</td>\n",
       "      <td>5.000000</td>\n",
       "    </tr>\n",
       "  </tbody>\n",
       "</table>\n",
       "</div>"
      ],
      "text/plain": [
       "        temperature     luminosity       radius  absolute_magnitude  \\\n",
       "count    240.000000     240.000000   240.000000          240.000000   \n",
       "mean   10497.462500  107188.361635   237.157781            4.382396   \n",
       "std     9552.425037  179432.244940   517.155763           10.532512   \n",
       "min     1939.000000       0.000080     0.008400          -11.920000   \n",
       "25%     3344.250000       0.000865     0.102750           -6.232500   \n",
       "50%     5776.000000       0.070500     0.762500            8.313000   \n",
       "75%    15055.500000  198050.000000    42.750000           13.697500   \n",
       "max    40000.000000  849420.000000  1948.500000           20.060000   \n",
       "\n",
       "        star_type  \n",
       "count  240.000000  \n",
       "mean     2.500000  \n",
       "std      1.711394  \n",
       "min      0.000000  \n",
       "25%      1.000000  \n",
       "50%      2.500000  \n",
       "75%      4.000000  \n",
       "max      5.000000  "
      ]
     },
     "metadata": {},
     "output_type": "display_data"
    },
    {
     "name": "stdout",
     "output_type": "stream",
     "text": [
      "\n",
      "\u001b[94m Описание не числовых полей:  \u001b[0m\n"
     ]
    },
    {
     "data": {
      "text/html": [
       "<div>\n",
       "<style scoped>\n",
       "    .dataframe tbody tr th:only-of-type {\n",
       "        vertical-align: middle;\n",
       "    }\n",
       "\n",
       "    .dataframe tbody tr th {\n",
       "        vertical-align: top;\n",
       "    }\n",
       "\n",
       "    .dataframe thead th {\n",
       "        text-align: right;\n",
       "    }\n",
       "</style>\n",
       "<table border=\"1\" class=\"dataframe\">\n",
       "  <thead>\n",
       "    <tr style=\"text-align: right;\">\n",
       "      <th></th>\n",
       "      <th>star_color</th>\n",
       "    </tr>\n",
       "  </thead>\n",
       "  <tbody>\n",
       "    <tr>\n",
       "      <th>count</th>\n",
       "      <td>240</td>\n",
       "    </tr>\n",
       "    <tr>\n",
       "      <th>unique</th>\n",
       "      <td>19</td>\n",
       "    </tr>\n",
       "    <tr>\n",
       "      <th>top</th>\n",
       "      <td>Red</td>\n",
       "    </tr>\n",
       "    <tr>\n",
       "      <th>freq</th>\n",
       "      <td>112</td>\n",
       "    </tr>\n",
       "  </tbody>\n",
       "</table>\n",
       "</div>"
      ],
      "text/plain": [
       "       star_color\n",
       "count         240\n",
       "unique         19\n",
       "top           Red\n",
       "freq          112"
      ]
     },
     "metadata": {},
     "output_type": "display_data"
    },
    {
     "name": "stdout",
     "output_type": "stream",
     "text": [
      "\n",
      "\u001b[94m Пропуски:  \u001b[0m\n"
     ]
    },
    {
     "data": {
      "text/plain": [
       "temperature           0\n",
       "luminosity            0\n",
       "radius                0\n",
       "absolute_magnitude    0\n",
       "star_type             0\n",
       "star_color            0\n",
       "dtype: int64"
      ]
     },
     "metadata": {},
     "output_type": "display_data"
    },
    {
     "name": "stdout",
     "output_type": "stream",
     "text": [
      "\n",
      "\u001b[94m Доля записей, содержащих пропуски: \u001b[0m 0.0 %\n",
      "\u001b[94m Дубликаты не обнаружены! \u001b[0m\n",
      " \n"
     ]
    }
   ],
   "source": [
    "duplicates_df, stars_df__original_shape = df_inf(df = stars_df, head_row = 3, drop_duplicates_flag = False)"
   ]
  },
  {
   "cell_type": "code",
   "execution_count": 19,
   "id": "827612ec",
   "metadata": {},
   "outputs": [],
   "source": [
    "# Замена типов категориальных полей\n",
    "\n",
    "stars_df['star_color'] = stars_df['star_color'].astype('category')\n",
    "stars_df['star_type'] = stars_df['star_type'].astype('category')"
   ]
  },
  {
   "cell_type": "code",
   "execution_count": 20,
   "id": "d84eda26",
   "metadata": {},
   "outputs": [
    {
     "name": "stdout",
     "output_type": "stream",
     "text": [
      "---------------------------------------------------------------------------------------------------------\n",
      "\u001b[94m Поле -  \u001b[0m star_color\n",
      "\u001b[94m Количество уникальных значений -   \u001b[0m 19\n",
      "\u001b[94m Количество пропусков -  \u001b[0m 0\n",
      "\n"
     ]
    },
    {
     "data": {
      "text/html": [
       "<div>\n",
       "<style scoped>\n",
       "    .dataframe tbody tr th:only-of-type {\n",
       "        vertical-align: middle;\n",
       "    }\n",
       "\n",
       "    .dataframe tbody tr th {\n",
       "        vertical-align: top;\n",
       "    }\n",
       "\n",
       "    .dataframe thead th {\n",
       "        text-align: right;\n",
       "    }\n",
       "</style>\n",
       "<table border=\"1\" class=\"dataframe\">\n",
       "  <thead>\n",
       "    <tr style=\"text-align: right;\">\n",
       "      <th></th>\n",
       "      <th>Значение</th>\n",
       "      <th>Количество</th>\n",
       "    </tr>\n",
       "  </thead>\n",
       "  <tbody>\n",
       "    <tr>\n",
       "      <th>0</th>\n",
       "      <td>Blue</td>\n",
       "      <td>55</td>\n",
       "    </tr>\n",
       "    <tr>\n",
       "      <th>1</th>\n",
       "      <td>Blue</td>\n",
       "      <td>1</td>\n",
       "    </tr>\n",
       "    <tr>\n",
       "      <th>2</th>\n",
       "      <td>Blue White</td>\n",
       "      <td>10</td>\n",
       "    </tr>\n",
       "    <tr>\n",
       "      <th>3</th>\n",
       "      <td>Blue white</td>\n",
       "      <td>3</td>\n",
       "    </tr>\n",
       "    <tr>\n",
       "      <th>4</th>\n",
       "      <td>Blue white</td>\n",
       "      <td>1</td>\n",
       "    </tr>\n",
       "    <tr>\n",
       "      <th>5</th>\n",
       "      <td>Blue-White</td>\n",
       "      <td>1</td>\n",
       "    </tr>\n",
       "    <tr>\n",
       "      <th>6</th>\n",
       "      <td>Blue-white</td>\n",
       "      <td>26</td>\n",
       "    </tr>\n",
       "    <tr>\n",
       "      <th>7</th>\n",
       "      <td>Orange</td>\n",
       "      <td>2</td>\n",
       "    </tr>\n",
       "    <tr>\n",
       "      <th>8</th>\n",
       "      <td>Orange-Red</td>\n",
       "      <td>1</td>\n",
       "    </tr>\n",
       "    <tr>\n",
       "      <th>9</th>\n",
       "      <td>Pale yellow orange</td>\n",
       "      <td>1</td>\n",
       "    </tr>\n",
       "    <tr>\n",
       "      <th>10</th>\n",
       "      <td>Red</td>\n",
       "      <td>112</td>\n",
       "    </tr>\n",
       "    <tr>\n",
       "      <th>11</th>\n",
       "      <td>White</td>\n",
       "      <td>7</td>\n",
       "    </tr>\n",
       "    <tr>\n",
       "      <th>12</th>\n",
       "      <td>White-Yellow</td>\n",
       "      <td>1</td>\n",
       "    </tr>\n",
       "    <tr>\n",
       "      <th>13</th>\n",
       "      <td>Whitish</td>\n",
       "      <td>2</td>\n",
       "    </tr>\n",
       "    <tr>\n",
       "      <th>14</th>\n",
       "      <td>Yellowish</td>\n",
       "      <td>1</td>\n",
       "    </tr>\n",
       "    <tr>\n",
       "      <th>15</th>\n",
       "      <td>Yellowish White</td>\n",
       "      <td>3</td>\n",
       "    </tr>\n",
       "    <tr>\n",
       "      <th>16</th>\n",
       "      <td>white</td>\n",
       "      <td>3</td>\n",
       "    </tr>\n",
       "    <tr>\n",
       "      <th>17</th>\n",
       "      <td>yellow-white</td>\n",
       "      <td>8</td>\n",
       "    </tr>\n",
       "    <tr>\n",
       "      <th>18</th>\n",
       "      <td>yellowish</td>\n",
       "      <td>2</td>\n",
       "    </tr>\n",
       "  </tbody>\n",
       "</table>\n",
       "</div>"
      ],
      "text/plain": [
       "              Значение  Количество\n",
       "0                 Blue          55\n",
       "1                Blue            1\n",
       "2           Blue White          10\n",
       "3           Blue white           3\n",
       "4          Blue white            1\n",
       "5           Blue-White           1\n",
       "6           Blue-white          26\n",
       "7               Orange           2\n",
       "8           Orange-Red           1\n",
       "9   Pale yellow orange           1\n",
       "10                 Red         112\n",
       "11               White           7\n",
       "12        White-Yellow           1\n",
       "13             Whitish           2\n",
       "14           Yellowish           1\n",
       "15     Yellowish White           3\n",
       "16               white           3\n",
       "17        yellow-white           8\n",
       "18           yellowish           2"
      ]
     },
     "metadata": {},
     "output_type": "display_data"
    },
    {
     "name": "stdout",
     "output_type": "stream",
     "text": [
      "---------------------------------------------------------------------------------------------------------\n",
      "\u001b[94m Поле -  \u001b[0m star_type\n",
      "\u001b[94m Количество уникальных значений -   \u001b[0m 6\n",
      "\u001b[94m Количество пропусков -  \u001b[0m 0\n",
      "\n"
     ]
    },
    {
     "data": {
      "text/html": [
       "<div>\n",
       "<style scoped>\n",
       "    .dataframe tbody tr th:only-of-type {\n",
       "        vertical-align: middle;\n",
       "    }\n",
       "\n",
       "    .dataframe tbody tr th {\n",
       "        vertical-align: top;\n",
       "    }\n",
       "\n",
       "    .dataframe thead th {\n",
       "        text-align: right;\n",
       "    }\n",
       "</style>\n",
       "<table border=\"1\" class=\"dataframe\">\n",
       "  <thead>\n",
       "    <tr style=\"text-align: right;\">\n",
       "      <th></th>\n",
       "      <th>Значение</th>\n",
       "      <th>Количество</th>\n",
       "    </tr>\n",
       "  </thead>\n",
       "  <tbody>\n",
       "    <tr>\n",
       "      <th>0</th>\n",
       "      <td>0</td>\n",
       "      <td>40</td>\n",
       "    </tr>\n",
       "    <tr>\n",
       "      <th>1</th>\n",
       "      <td>1</td>\n",
       "      <td>40</td>\n",
       "    </tr>\n",
       "    <tr>\n",
       "      <th>2</th>\n",
       "      <td>2</td>\n",
       "      <td>40</td>\n",
       "    </tr>\n",
       "    <tr>\n",
       "      <th>3</th>\n",
       "      <td>3</td>\n",
       "      <td>40</td>\n",
       "    </tr>\n",
       "    <tr>\n",
       "      <th>4</th>\n",
       "      <td>4</td>\n",
       "      <td>40</td>\n",
       "    </tr>\n",
       "    <tr>\n",
       "      <th>5</th>\n",
       "      <td>5</td>\n",
       "      <td>40</td>\n",
       "    </tr>\n",
       "  </tbody>\n",
       "</table>\n",
       "</div>"
      ],
      "text/plain": [
       "  Значение  Количество\n",
       "0        0          40\n",
       "1        1          40\n",
       "2        2          40\n",
       "3        3          40\n",
       "4        4          40\n",
       "5        5          40"
      ]
     },
     "metadata": {},
     "output_type": "display_data"
    }
   ],
   "source": [
    "# Вывод информации по уникальным значениям категориальных полей\n",
    "cat_field_lst = ['star_color', 'star_type']\n",
    "check_categorical_fields(df_ = stars_df, fields_lst = cat_field_lst, print_unique_val = True)"
   ]
  },
  {
   "cell_type": "raw",
   "id": "dc9e8233",
   "metadata": {},
   "source": [
    "# Удаление пробелов в начале и в конце значений поля star_color\n",
    "stars_df['star_color'] = stars_df['star_color'].str.strip()"
   ]
  },
  {
   "cell_type": "raw",
   "id": "16a41313",
   "metadata": {},
   "source": [
    "# Исключение смысловых дубликатов. Приведение значений к стилю Snake case\n",
    "\n",
    "stars_df['star_color'].replace(\n",
    "    {'Blue': 'blue',\n",
    "     'Blue White': 'blue_white',\n",
    "     'Blue white': 'blue_white',\n",
    "     'Blue-White': 'blue_white',\n",
    "     'Blue-white': 'blue_white',\n",
    "\n",
    "     'White': 'white',\n",
    "     'Whitish': 'whitish',\n",
    "\n",
    "     'White-Yellow': 'white_yellow',\n",
    "     'yellow-white': 'yellow_white',\n",
    "     'Yellowish': 'yellowish',\n",
    "     'Yellowish White': 'yellowish_white',\n",
    "     'Pale yellow orange': 'pale_yellow_orange',\n",
    "\n",
    "     'Orange': 'orange',\n",
    "     'Orange-Red': 'orange_red',\n",
    "     'Orange': 'orange',\n",
    "\n",
    "     'Red': 'red',\n",
    "    }, \n",
    "    inplace=True\n",
    "                        )"
   ]
  },
  {
   "cell_type": "code",
   "execution_count": 21,
   "id": "465f0ff0",
   "metadata": {},
   "outputs": [],
   "source": [
    "stars_df['star_color'] = stars_df['temperature'].apply(harvard_color_stars_method)"
   ]
  },
  {
   "cell_type": "code",
   "execution_count": 22,
   "id": "b0ff2d28",
   "metadata": {},
   "outputs": [
    {
     "name": "stdout",
     "output_type": "stream",
     "text": [
      "---------------------------------------------------------------------------------------------------------\n",
      "\u001b[94m Поле -  \u001b[0m star_color\n",
      "\u001b[94m Количество уникальных значений -   \u001b[0m 7\n",
      "\u001b[94m Количество пропусков -  \u001b[0m 0\n",
      "\n"
     ]
    },
    {
     "data": {
      "text/html": [
       "<div>\n",
       "<style scoped>\n",
       "    .dataframe tbody tr th:only-of-type {\n",
       "        vertical-align: middle;\n",
       "    }\n",
       "\n",
       "    .dataframe tbody tr th {\n",
       "        vertical-align: top;\n",
       "    }\n",
       "\n",
       "    .dataframe thead th {\n",
       "        text-align: right;\n",
       "    }\n",
       "</style>\n",
       "<table border=\"1\" class=\"dataframe\">\n",
       "  <thead>\n",
       "    <tr style=\"text-align: right;\">\n",
       "      <th></th>\n",
       "      <th>Значение</th>\n",
       "      <th>Количество</th>\n",
       "    </tr>\n",
       "  </thead>\n",
       "  <tbody>\n",
       "    <tr>\n",
       "      <th>0</th>\n",
       "      <td>blue</td>\n",
       "      <td>14</td>\n",
       "    </tr>\n",
       "    <tr>\n",
       "      <th>1</th>\n",
       "      <td>blue_white</td>\n",
       "      <td>76</td>\n",
       "    </tr>\n",
       "    <tr>\n",
       "      <th>2</th>\n",
       "      <td>orange</td>\n",
       "      <td>7</td>\n",
       "    </tr>\n",
       "    <tr>\n",
       "      <th>3</th>\n",
       "      <td>red</td>\n",
       "      <td>109</td>\n",
       "    </tr>\n",
       "    <tr>\n",
       "      <th>4</th>\n",
       "      <td>white</td>\n",
       "      <td>21</td>\n",
       "    </tr>\n",
       "    <tr>\n",
       "      <th>5</th>\n",
       "      <td>yellow</td>\n",
       "      <td>6</td>\n",
       "    </tr>\n",
       "    <tr>\n",
       "      <th>6</th>\n",
       "      <td>yellow_white</td>\n",
       "      <td>7</td>\n",
       "    </tr>\n",
       "  </tbody>\n",
       "</table>\n",
       "</div>"
      ],
      "text/plain": [
       "       Значение  Количество\n",
       "0          blue          14\n",
       "1    blue_white          76\n",
       "2        orange           7\n",
       "3           red         109\n",
       "4         white          21\n",
       "5        yellow           6\n",
       "6  yellow_white           7"
      ]
     },
     "metadata": {},
     "output_type": "display_data"
    },
    {
     "name": "stdout",
     "output_type": "stream",
     "text": [
      "---------------------------------------------------------------------------------------------------------\n",
      "\u001b[94m Поле -  \u001b[0m star_type\n",
      "\u001b[94m Количество уникальных значений -   \u001b[0m 6\n",
      "\u001b[94m Количество пропусков -  \u001b[0m 0\n",
      "\n"
     ]
    },
    {
     "data": {
      "text/html": [
       "<div>\n",
       "<style scoped>\n",
       "    .dataframe tbody tr th:only-of-type {\n",
       "        vertical-align: middle;\n",
       "    }\n",
       "\n",
       "    .dataframe tbody tr th {\n",
       "        vertical-align: top;\n",
       "    }\n",
       "\n",
       "    .dataframe thead th {\n",
       "        text-align: right;\n",
       "    }\n",
       "</style>\n",
       "<table border=\"1\" class=\"dataframe\">\n",
       "  <thead>\n",
       "    <tr style=\"text-align: right;\">\n",
       "      <th></th>\n",
       "      <th>Значение</th>\n",
       "      <th>Количество</th>\n",
       "    </tr>\n",
       "  </thead>\n",
       "  <tbody>\n",
       "    <tr>\n",
       "      <th>0</th>\n",
       "      <td>0</td>\n",
       "      <td>40</td>\n",
       "    </tr>\n",
       "    <tr>\n",
       "      <th>1</th>\n",
       "      <td>1</td>\n",
       "      <td>40</td>\n",
       "    </tr>\n",
       "    <tr>\n",
       "      <th>2</th>\n",
       "      <td>2</td>\n",
       "      <td>40</td>\n",
       "    </tr>\n",
       "    <tr>\n",
       "      <th>3</th>\n",
       "      <td>3</td>\n",
       "      <td>40</td>\n",
       "    </tr>\n",
       "    <tr>\n",
       "      <th>4</th>\n",
       "      <td>4</td>\n",
       "      <td>40</td>\n",
       "    </tr>\n",
       "    <tr>\n",
       "      <th>5</th>\n",
       "      <td>5</td>\n",
       "      <td>40</td>\n",
       "    </tr>\n",
       "  </tbody>\n",
       "</table>\n",
       "</div>"
      ],
      "text/plain": [
       "  Значение  Количество\n",
       "0        0          40\n",
       "1        1          40\n",
       "2        2          40\n",
       "3        3          40\n",
       "4        4          40\n",
       "5        5          40"
      ]
     },
     "metadata": {},
     "output_type": "display_data"
    }
   ],
   "source": [
    "# Вывод информации по уникальным значениям категориальных полей\n",
    "# после внесенных изменений\n",
    "\n",
    "cat_field_lst = ['star_color', 'star_type']\n",
    "check_categorical_fields(df_ = stars_df, fields_lst = cat_field_lst, print_unique_val = True)"
   ]
  },
  {
   "cell_type": "markdown",
   "id": "e1298dfa",
   "metadata": {},
   "source": [
    "### Проверка на дубликаты после изменения значений категориальных полей"
   ]
  },
  {
   "cell_type": "code",
   "execution_count": 23,
   "id": "27287b4f",
   "metadata": {},
   "outputs": [
    {
     "name": "stdout",
     "output_type": "stream",
     "text": [
      "\u001b[95m ------------------------------------------------------------------------------------------------------------------------------------- \u001b[0m\n",
      "\u001b[94m Имя: 6_class.csv \u001b[0m\n",
      "\n",
      "\u001b[94m 6_class.csv (первые 3 строк) \u001b[0m\n"
     ]
    },
    {
     "data": {
      "text/html": [
       "<div>\n",
       "<style scoped>\n",
       "    .dataframe tbody tr th:only-of-type {\n",
       "        vertical-align: middle;\n",
       "    }\n",
       "\n",
       "    .dataframe tbody tr th {\n",
       "        vertical-align: top;\n",
       "    }\n",
       "\n",
       "    .dataframe thead th {\n",
       "        text-align: right;\n",
       "    }\n",
       "</style>\n",
       "<table border=\"1\" class=\"dataframe\">\n",
       "  <thead>\n",
       "    <tr style=\"text-align: right;\">\n",
       "      <th></th>\n",
       "      <th>temperature</th>\n",
       "      <th>luminosity</th>\n",
       "      <th>radius</th>\n",
       "      <th>absolute_magnitude</th>\n",
       "      <th>star_type</th>\n",
       "      <th>star_color</th>\n",
       "    </tr>\n",
       "    <tr>\n",
       "      <th>star_index</th>\n",
       "      <th></th>\n",
       "      <th></th>\n",
       "      <th></th>\n",
       "      <th></th>\n",
       "      <th></th>\n",
       "      <th></th>\n",
       "    </tr>\n",
       "  </thead>\n",
       "  <tbody>\n",
       "    <tr>\n",
       "      <th>0</th>\n",
       "      <td>3068</td>\n",
       "      <td>0.0024</td>\n",
       "      <td>0.1700</td>\n",
       "      <td>16.12</td>\n",
       "      <td>0</td>\n",
       "      <td>red</td>\n",
       "    </tr>\n",
       "    <tr>\n",
       "      <th>1</th>\n",
       "      <td>3042</td>\n",
       "      <td>0.0005</td>\n",
       "      <td>0.1542</td>\n",
       "      <td>16.60</td>\n",
       "      <td>0</td>\n",
       "      <td>red</td>\n",
       "    </tr>\n",
       "    <tr>\n",
       "      <th>2</th>\n",
       "      <td>2600</td>\n",
       "      <td>0.0003</td>\n",
       "      <td>0.1020</td>\n",
       "      <td>18.70</td>\n",
       "      <td>0</td>\n",
       "      <td>red</td>\n",
       "    </tr>\n",
       "  </tbody>\n",
       "</table>\n",
       "</div>"
      ],
      "text/plain": [
       "            temperature  luminosity  radius  absolute_magnitude star_type  \\\n",
       "star_index                                                                  \n",
       "0                  3068      0.0024  0.1700               16.12         0   \n",
       "1                  3042      0.0005  0.1542               16.60         0   \n",
       "2                  2600      0.0003  0.1020               18.70         0   \n",
       "\n",
       "           star_color  \n",
       "star_index             \n",
       "0                 red  \n",
       "1                 red  \n",
       "2                 red  "
      ]
     },
     "metadata": {},
     "output_type": "display_data"
    },
    {
     "name": "stdout",
     "output_type": "stream",
     "text": [
      "\n",
      "\u001b[94m Информация:  \u001b[0m\n",
      "<class 'pandas.core.frame.DataFrame'>\n",
      "Index: 240 entries, 0 to 239\n",
      "Data columns (total 6 columns):\n",
      " #   Column              Non-Null Count  Dtype   \n",
      "---  ------              --------------  -----   \n",
      " 0   temperature         240 non-null    int64   \n",
      " 1   luminosity          240 non-null    float64 \n",
      " 2   radius              240 non-null    float64 \n",
      " 3   absolute_magnitude  240 non-null    float64 \n",
      " 4   star_type           240 non-null    category\n",
      " 5   star_color          240 non-null    object  \n",
      "dtypes: category(1), float64(3), int64(1), object(1)\n",
      "memory usage: 11.7+ KB\n",
      "\n",
      "\u001b[94m Описание числовых полей:  \u001b[0m\n"
     ]
    },
    {
     "data": {
      "text/html": [
       "<div>\n",
       "<style scoped>\n",
       "    .dataframe tbody tr th:only-of-type {\n",
       "        vertical-align: middle;\n",
       "    }\n",
       "\n",
       "    .dataframe tbody tr th {\n",
       "        vertical-align: top;\n",
       "    }\n",
       "\n",
       "    .dataframe thead th {\n",
       "        text-align: right;\n",
       "    }\n",
       "</style>\n",
       "<table border=\"1\" class=\"dataframe\">\n",
       "  <thead>\n",
       "    <tr style=\"text-align: right;\">\n",
       "      <th></th>\n",
       "      <th>temperature</th>\n",
       "      <th>luminosity</th>\n",
       "      <th>radius</th>\n",
       "      <th>absolute_magnitude</th>\n",
       "      <th>star_type</th>\n",
       "    </tr>\n",
       "  </thead>\n",
       "  <tbody>\n",
       "    <tr>\n",
       "      <th>count</th>\n",
       "      <td>240.000000</td>\n",
       "      <td>240.000000</td>\n",
       "      <td>240.000000</td>\n",
       "      <td>240.000000</td>\n",
       "      <td>240.0</td>\n",
       "    </tr>\n",
       "    <tr>\n",
       "      <th>unique</th>\n",
       "      <td>NaN</td>\n",
       "      <td>NaN</td>\n",
       "      <td>NaN</td>\n",
       "      <td>NaN</td>\n",
       "      <td>6.0</td>\n",
       "    </tr>\n",
       "    <tr>\n",
       "      <th>top</th>\n",
       "      <td>NaN</td>\n",
       "      <td>NaN</td>\n",
       "      <td>NaN</td>\n",
       "      <td>NaN</td>\n",
       "      <td>0.0</td>\n",
       "    </tr>\n",
       "    <tr>\n",
       "      <th>freq</th>\n",
       "      <td>NaN</td>\n",
       "      <td>NaN</td>\n",
       "      <td>NaN</td>\n",
       "      <td>NaN</td>\n",
       "      <td>40.0</td>\n",
       "    </tr>\n",
       "    <tr>\n",
       "      <th>mean</th>\n",
       "      <td>10497.462500</td>\n",
       "      <td>107188.361635</td>\n",
       "      <td>237.157781</td>\n",
       "      <td>4.382396</td>\n",
       "      <td>NaN</td>\n",
       "    </tr>\n",
       "    <tr>\n",
       "      <th>std</th>\n",
       "      <td>9552.425037</td>\n",
       "      <td>179432.244940</td>\n",
       "      <td>517.155763</td>\n",
       "      <td>10.532512</td>\n",
       "      <td>NaN</td>\n",
       "    </tr>\n",
       "    <tr>\n",
       "      <th>min</th>\n",
       "      <td>1939.000000</td>\n",
       "      <td>0.000080</td>\n",
       "      <td>0.008400</td>\n",
       "      <td>-11.920000</td>\n",
       "      <td>NaN</td>\n",
       "    </tr>\n",
       "    <tr>\n",
       "      <th>25%</th>\n",
       "      <td>3344.250000</td>\n",
       "      <td>0.000865</td>\n",
       "      <td>0.102750</td>\n",
       "      <td>-6.232500</td>\n",
       "      <td>NaN</td>\n",
       "    </tr>\n",
       "    <tr>\n",
       "      <th>50%</th>\n",
       "      <td>5776.000000</td>\n",
       "      <td>0.070500</td>\n",
       "      <td>0.762500</td>\n",
       "      <td>8.313000</td>\n",
       "      <td>NaN</td>\n",
       "    </tr>\n",
       "    <tr>\n",
       "      <th>75%</th>\n",
       "      <td>15055.500000</td>\n",
       "      <td>198050.000000</td>\n",
       "      <td>42.750000</td>\n",
       "      <td>13.697500</td>\n",
       "      <td>NaN</td>\n",
       "    </tr>\n",
       "    <tr>\n",
       "      <th>max</th>\n",
       "      <td>40000.000000</td>\n",
       "      <td>849420.000000</td>\n",
       "      <td>1948.500000</td>\n",
       "      <td>20.060000</td>\n",
       "      <td>NaN</td>\n",
       "    </tr>\n",
       "  </tbody>\n",
       "</table>\n",
       "</div>"
      ],
      "text/plain": [
       "         temperature     luminosity       radius  absolute_magnitude  \\\n",
       "count     240.000000     240.000000   240.000000          240.000000   \n",
       "unique           NaN            NaN          NaN                 NaN   \n",
       "top              NaN            NaN          NaN                 NaN   \n",
       "freq             NaN            NaN          NaN                 NaN   \n",
       "mean    10497.462500  107188.361635   237.157781            4.382396   \n",
       "std      9552.425037  179432.244940   517.155763           10.532512   \n",
       "min      1939.000000       0.000080     0.008400          -11.920000   \n",
       "25%      3344.250000       0.000865     0.102750           -6.232500   \n",
       "50%      5776.000000       0.070500     0.762500            8.313000   \n",
       "75%     15055.500000  198050.000000    42.750000           13.697500   \n",
       "max     40000.000000  849420.000000  1948.500000           20.060000   \n",
       "\n",
       "        star_type  \n",
       "count       240.0  \n",
       "unique        6.0  \n",
       "top           0.0  \n",
       "freq         40.0  \n",
       "mean          NaN  \n",
       "std           NaN  \n",
       "min           NaN  \n",
       "25%           NaN  \n",
       "50%           NaN  \n",
       "75%           NaN  \n",
       "max           NaN  "
      ]
     },
     "metadata": {},
     "output_type": "display_data"
    },
    {
     "name": "stdout",
     "output_type": "stream",
     "text": [
      "\n",
      "\u001b[94m Описание не числовых полей:  \u001b[0m\n"
     ]
    },
    {
     "data": {
      "text/html": [
       "<div>\n",
       "<style scoped>\n",
       "    .dataframe tbody tr th:only-of-type {\n",
       "        vertical-align: middle;\n",
       "    }\n",
       "\n",
       "    .dataframe tbody tr th {\n",
       "        vertical-align: top;\n",
       "    }\n",
       "\n",
       "    .dataframe thead th {\n",
       "        text-align: right;\n",
       "    }\n",
       "</style>\n",
       "<table border=\"1\" class=\"dataframe\">\n",
       "  <thead>\n",
       "    <tr style=\"text-align: right;\">\n",
       "      <th></th>\n",
       "      <th>star_color</th>\n",
       "    </tr>\n",
       "  </thead>\n",
       "  <tbody>\n",
       "    <tr>\n",
       "      <th>count</th>\n",
       "      <td>240</td>\n",
       "    </tr>\n",
       "    <tr>\n",
       "      <th>unique</th>\n",
       "      <td>7</td>\n",
       "    </tr>\n",
       "    <tr>\n",
       "      <th>top</th>\n",
       "      <td>red</td>\n",
       "    </tr>\n",
       "    <tr>\n",
       "      <th>freq</th>\n",
       "      <td>109</td>\n",
       "    </tr>\n",
       "  </tbody>\n",
       "</table>\n",
       "</div>"
      ],
      "text/plain": [
       "       star_color\n",
       "count         240\n",
       "unique          7\n",
       "top           red\n",
       "freq          109"
      ]
     },
     "metadata": {},
     "output_type": "display_data"
    },
    {
     "name": "stdout",
     "output_type": "stream",
     "text": [
      "\n",
      "\u001b[94m Пропуски:  \u001b[0m\n"
     ]
    },
    {
     "data": {
      "text/plain": [
       "temperature           0\n",
       "luminosity            0\n",
       "radius                0\n",
       "absolute_magnitude    0\n",
       "star_type             0\n",
       "star_color            0\n",
       "dtype: int64"
      ]
     },
     "metadata": {},
     "output_type": "display_data"
    },
    {
     "name": "stdout",
     "output_type": "stream",
     "text": [
      "\n",
      "\u001b[94m Доля записей, содержащих пропуски: \u001b[0m 0.0 %\n",
      "\u001b[94m Дубликаты не обнаружены! \u001b[0m\n",
      " \n"
     ]
    }
   ],
   "source": [
    "duplicates_df, stars_df__original_shape = df_inf(df = stars_df, head_row = 3, drop_duplicates_flag = False)"
   ]
  },
  {
   "cell_type": "markdown",
   "id": "e9d843a9",
   "metadata": {},
   "source": [
    "## `Выводы`"
   ]
  },
  {
   "cell_type": "markdown",
   "id": "aa09488c",
   "metadata": {},
   "source": [
    "* Структура загруженных данных соответствует описанию\n",
    "* Первое поле не имеет Имени и содержит уникальные числовые значения диапазон значений 1- 240 без пропусков. Поле будет использоваться как идентификатор звезды.\n",
    "* Дубликаты и пропуски не обнаружены, идентификатор звезды не участвовал в поиске дубликатов.\n",
    "* Изменены Имена полей в соответствии со стилем Snake\n",
    "\n",
    "|Имя поля <br> Оригинальное |Имя поля <br> после трансформации|\n",
    "|------------------|--------------------|\n",
    "|Без имени|star_index|\n",
    "|Temperature (K)|temperature|\n",
    "|Luminosity(L/Lo)|luminosity|\n",
    "|Radius(R/Ro)|radius|\n",
    "|Absolute magnitude(Mv)|absolute_magnitude|\n",
    "|Star type|star_type|\n",
    "|Star color|star_color|\n",
    "<br>\n",
    "\n",
    "\n",
    "* Изменены типы категориальных полей\n",
    "* В поле `star_color` удалены крайние пробелы и исключены смысловые дубли\n",
    "* После внесения изменений дубли не обнаружены"
   ]
  },
  {
   "cell_type": "markdown",
   "id": "7b5d706b",
   "metadata": {},
   "source": [
    "# Анализ данных"
   ]
  },
  {
   "cell_type": "markdown",
   "id": "dff675c8",
   "metadata": {},
   "source": [
    "## Категориальные поля"
   ]
  },
  {
   "cell_type": "markdown",
   "id": "6b98572c",
   "metadata": {},
   "source": [
    "### Визуализация состава категориальных полей"
   ]
  },
  {
   "cell_type": "code",
   "execution_count": 24,
   "id": "d2c8b16b",
   "metadata": {},
   "outputs": [
    {
     "name": "stdout",
     "output_type": "stream",
     "text": [
      "---------------------------------------------------------------------------------------------------------\n",
      "\u001b[94m Поле -  \u001b[0m star_color\n",
      "\u001b[94m Количество уникальных значений -   \u001b[0m 7\n",
      "\u001b[94m Количество пропусков -  \u001b[0m 0\n",
      "\n"
     ]
    },
    {
     "data": {
      "text/html": [
       "<div>\n",
       "<style scoped>\n",
       "    .dataframe tbody tr th:only-of-type {\n",
       "        vertical-align: middle;\n",
       "    }\n",
       "\n",
       "    .dataframe tbody tr th {\n",
       "        vertical-align: top;\n",
       "    }\n",
       "\n",
       "    .dataframe thead th {\n",
       "        text-align: right;\n",
       "    }\n",
       "</style>\n",
       "<table border=\"1\" class=\"dataframe\">\n",
       "  <thead>\n",
       "    <tr style=\"text-align: right;\">\n",
       "      <th></th>\n",
       "      <th>Значение</th>\n",
       "      <th>Количество</th>\n",
       "    </tr>\n",
       "  </thead>\n",
       "  <tbody>\n",
       "    <tr>\n",
       "      <th>0</th>\n",
       "      <td>blue</td>\n",
       "      <td>14</td>\n",
       "    </tr>\n",
       "    <tr>\n",
       "      <th>1</th>\n",
       "      <td>blue_white</td>\n",
       "      <td>76</td>\n",
       "    </tr>\n",
       "    <tr>\n",
       "      <th>2</th>\n",
       "      <td>orange</td>\n",
       "      <td>7</td>\n",
       "    </tr>\n",
       "    <tr>\n",
       "      <th>3</th>\n",
       "      <td>red</td>\n",
       "      <td>109</td>\n",
       "    </tr>\n",
       "    <tr>\n",
       "      <th>4</th>\n",
       "      <td>white</td>\n",
       "      <td>21</td>\n",
       "    </tr>\n",
       "    <tr>\n",
       "      <th>5</th>\n",
       "      <td>yellow</td>\n",
       "      <td>6</td>\n",
       "    </tr>\n",
       "    <tr>\n",
       "      <th>6</th>\n",
       "      <td>yellow_white</td>\n",
       "      <td>7</td>\n",
       "    </tr>\n",
       "  </tbody>\n",
       "</table>\n",
       "</div>"
      ],
      "text/plain": [
       "       Значение  Количество\n",
       "0          blue          14\n",
       "1    blue_white          76\n",
       "2        orange           7\n",
       "3           red         109\n",
       "4         white          21\n",
       "5        yellow           6\n",
       "6  yellow_white           7"
      ]
     },
     "metadata": {},
     "output_type": "display_data"
    },
    {
     "name": "stdout",
     "output_type": "stream",
     "text": [
      "---------------------------------------------------------------------------------------------------------\n",
      "\u001b[94m Поле -  \u001b[0m star_type\n",
      "\u001b[94m Количество уникальных значений -   \u001b[0m 6\n",
      "\u001b[94m Количество пропусков -  \u001b[0m 0\n",
      "\n"
     ]
    },
    {
     "data": {
      "text/html": [
       "<div>\n",
       "<style scoped>\n",
       "    .dataframe tbody tr th:only-of-type {\n",
       "        vertical-align: middle;\n",
       "    }\n",
       "\n",
       "    .dataframe tbody tr th {\n",
       "        vertical-align: top;\n",
       "    }\n",
       "\n",
       "    .dataframe thead th {\n",
       "        text-align: right;\n",
       "    }\n",
       "</style>\n",
       "<table border=\"1\" class=\"dataframe\">\n",
       "  <thead>\n",
       "    <tr style=\"text-align: right;\">\n",
       "      <th></th>\n",
       "      <th>Значение</th>\n",
       "      <th>Количество</th>\n",
       "    </tr>\n",
       "  </thead>\n",
       "  <tbody>\n",
       "    <tr>\n",
       "      <th>0</th>\n",
       "      <td>0</td>\n",
       "      <td>40</td>\n",
       "    </tr>\n",
       "    <tr>\n",
       "      <th>1</th>\n",
       "      <td>1</td>\n",
       "      <td>40</td>\n",
       "    </tr>\n",
       "    <tr>\n",
       "      <th>2</th>\n",
       "      <td>2</td>\n",
       "      <td>40</td>\n",
       "    </tr>\n",
       "    <tr>\n",
       "      <th>3</th>\n",
       "      <td>3</td>\n",
       "      <td>40</td>\n",
       "    </tr>\n",
       "    <tr>\n",
       "      <th>4</th>\n",
       "      <td>4</td>\n",
       "      <td>40</td>\n",
       "    </tr>\n",
       "    <tr>\n",
       "      <th>5</th>\n",
       "      <td>5</td>\n",
       "      <td>40</td>\n",
       "    </tr>\n",
       "  </tbody>\n",
       "</table>\n",
       "</div>"
      ],
      "text/plain": [
       "  Значение  Количество\n",
       "0        0          40\n",
       "1        1          40\n",
       "2        2          40\n",
       "3        3          40\n",
       "4        4          40\n",
       "5        5          40"
      ]
     },
     "metadata": {},
     "output_type": "display_data"
    }
   ],
   "source": [
    "check_categorical_fields(df_ = stars_df, fields_lst = cat_field_lst, print_unique_val = True)"
   ]
  },
  {
   "cell_type": "code",
   "execution_count": 27,
   "id": "830d0a5c",
   "metadata": {},
   "outputs": [
    {
     "name": "stdout",
     "output_type": "stream",
     "text": [
      "[<Axes: > <Axes: >]\n",
      "[<Axes: > <Axes: >]\n"
     ]
    },
    {
     "data": {
      "image/png": "[encoded data removed]",
      "text/plain": [
       "<Figure size 2000x2000 with 2 Axes>"
      ]
     },
     "metadata": {},
     "output_type": "display_data"
    }
   ],
   "source": [
    "categorical_property_visualization(\n",
    "    data_= stars_df.reset_index(),\n",
    "    indexes_= cat_field_lst,\n",
    "    titles_= ['Тип звезды', 'Цвет звезды'],\n",
    "    values_='star_index',\n",
    "    aggfunc_='count',\n",
    "    title_ = 'Доли по категориальным признакам.',\n",
    "    figsize_=(20, 20),\n",
    "    nrows_= 1,\n",
    "    ncols_= 2,\n",
    "    y_title_ = 0.73)"
   ]
  },
  {
   "cell_type": "markdown",
   "id": "7119306e",
   "metadata": {},
   "source": [
    "### Спектральный классификатор"
   ]
  },
  {
   "cell_type": "code",
   "execution_count": 55,
   "id": "963ee53d",
   "metadata": {},
   "outputs": [
    {
     "name": "stdout",
     "output_type": "stream",
     "text": [
      "\u001b[94m Спектральный классификатор по предоставленным данным. \u001b[0m\n",
      "\n"
     ]
    },
    {
     "data": {
      "text/html": [
       "<div>\n",
       "<style scoped>\n",
       "    .dataframe tbody tr th:only-of-type {\n",
       "        vertical-align: middle;\n",
       "    }\n",
       "\n",
       "    .dataframe tbody tr th {\n",
       "        vertical-align: top;\n",
       "    }\n",
       "\n",
       "    .dataframe thead th {\n",
       "        text-align: right;\n",
       "    }\n",
       "</style>\n",
       "<table border=\"1\" class=\"dataframe\">\n",
       "  <thead>\n",
       "    <tr style=\"text-align: right;\">\n",
       "      <th></th>\n",
       "      <th>star_color</th>\n",
       "      <th>temperature_min</th>\n",
       "      <th>temperature_max</th>\n",
       "      <th>stars_count</th>\n",
       "    </tr>\n",
       "  </thead>\n",
       "  <tbody>\n",
       "    <tr>\n",
       "      <th>0</th>\n",
       "      <td>blue</td>\n",
       "      <td>30839</td>\n",
       "      <td>40000</td>\n",
       "      <td>14</td>\n",
       "    </tr>\n",
       "    <tr>\n",
       "      <th>1</th>\n",
       "      <td>blue_white</td>\n",
       "      <td>10012</td>\n",
       "      <td>30000</td>\n",
       "      <td>76</td>\n",
       "    </tr>\n",
       "    <tr>\n",
       "      <th>4</th>\n",
       "      <td>white</td>\n",
       "      <td>7700</td>\n",
       "      <td>9892</td>\n",
       "      <td>21</td>\n",
       "    </tr>\n",
       "    <tr>\n",
       "      <th>6</th>\n",
       "      <td>yellow_white</td>\n",
       "      <td>6380</td>\n",
       "      <td>7282</td>\n",
       "      <td>7</td>\n",
       "    </tr>\n",
       "    <tr>\n",
       "      <th>5</th>\n",
       "      <td>yellow</td>\n",
       "      <td>5112</td>\n",
       "      <td>5936</td>\n",
       "      <td>6</td>\n",
       "    </tr>\n",
       "    <tr>\n",
       "      <th>2</th>\n",
       "      <td>orange</td>\n",
       "      <td>3826</td>\n",
       "      <td>4980</td>\n",
       "      <td>7</td>\n",
       "    </tr>\n",
       "    <tr>\n",
       "      <th>3</th>\n",
       "      <td>red</td>\n",
       "      <td>1939</td>\n",
       "      <td>3780</td>\n",
       "      <td>109</td>\n",
       "    </tr>\n",
       "  </tbody>\n",
       "</table>\n",
       "</div>"
      ],
      "text/plain": [
       "     star_color  temperature_min  temperature_max  stars_count\n",
       "0          blue            30839            40000           14\n",
       "1    blue_white            10012            30000           76\n",
       "4         white             7700             9892           21\n",
       "6  yellow_white             6380             7282            7\n",
       "5        yellow             5112             5936            6\n",
       "2        orange             3826             4980            7\n",
       "3           red             1939             3780          109"
      ]
     },
     "metadata": {},
     "output_type": "display_data"
    }
   ],
   "source": [
    "color_temperature_df = stars_df.groupby(\n",
    "    ['star_color']\n",
    "                                       ).agg(\n",
    "    {'temperature': ['min', 'max', 'count']}\n",
    "                                            ).reset_index()\n",
    "color_temperature_df.columns = [\n",
    "    'star_color',\n",
    "    'temperature_min',\n",
    "    'temperature_max',\n",
    "    'stars_count'\n",
    "                               ]\n",
    "\n",
    "print(blue_start,'Спектральный классификатор по предоставленным данным.', color_end)\n",
    "print('')\n",
    "display(color_temperature_df.sort_values(by = 'temperature_min', ascending = False))"
   ]
  },
  {
   "cell_type": "markdown",
   "id": "e3f4c1be",
   "metadata": {},
   "source": [
    "## Количество планет по цветам"
   ]
  },
  {
   "cell_type": "code",
   "execution_count": 93,
   "id": "5a288988",
   "metadata": {},
   "outputs": [
    {
     "data": {
      "text/plain": [
       "<AxesSubplot:xlabel='star_color', ylabel='stars_count'>"
      ]
     },
     "execution_count": 93,
     "metadata": {},
     "output_type": "execute_result"
    },
    {
     "data": {
      "image/png": "[encoded data removed]",
      "text/plain": [
       "<Figure size 432x288 with 1 Axes>"
      ]
     },
     "metadata": {
      "needs_background": "light"
     },
     "output_type": "display_data"
    }
   ],
   "source": [
    "sns.barplot(\n",
    "    x ='star_color',\n",
    "    y ='stars_count',\n",
    "    data = color_temperature_df.sort_values(by = 'stars_count', ascending = False),\n",
    "    palette ='plasma'\n",
    "           )"
   ]
  },
  {
   "cell_type": "markdown",
   "id": "146482f0",
   "metadata": {},
   "source": [
    "### Классификатор по типам звезд"
   ]
  },
  {
   "cell_type": "code",
   "execution_count": 56,
   "id": "d7e40061",
   "metadata": {},
   "outputs": [
    {
     "name": "stdout",
     "output_type": "stream",
     "text": [
      "\u001b[94m Классификатор по типам звезд. \u001b[0m\n",
      "\n"
     ]
    },
    {
     "data": {
      "text/html": [
       "<div>\n",
       "<style scoped>\n",
       "    .dataframe tbody tr th:only-of-type {\n",
       "        vertical-align: middle;\n",
       "    }\n",
       "\n",
       "    .dataframe tbody tr th {\n",
       "        vertical-align: top;\n",
       "    }\n",
       "\n",
       "    .dataframe thead th {\n",
       "        text-align: right;\n",
       "    }\n",
       "</style>\n",
       "<table border=\"1\" class=\"dataframe\">\n",
       "  <thead>\n",
       "    <tr style=\"text-align: right;\">\n",
       "      <th></th>\n",
       "      <th>star_type</th>\n",
       "      <th>temperature_min</th>\n",
       "      <th>temperature_max</th>\n",
       "      <th>radius_min</th>\n",
       "      <th>radius_max</th>\n",
       "      <th>absolute_magnitude_min</th>\n",
       "      <th>absolute_magnitude_max</th>\n",
       "      <th>stars_count</th>\n",
       "    </tr>\n",
       "  </thead>\n",
       "  <tbody>\n",
       "    <tr>\n",
       "      <th>5</th>\n",
       "      <td>5</td>\n",
       "      <td>3399</td>\n",
       "      <td>38940</td>\n",
       "      <td>708.9000</td>\n",
       "      <td>1948.500</td>\n",
       "      <td>-11.92</td>\n",
       "      <td>-7.580</td>\n",
       "      <td>40</td>\n",
       "    </tr>\n",
       "    <tr>\n",
       "      <th>4</th>\n",
       "      <td>4</td>\n",
       "      <td>3008</td>\n",
       "      <td>40000</td>\n",
       "      <td>12.0000</td>\n",
       "      <td>98.000</td>\n",
       "      <td>-7.45</td>\n",
       "      <td>-5.240</td>\n",
       "      <td>40</td>\n",
       "    </tr>\n",
       "    <tr>\n",
       "      <th>3</th>\n",
       "      <td>3</td>\n",
       "      <td>4077</td>\n",
       "      <td>39000</td>\n",
       "      <td>0.7950</td>\n",
       "      <td>10.600</td>\n",
       "      <td>-4.70</td>\n",
       "      <td>6.506</td>\n",
       "      <td>40</td>\n",
       "    </tr>\n",
       "    <tr>\n",
       "      <th>1</th>\n",
       "      <td>1</td>\n",
       "      <td>2621</td>\n",
       "      <td>3692</td>\n",
       "      <td>0.0980</td>\n",
       "      <td>0.730</td>\n",
       "      <td>10.12</td>\n",
       "      <td>14.940</td>\n",
       "      <td>40</td>\n",
       "    </tr>\n",
       "    <tr>\n",
       "      <th>0</th>\n",
       "      <td>0</td>\n",
       "      <td>1939</td>\n",
       "      <td>3531</td>\n",
       "      <td>0.0570</td>\n",
       "      <td>0.190</td>\n",
       "      <td>16.05</td>\n",
       "      <td>20.060</td>\n",
       "      <td>40</td>\n",
       "    </tr>\n",
       "    <tr>\n",
       "      <th>2</th>\n",
       "      <td>2</td>\n",
       "      <td>7100</td>\n",
       "      <td>25000</td>\n",
       "      <td>0.0084</td>\n",
       "      <td>0.015</td>\n",
       "      <td>10.18</td>\n",
       "      <td>14.870</td>\n",
       "      <td>40</td>\n",
       "    </tr>\n",
       "  </tbody>\n",
       "</table>\n",
       "</div>"
      ],
      "text/plain": [
       "  star_type  temperature_min  temperature_max  radius_min  radius_max  \\\n",
       "5         5             3399            38940    708.9000    1948.500   \n",
       "4         4             3008            40000     12.0000      98.000   \n",
       "3         3             4077            39000      0.7950      10.600   \n",
       "1         1             2621             3692      0.0980       0.730   \n",
       "0         0             1939             3531      0.0570       0.190   \n",
       "2         2             7100            25000      0.0084       0.015   \n",
       "\n",
       "   absolute_magnitude_min  absolute_magnitude_max  stars_count  \n",
       "5                  -11.92                  -7.580           40  \n",
       "4                   -7.45                  -5.240           40  \n",
       "3                   -4.70                   6.506           40  \n",
       "1                   10.12                  14.940           40  \n",
       "0                   16.05                  20.060           40  \n",
       "2                   10.18                  14.870           40  "
      ]
     },
     "metadata": {},
     "output_type": "display_data"
    }
   ],
   "source": [
    "type_temperature_df = stars_df.groupby(\n",
    "    ['star_type']\n",
    "                                       ).agg(\n",
    "    {\n",
    "    'temperature': ['min', 'max'],\n",
    "    'radius': ['min', 'max'],\n",
    "    'absolute_magnitude': ['min', 'max', 'count']\n",
    "    }\n",
    "                                            ).reset_index()\n",
    "type_temperature_df.columns = [\n",
    "    'star_type',\n",
    "    'temperature_min',\n",
    "    'temperature_max',\n",
    "    'radius_min', \n",
    "    'radius_max',\n",
    "    'absolute_magnitude_min', \n",
    "    'absolute_magnitude_max',\n",
    "    'stars_count'\n",
    "                               ]\n",
    "\n",
    "print(blue_start,'Классификатор по типам звезд.', color_end)\n",
    "print('')\n",
    "display(type_temperature_df.sort_values(by = 'radius_min', ascending = False))"
   ]
  },
  {
   "cell_type": "markdown",
   "id": "1a12601b",
   "metadata": {},
   "source": [
    "В составе данных есть два категориальных поля - `star_type` и `star_color`<br>\n",
    "* `star_type`\n",
    "    * поле содержит числовую информацию о типе звезды.\n",
    "    * Диапазон значений 0-5, целые числа, диапазон непрерывный.\n",
    "    * Каждый тип звезд содержит по 40 записей (около 17%).\n",
    "    * Отличия типов звезд четко прослеживается по диапазону относительных радиусов. Диапазоны относительных радиусов не пересекаются.\n",
    "    * Диапазоны температур пересекаются.\n",
    "    * Диапазоны амплитуд пересекаются.\n",
    "\n",
    "* `star_color`\n",
    "    * поле содержит текстовое описание наблюдаемого цвета звезды\n",
    "    * среди значений поля обнаружены смысловые дубликаты, также обнаружены пробелы в начале и конце некоторых значений. После удаления лишних пробелов и дубликатов анализ значений выглядит следующим образом:\n",
    "\n",
    "|Цвет|Количество записей|\n",
    "|--------|------------------:|\n",
    "|blue|56|\n",
    "|blue_white|41|\n",
    "|orange|2|\n",
    "|orange_red|1|\n",
    "|pale_yellow_orange|1|\n",
    "|red|112|\n",
    "|white|10|\n",
    "|white_yellow|1|\n",
    "|whitish|2|\n",
    "|yellow_white|8|\n",
    "|yellowish|3|\n",
    "|yellowish_white|3|\n",
    "<br>\n",
    "\n",
    "\n",
    "В предоставленных данных есть информация о цвете, представленном только одной ззвездой. Такие записи попадут либо в тренировочную выборку, либо в тестовую. Такая ситуация повлияет отрицательно на работу модели. До получения результатов обучения не буду обединять, или удалять подобные записи.\n",
    "<br>\n",
    "\n",
    "\n",
    "[**Спектральная классификация звезд. Большая российская энциклопедия.**](https://bigenc.ru/c/spektral-nye-klassy-zviozd-c781fb \"Спектральная классификация звезд\") (общепринятый классификатор):\n",
    "\n",
    "|Наблюдаемый цвет|Диапазон температуры|\n",
    "|----------------|:--------------------|\n",
    "|blue|30000 – 60000|\n",
    "|white_blue|10000 – 30000|\n",
    "|white|7500 – 10000|\n",
    "|white|6000 – 7500|\n",
    "|yellow-orange|3500 – 5000|\n",
    "|red-orange|2000–3500|\n",
    "<br>\n",
    "\n",
    "\n",
    "Анализ диапазона температур в предоставленных данных о наблюдаемых цветах звезд позволяет получить **спектральный классификатор**:\n",
    "\n",
    "|Наблюдаемый цвет|Диапазон температуры|\n",
    "|----------------|:--------------------|\n",
    "|blue_white|8570 - 30000|\n",
    "|whitish|8052 - 9700|\n",
    "|yellowish_white|7700 - 12990|\n",
    "|pale_yellow_orange|7230 - 7230|\n",
    "|white|7220 - 14732|\n",
    "|white_yellow|7100 - 7100|\n",
    "|blue|5752 - 40000|\n",
    "|yellow_white|5300 - 8250|\n",
    "|orange_red|5112 - 5112|\n",
    "|yellowish|4077 - 4980|\n",
    "|orange|3749 - 4287|\n",
    "|red|1939 - 6850|\n",
    "\n",
    "* **В предоставленных данных диапазоны температур разных наблюдаемых цветов пересекаются**\n",
    "* **В предоставленных данных диапазоны температур разных типов звезд пересекаются***\n",
    "* **Сравнение двух спектральных классификаторов показывает отличие перечня наблюдаемых цветов и диапазонов температур. Цвета планет в предоставленных данных приведены к общепринятому классификатору**"
   ]
  },
  {
   "cell_type": "markdown",
   "id": "23f162c2",
   "metadata": {},
   "source": [
    "## Числовые поля"
   ]
  },
  {
   "cell_type": "code",
   "execution_count": 57,
   "id": "6fcc953e",
   "metadata": {},
   "outputs": [
    {
     "name": "stdout",
     "output_type": "stream",
     "text": [
      "---------------------------------------------------------------------------------------------------------\n",
      "\u001b[94m Поле : temperature - Температура \u001b[0m\n",
      "\u001b[94m     Количество пропусков -  \u001b[0m 0\n",
      "\u001b[94m     Доля пропусков -  \u001b[0m 0.0 %\n",
      "\n",
      "count      240.000000\n",
      "mean     10497.462500\n",
      "std       9552.425037\n",
      "min       1939.000000\n",
      "25%       3344.250000\n",
      "50%       5776.000000\n",
      "75%      15055.500000\n",
      "max      40000.000000\n",
      "Name: temperature, dtype: float64\n"
     ]
    },
    {
     "data": {
      "image/png": "[encoded data removed]",
      "text/plain": [
       "<Figure size 1080x576 with 2 Axes>"
      ]
     },
     "metadata": {
      "needs_background": "light"
     },
     "output_type": "display_data"
    },
    {
     "name": "stdout",
     "output_type": "stream",
     "text": [
      "kde_plot_log_flag_ =  False\n"
     ]
    },
    {
     "data": {
      "image/png": "[encoded data removed]",
      "text/plain": [
       "<Figure size 1080x288 with 1 Axes>"
      ]
     },
     "metadata": {
      "needs_background": "light"
     },
     "output_type": "display_data"
    },
    {
     "name": "stdout",
     "output_type": "stream",
     "text": [
      "kde_plot_log_flag_ =  False\n"
     ]
    },
    {
     "data": {
      "image/png": "[encoded data removed]",
      "text/plain": [
       "<Figure size 1080x288 with 1 Axes>"
      ]
     },
     "metadata": {
      "needs_background": "light"
     },
     "output_type": "display_data"
    },
    {
     "name": "stdout",
     "output_type": "stream",
     "text": [
      "---------------------------------------------------------------------------------------------------------\n",
      "\u001b[94m Поле : luminosity - Относительная светимость \u001b[0m\n",
      "\u001b[94m     Количество пропусков -  \u001b[0m 0\n",
      "\u001b[94m     Доля пропусков -  \u001b[0m 0.0 %\n",
      "\n",
      "count       240.000000\n",
      "mean     107188.361635\n",
      "std      179432.244940\n",
      "min           0.000080\n",
      "25%           0.000865\n",
      "50%           0.070500\n",
      "75%      198050.000000\n",
      "max      849420.000000\n",
      "Name: luminosity, dtype: float64\n"
     ]
    },
    {
     "data": {
      "image/png": "[encoded data removed]",
      "text/plain": [
       "<Figure size 1080x576 with 2 Axes>"
      ]
     },
     "metadata": {
      "needs_background": "light"
     },
     "output_type": "display_data"
    },
    {
     "name": "stdout",
     "output_type": "stream",
     "text": [
      "kde_plot_log_flag_ =  False\n"
     ]
    },
    {
     "data": {
      "image/png": "[encoded data removed]",
      "text/plain": [
       "<Figure size 1080x288 with 1 Axes>"
      ]
     },
     "metadata": {
      "needs_background": "light"
     },
     "output_type": "display_data"
    },
    {
     "name": "stdout",
     "output_type": "stream",
     "text": [
      "kde_plot_log_flag_ =  False\n"
     ]
    },
    {
     "data": {
      "image/png": "[encoded data removed]",
      "text/plain": [
       "<Figure size 1080x288 with 1 Axes>"
      ]
     },
     "metadata": {
      "needs_background": "light"
     },
     "output_type": "display_data"
    },
    {
     "name": "stdout",
     "output_type": "stream",
     "text": [
      "---------------------------------------------------------------------------------------------------------\n",
      "\u001b[94m Поле : radius - Относительный радиус \u001b[0m\n",
      "\u001b[94m     Количество пропусков -  \u001b[0m 0\n",
      "\u001b[94m     Доля пропусков -  \u001b[0m 0.0 %\n",
      "\n",
      "count     240.000000\n",
      "mean      237.157781\n",
      "std       517.155763\n",
      "min         0.008400\n",
      "25%         0.102750\n",
      "50%         0.762500\n",
      "75%        42.750000\n",
      "max      1948.500000\n",
      "Name: radius, dtype: float64\n"
     ]
    },
    {
     "data": {
      "image/png": "[encoded data removed]",
      "text/plain": [
       "<Figure size 1080x576 with 2 Axes>"
      ]
     },
     "metadata": {
      "needs_background": "light"
     },
     "output_type": "display_data"
    },
    {
     "name": "stdout",
     "output_type": "stream",
     "text": [
      "kde_plot_log_flag_ =  False\n"
     ]
    },
    {
     "data": {
      "image/png": "[encoded data removed]",
      "text/plain": [
       "<Figure size 1080x288 with 1 Axes>"
      ]
     },
     "metadata": {
      "needs_background": "light"
     },
     "output_type": "display_data"
    },
    {
     "name": "stdout",
     "output_type": "stream",
     "text": [
      "kde_plot_log_flag_ =  False\n"
     ]
    },
    {
     "data": {
      "image/png": "[encoded data removed]",
      "text/plain": [
       "<Figure size 1080x288 with 1 Axes>"
      ]
     },
     "metadata": {
      "needs_background": "light"
     },
     "output_type": "display_data"
    },
    {
     "name": "stdout",
     "output_type": "stream",
     "text": [
      "---------------------------------------------------------------------------------------------------------\n",
      "\u001b[94m Поле : absolute_magnitude - Абсолютная звёздная величина \u001b[0m\n",
      "\u001b[94m     Количество пропусков -  \u001b[0m 0\n",
      "\u001b[94m     Доля пропусков -  \u001b[0m 0.0 %\n",
      "\n",
      "count    240.000000\n",
      "mean       4.382396\n",
      "std       10.532512\n",
      "min      -11.920000\n",
      "25%       -6.232500\n",
      "50%        8.313000\n",
      "75%       13.697500\n",
      "max       20.060000\n",
      "Name: absolute_magnitude, dtype: float64\n"
     ]
    },
    {
     "data": {
      "image/png": "[encoded data removed]",
      "text/plain": [
       "<Figure size 1080x576 with 2 Axes>"
      ]
     },
     "metadata": {
      "needs_background": "light"
     },
     "output_type": "display_data"
    },
    {
     "name": "stdout",
     "output_type": "stream",
     "text": [
      "kde_plot_log_flag_ =  False\n"
     ]
    },
    {
     "data": {
      "image/png": "[encoded data removed]",
      "text/plain": [
       "<Figure size 1080x288 with 1 Axes>"
      ]
     },
     "metadata": {
      "needs_background": "light"
     },
     "output_type": "display_data"
    },
    {
     "name": "stdout",
     "output_type": "stream",
     "text": [
      "kde_plot_log_flag_ =  False\n"
     ]
    },
    {
     "data": {
      "image/png": "[encoded data removed]",
      "text/plain": [
       "<Figure size 1080x288 with 1 Axes>"
      ]
     },
     "metadata": {
      "needs_background": "light"
     },
     "output_type": "display_data"
    }
   ],
   "source": [
    "indexes = [\n",
    "    'temperature',\n",
    "    'luminosity',\n",
    "    'radius',\n",
    "    'absolute_magnitude'\n",
    "]\n",
    "\n",
    "titles = [\n",
    "    'Температура',\n",
    "    'Относительная светимость',\n",
    "    'Относительный радиус',\n",
    "    'Абсолютная звёздная величина'\n",
    "]\n",
    "\n",
    "kde_plot_log_flag = [\n",
    "    'False',\n",
    "    'False',\n",
    "    'False',\n",
    "    'False'\n",
    "]\n",
    "\n",
    "hue_lst = [\n",
    "    'star_type',\n",
    "    'star_color'\n",
    "]\n",
    "\n",
    "index = 0\n",
    "for column in indexes:\n",
    "    column_analiser(\n",
    "        stars_df,\n",
    "        column,\n",
    "        x_label = titles[index],\n",
    "        y_label = '',\n",
    "        print_unique = False,\n",
    "        bins_= 200,\n",
    "        figsize_ = (15, 8),\n",
    "        height_ratios_ = [1, 3],\n",
    "        hue_lst_ = hue_lst, #hue_lst,\n",
    "        kde_plot_log_flag_ = kde_plot_log_flag[index],\n",
    "        kde_plot_figsize_ = (15, 4),\n",
    "        kde_plot_title = '',\n",
    "        kde_plot_x_label = titles[index],\n",
    "        kde_plot_y_label = 'Распределение.'\n",
    ")\n",
    "    index += 1"
   ]
  },
  {
   "cell_type": "markdown",
   "id": "f9450ae0",
   "metadata": {},
   "source": [
    "### `Выводы`"
   ]
  },
  {
   "cell_type": "markdown",
   "id": "b101748e",
   "metadata": {},
   "source": [
    "* Распределение данных по всем числовым полям не нормальное.\n",
    "* По несскольким полям обнаружены выбросы.\n",
    "* Все числовые данные оставим без изменений."
   ]
  },
  {
   "cell_type": "markdown",
   "id": "d514a476",
   "metadata": {},
   "source": [
    "## Корреляционный анализ"
   ]
  },
  {
   "cell_type": "code",
   "execution_count": 58,
   "id": "dc4e329a",
   "metadata": {},
   "outputs": [
    {
     "name": "stdout",
     "output_type": "stream",
     "text": [
      "interval columns not set, guessing: ['temperature', 'luminosity', 'radius', 'absolute_magnitude']\n"
     ]
    },
    {
     "data": {
      "image/png": "[encoded data removed]",
      "text/plain": [
       "<Figure size 504x360 with 2 Axes>"
      ]
     },
     "metadata": {
      "needs_background": "light"
     },
     "output_type": "display_data"
    }
   ],
   "source": [
    "phik_date = stars_df.phik_matrix().round(2)\n",
    "\n",
    "plot_correlation_matrix(phik_date.values, \n",
    "                        x_labels = phik_date.columns, \n",
    "                        y_labels = phik_date.index, \n",
    "                        vmin = 0, vmax = 1, color_map = \"coolwarm\", \n",
    "                        title = 'Матрица корреляции phi(k).', \n",
    "                        fontsize_factor = 1, \n",
    "                        figsize = (7, 5));\n",
    "plt.tight_layout()\n",
    "plt.show()"
   ]
  },
  {
   "cell_type": "markdown",
   "id": "3de8c2c6",
   "metadata": {},
   "source": [
    "### `Выводы`"
   ]
  },
  {
   "cell_type": "markdown",
   "id": "645693ab",
   "metadata": {},
   "source": [
    "* Обнаружена высокая, но не критичная корреляция между `star_color` и `star_type`\n",
    "* Значение таргета заметно коррелирует с `absolute_magnitude` и `star_color`\n",
    "* По результатам корреляционного анализа данные не менялись"
   ]
  },
  {
   "cell_type": "markdown",
   "id": "0581128d",
   "metadata": {},
   "source": [
    "# Подготовка данных для формирования сети"
   ]
  },
  {
   "cell_type": "markdown",
   "id": "691dd7fd",
   "metadata": {},
   "source": [
    "## Разделение на Тестовую и тренировочную выборки"
   ]
  },
  {
   "cell_type": "code",
   "execution_count": 59,
   "id": "e2a78b15",
   "metadata": {},
   "outputs": [],
   "source": [
    "# Определение типов признаков\n",
    "# Целевой\n",
    "target_field = ['temperature']\n",
    "\n",
    "# Категориальные\n",
    "cat_field_lst = [\n",
    "    'star_type',\n",
    "    'star_color'\n",
    "                ]\n",
    "# Числовые\n",
    "num_field_lst = indexes = [\n",
    "    'luminosity',\n",
    "    'radius',\n",
    "    'absolute_magnitude'\n",
    "]\n",
    "\n",
    "# Разделение на выборки\n",
    "X_train, X_test, y_train, y_test = train_test_split(stars_df.drop(target_field, axis = 1),\n",
    "                                                    stars_df[target_field],\n",
    "                                                    test_size = 0.25,\n",
    "                                                    shuffle = True,\n",
    "                                                    random_state = RANDOM_STATE)"
   ]
  },
  {
   "cell_type": "markdown",
   "id": "84fd94d1",
   "metadata": {},
   "source": [
    "## Кодирование категориальных признаков"
   ]
  },
  {
   "cell_type": "code",
   "execution_count": 60,
   "id": "b569f185",
   "metadata": {},
   "outputs": [],
   "source": [
    "# Кодирование Категориальных признаков OneHotEncoder()\n",
    "\n",
    "cat_encoder = OneHotEncoder(\n",
    "    sparse = False,\n",
    "    drop = 'first',\n",
    "    handle_unknown = 'error') #sparse_output handle_unknown = 'ignore', \n",
    "\n",
    "X_trans = cat_encoder.fit_transform(X_train[cat_field_lst])\n",
    "X_train[cat_encoder.get_feature_names()] = X_trans                     # get_feature_names_out()\n",
    "\n",
    "X_trans = cat_encoder.fit_transform(X_test[cat_field_lst])\n",
    "X_test[cat_encoder.get_feature_names()] = X_trans                      # get_feature_names_out()"
   ]
  },
  {
   "cell_type": "markdown",
   "id": "b42adf75",
   "metadata": {},
   "source": [
    "## Масштабирование числовых признаков"
   ]
  },
  {
   "cell_type": "code",
   "execution_count": 61,
   "id": "9c5cdab2",
   "metadata": {},
   "outputs": [],
   "source": [
    "# Масштабирование числовых признаков - StandardScaler()\n",
    "scaler = StandardScaler()\n",
    "\n",
    "X_train[num_field_lst] = scaler.fit_transform(X_train[num_field_lst])\n",
    "X_test[num_field_lst] = scaler.fit_transform(X_test[num_field_lst])"
   ]
  },
  {
   "cell_type": "markdown",
   "id": "4273619d",
   "metadata": {},
   "source": [
    "## Удаление категориальных признаков после Кодирования"
   ]
  },
  {
   "cell_type": "code",
   "execution_count": 62,
   "id": "2f643cc3",
   "metadata": {},
   "outputs": [],
   "source": [
    "X_train.drop(cat_field_lst, axis = 1, inplace = True)\n",
    "X_test.drop(cat_field_lst, axis = 1, inplace = True)"
   ]
  },
  {
   "cell_type": "markdown",
   "id": "1ebe6578",
   "metadata": {},
   "source": [
    "## Приведение X_train и X_test к единой структуре"
   ]
  },
  {
   "cell_type": "code",
   "execution_count": 63,
   "id": "a8718461",
   "metadata": {},
   "outputs": [
    {
     "name": "stdout",
     "output_type": "stream",
     "text": [
      "add to X_train -  Index([], dtype='object')\n",
      "add to X_test -  Index(['x1_yellow_white'], dtype='object')\n"
     ]
    }
   ],
   "source": [
    "# После кодирования категориальных признаков структура X_test и X_train будут отличаться\n",
    "# из-за присутствия в общем датасете единичных записей некоторых значений star_color\n",
    "\n",
    "add_cols, X_train= add_columns(from_df = X_test, to_df = X_train, fill_value = 0, sort_column_flag = True)\n",
    "print('add to X_train - ', add_cols)\n",
    "add_cols, X_test = add_columns(from_df = X_train, to_df = X_test, fill_value = 0, sort_column_flag = True)\n",
    "print('add to X_test - ', add_cols)"
   ]
  },
  {
   "cell_type": "code",
   "execution_count": 64,
   "id": "a5c2f6b0",
   "metadata": {},
   "outputs": [
    {
     "data": {
      "text/html": [
       "<div>\n",
       "<style scoped>\n",
       "    .dataframe tbody tr th:only-of-type {\n",
       "        vertical-align: middle;\n",
       "    }\n",
       "\n",
       "    .dataframe tbody tr th {\n",
       "        vertical-align: top;\n",
       "    }\n",
       "\n",
       "    .dataframe thead th {\n",
       "        text-align: right;\n",
       "    }\n",
       "</style>\n",
       "<table border=\"1\" class=\"dataframe\">\n",
       "  <thead>\n",
       "    <tr style=\"text-align: right;\">\n",
       "      <th></th>\n",
       "      <th>absolute_magnitude</th>\n",
       "      <th>luminosity</th>\n",
       "      <th>radius</th>\n",
       "      <th>x0_1</th>\n",
       "      <th>x0_2</th>\n",
       "      <th>x0_3</th>\n",
       "      <th>x0_4</th>\n",
       "      <th>x0_5</th>\n",
       "      <th>x1_blue_white</th>\n",
       "      <th>x1_orange</th>\n",
       "      <th>x1_red</th>\n",
       "      <th>x1_white</th>\n",
       "      <th>x1_yellow</th>\n",
       "      <th>x1_yellow_white</th>\n",
       "    </tr>\n",
       "    <tr>\n",
       "      <th>star_index</th>\n",
       "      <th></th>\n",
       "      <th></th>\n",
       "      <th></th>\n",
       "      <th></th>\n",
       "      <th></th>\n",
       "      <th></th>\n",
       "      <th></th>\n",
       "      <th></th>\n",
       "      <th></th>\n",
       "      <th></th>\n",
       "      <th></th>\n",
       "      <th></th>\n",
       "      <th></th>\n",
       "      <th></th>\n",
       "    </tr>\n",
       "  </thead>\n",
       "  <tbody>\n",
       "    <tr>\n",
       "      <th>63</th>\n",
       "      <td>1.214583</td>\n",
       "      <td>-0.606437</td>\n",
       "      <td>-0.484390</td>\n",
       "      <td>0.0</td>\n",
       "      <td>0.0</td>\n",
       "      <td>0.0</td>\n",
       "      <td>0.0</td>\n",
       "      <td>0.0</td>\n",
       "      <td>0.0</td>\n",
       "      <td>0.0</td>\n",
       "      <td>1.0</td>\n",
       "      <td>0.0</td>\n",
       "      <td>0.0</td>\n",
       "      <td>0.0</td>\n",
       "    </tr>\n",
       "    <tr>\n",
       "      <th>58</th>\n",
       "      <td>-1.456533</td>\n",
       "      <td>0.480250</td>\n",
       "      <td>1.316896</td>\n",
       "      <td>0.0</td>\n",
       "      <td>0.0</td>\n",
       "      <td>0.0</td>\n",
       "      <td>0.0</td>\n",
       "      <td>1.0</td>\n",
       "      <td>0.0</td>\n",
       "      <td>0.0</td>\n",
       "      <td>1.0</td>\n",
       "      <td>0.0</td>\n",
       "      <td>0.0</td>\n",
       "      <td>0.0</td>\n",
       "    </tr>\n",
       "    <tr>\n",
       "      <th>183</th>\n",
       "      <td>1.250577</td>\n",
       "      <td>-0.606437</td>\n",
       "      <td>-0.484377</td>\n",
       "      <td>0.0</td>\n",
       "      <td>0.0</td>\n",
       "      <td>0.0</td>\n",
       "      <td>0.0</td>\n",
       "      <td>0.0</td>\n",
       "      <td>0.0</td>\n",
       "      <td>0.0</td>\n",
       "      <td>1.0</td>\n",
       "      <td>0.0</td>\n",
       "      <td>0.0</td>\n",
       "      <td>0.0</td>\n",
       "    </tr>\n",
       "  </tbody>\n",
       "</table>\n",
       "</div>"
      ],
      "text/plain": [
       "            absolute_magnitude  luminosity    radius  x0_1  x0_2  x0_3  x0_4  \\\n",
       "star_index                                                                     \n",
       "63                    1.214583   -0.606437 -0.484390   0.0   0.0   0.0   0.0   \n",
       "58                   -1.456533    0.480250  1.316896   0.0   0.0   0.0   0.0   \n",
       "183                   1.250577   -0.606437 -0.484377   0.0   0.0   0.0   0.0   \n",
       "\n",
       "            x0_5  x1_blue_white  x1_orange  x1_red  x1_white  x1_yellow  \\\n",
       "star_index                                                                \n",
       "63           0.0            0.0        0.0     1.0       0.0        0.0   \n",
       "58           1.0            0.0        0.0     1.0       0.0        0.0   \n",
       "183          0.0            0.0        0.0     1.0       0.0        0.0   \n",
       "\n",
       "            x1_yellow_white  \n",
       "star_index                   \n",
       "63                      0.0  \n",
       "58                      0.0  \n",
       "183                     0.0  "
      ]
     },
     "metadata": {},
     "output_type": "display_data"
    },
    {
     "data": {
      "text/html": [
       "<div>\n",
       "<style scoped>\n",
       "    .dataframe tbody tr th:only-of-type {\n",
       "        vertical-align: middle;\n",
       "    }\n",
       "\n",
       "    .dataframe tbody tr th {\n",
       "        vertical-align: top;\n",
       "    }\n",
       "\n",
       "    .dataframe thead th {\n",
       "        text-align: right;\n",
       "    }\n",
       "</style>\n",
       "<table border=\"1\" class=\"dataframe\">\n",
       "  <thead>\n",
       "    <tr style=\"text-align: right;\">\n",
       "      <th></th>\n",
       "      <th>absolute_magnitude</th>\n",
       "      <th>luminosity</th>\n",
       "      <th>radius</th>\n",
       "      <th>x0_1</th>\n",
       "      <th>x0_2</th>\n",
       "      <th>x0_3</th>\n",
       "      <th>x0_4</th>\n",
       "      <th>x0_5</th>\n",
       "      <th>x1_blue_white</th>\n",
       "      <th>x1_orange</th>\n",
       "      <th>x1_red</th>\n",
       "      <th>x1_white</th>\n",
       "      <th>x1_yellow</th>\n",
       "      <th>x1_yellow_white</th>\n",
       "    </tr>\n",
       "    <tr>\n",
       "      <th>star_index</th>\n",
       "      <th></th>\n",
       "      <th></th>\n",
       "      <th></th>\n",
       "      <th></th>\n",
       "      <th></th>\n",
       "      <th></th>\n",
       "      <th></th>\n",
       "      <th></th>\n",
       "      <th></th>\n",
       "      <th></th>\n",
       "      <th></th>\n",
       "      <th></th>\n",
       "      <th></th>\n",
       "      <th></th>\n",
       "    </tr>\n",
       "  </thead>\n",
       "  <tbody>\n",
       "    <tr>\n",
       "      <th>216</th>\n",
       "      <td>-0.375661</td>\n",
       "      <td>-0.619146</td>\n",
       "      <td>-0.377496</td>\n",
       "      <td>0.0</td>\n",
       "      <td>0.0</td>\n",
       "      <td>1.0</td>\n",
       "      <td>0.0</td>\n",
       "      <td>0.0</td>\n",
       "      <td>0.0</td>\n",
       "      <td>0.0</td>\n",
       "      <td>0.0</td>\n",
       "      <td>1.0</td>\n",
       "      <td>0.0</td>\n",
       "      <td>0</td>\n",
       "    </tr>\n",
       "    <tr>\n",
       "      <th>201</th>\n",
       "      <td>0.658217</td>\n",
       "      <td>-0.619374</td>\n",
       "      <td>-0.381566</td>\n",
       "      <td>0.0</td>\n",
       "      <td>1.0</td>\n",
       "      <td>0.0</td>\n",
       "      <td>0.0</td>\n",
       "      <td>0.0</td>\n",
       "      <td>1.0</td>\n",
       "      <td>0.0</td>\n",
       "      <td>0.0</td>\n",
       "      <td>0.0</td>\n",
       "      <td>0.0</td>\n",
       "      <td>0</td>\n",
       "    </tr>\n",
       "    <tr>\n",
       "      <th>53</th>\n",
       "      <td>-1.274257</td>\n",
       "      <td>3.700948</td>\n",
       "      <td>3.151477</td>\n",
       "      <td>0.0</td>\n",
       "      <td>0.0</td>\n",
       "      <td>0.0</td>\n",
       "      <td>0.0</td>\n",
       "      <td>1.0</td>\n",
       "      <td>0.0</td>\n",
       "      <td>0.0</td>\n",
       "      <td>1.0</td>\n",
       "      <td>0.0</td>\n",
       "      <td>0.0</td>\n",
       "      <td>0</td>\n",
       "    </tr>\n",
       "  </tbody>\n",
       "</table>\n",
       "</div>"
      ],
      "text/plain": [
       "            absolute_magnitude  luminosity    radius  x0_1  x0_2  x0_3  x0_4  \\\n",
       "star_index                                                                     \n",
       "216                  -0.375661   -0.619146 -0.377496   0.0   0.0   1.0   0.0   \n",
       "201                   0.658217   -0.619374 -0.381566   0.0   1.0   0.0   0.0   \n",
       "53                   -1.274257    3.700948  3.151477   0.0   0.0   0.0   0.0   \n",
       "\n",
       "            x0_5  x1_blue_white  x1_orange  x1_red  x1_white  x1_yellow  \\\n",
       "star_index                                                                \n",
       "216          0.0            0.0        0.0     0.0       1.0        0.0   \n",
       "201          0.0            1.0        0.0     0.0       0.0        0.0   \n",
       "53           1.0            0.0        0.0     1.0       0.0        0.0   \n",
       "\n",
       "            x1_yellow_white  \n",
       "star_index                   \n",
       "216                       0  \n",
       "201                       0  \n",
       "53                        0  "
      ]
     },
     "metadata": {},
     "output_type": "display_data"
    }
   ],
   "source": [
    "display(X_train.head(3))\n",
    "display(X_test.head(3))"
   ]
  },
  {
   "cell_type": "markdown",
   "id": "fee18b88",
   "metadata": {},
   "source": [
    "## Формирование тензоров по выборкам"
   ]
  },
  {
   "cell_type": "code",
   "execution_count": 65,
   "id": "6a55dbab",
   "metadata": {},
   "outputs": [],
   "source": [
    "X_train_torch = torch.FloatTensor(X_train.values)\n",
    "X_test_torch = torch.FloatTensor(X_test.values)\n",
    "\n",
    "y_train_torch = torch.FloatTensor(y_train.values) #\n",
    "y_test_torch = torch.FloatTensor(y_test.values) #"
   ]
  },
  {
   "cell_type": "markdown",
   "id": "funded-electric",
   "metadata": {},
   "source": [
    "# Построение базовой нейронной сети"
   ]
  },
  {
   "cell_type": "markdown",
   "id": "73a84256",
   "metadata": {},
   "source": [
    "## Установка параметров модели формирование объекта класса Model"
   ]
  },
  {
   "cell_type": "code",
   "execution_count": 66,
   "id": "3f5b44d5",
   "metadata": {},
   "outputs": [],
   "source": [
    "# Количество входящих нейронов = количеству входящих признаков\n",
    "N_IN_NEURONS = X_train_torch.size(1) \n",
    "\n",
    "# Количество нейронов первого уровня\n",
    "N_HIDDEN_NEURONS_1 = 50\n",
    "\n",
    "# Количество нейронов второго уровня\n",
    "N_HIDDEN_NEURONS_2 = 20\n",
    "\n",
    "# Количество нейронов третьего уровня\n",
    "N_HIDDEN_NEURONS_3 = 5               \n",
    "\n",
    "# Количество выходных нейронов\n",
    "N_OUT_NEURONS = 1\n",
    "\n",
    "# Функция потерь\n",
    "LOSS = nn.MSELoss()\n",
    "\n",
    "# Количество эпох\n",
    "EPOCHS_COUNT = 250\n",
    "\n",
    "# Список значений размеров батча\n",
    "BATCH_SIZE = [3, 6, 12, 24]\n",
    "\n",
    "# Количество итераций обучения\n",
    "OPTIMAZE_ITTERATION_COUNT = 4"
   ]
  },
  {
   "cell_type": "code",
   "execution_count": 67,
   "id": "8067134c",
   "metadata": {},
   "outputs": [],
   "source": [
    "# формирование объекта класса Model без Dropout и BatchNorm регуляризации\n",
    "net = Model(\n",
    "    N_IN_NEURONS,\n",
    "    N_HIDDEN_NEURONS_1,\n",
    "    N_HIDDEN_NEURONS_2,\n",
    "    N_HIDDEN_NEURONS_3,\n",
    "    N_OUT_NEURONS,\n",
    "    normalization_flag = False\n",
    "           )"
   ]
  },
  {
   "cell_type": "markdown",
   "id": "3197f618",
   "metadata": {},
   "source": [
    "## Кросс-валидация `9min 31s`"
   ]
  },
  {
   "cell_type": "code",
   "execution_count": 68,
   "id": "4bf70af1",
   "metadata": {
    "scrolled": true
   },
   "outputs": [
    {
     "name": "stdout",
     "output_type": "stream",
     "text": [
      "\u001b[94m ------------------------------------------------------------------- \u001b[0m\n",
      "\u001b[94m Оптимизатор -  \u001b[0m\n"
     ]
    },
    {
     "data": {
      "text/plain": [
       "RMSprop (\n",
       "Parameter Group 0\n",
       "    alpha: 0.99\n",
       "    centered: False\n",
       "    eps: 1e-08\n",
       "    lr: 0.001\n",
       "    momentum: 0\n",
       "    weight_decay: 0\n",
       ")"
      ]
     },
     "metadata": {},
     "output_type": "display_data"
    },
    {
     "name": "stdout",
     "output_type": "stream",
     "text": [
      "\u001b[94m batch_size =  \u001b[0m 3\n",
      "\u001b[94m     Итерация  \u001b[0m 1 \u001b[94m RMSE =  \u001b[0m 5579.0322\n",
      "\u001b[94m     Итерация  \u001b[0m 2 \u001b[94m RMSE =  \u001b[0m 5520.604\n",
      "\u001b[94m     Итерация  \u001b[0m 3 \u001b[94m RMSE =  \u001b[0m 8061.8486\n",
      "\u001b[94m     Итерация  \u001b[0m 4 \u001b[94m RMSE =  \u001b[0m 4195.9146\n",
      "\u001b[94m Средняя RMSE = \u001b[0m 5839.3499 \n",
      "\n",
      "\u001b[94m batch_size =  \u001b[0m 6\n",
      "\u001b[94m     Итерация  \u001b[0m 1 \u001b[94m RMSE =  \u001b[0m 5858.1201\n",
      "\u001b[94m     Итерация  \u001b[0m 2 \u001b[94m RMSE =  \u001b[0m 6266.4316\n",
      "\u001b[94m     Итерация  \u001b[0m 3 \u001b[94m RMSE =  \u001b[0m 9163.2646\n",
      "\u001b[94m     Итерация  \u001b[0m 4 \u001b[94m RMSE =  \u001b[0m 4613.1621\n",
      "\u001b[94m Средняя RMSE = \u001b[0m 6475.2446 \n",
      "\n",
      "\u001b[94m batch_size =  \u001b[0m 12\n",
      "\u001b[94m     Итерация  \u001b[0m 1 \u001b[94m RMSE =  \u001b[0m 6731.3306\n",
      "\u001b[94m     Итерация  \u001b[0m 2 \u001b[94m RMSE =  \u001b[0m 6410.5088\n",
      "\u001b[94m     Итерация  \u001b[0m 3 \u001b[94m RMSE =  \u001b[0m 9962.9395\n",
      "\u001b[94m     Итерация  \u001b[0m 4 \u001b[94m RMSE =  \u001b[0m 5410.644\n",
      "\u001b[94m Средняя RMSE = \u001b[0m 7128.8557 \n",
      "\n",
      "\u001b[94m batch_size =  \u001b[0m 24\n",
      "\u001b[94m     Итерация  \u001b[0m 1 \u001b[94m RMSE =  \u001b[0m 10053.0762\n",
      "\u001b[94m     Итерация  \u001b[0m 2 \u001b[94m RMSE =  \u001b[0m 8301.8945\n",
      "\u001b[94m     Итерация  \u001b[0m 3 \u001b[94m RMSE =  \u001b[0m 12858.1738\n",
      "\u001b[94m     Итерация  \u001b[0m 4 \u001b[94m RMSE =  \u001b[0m 7117.8589\n",
      "\u001b[94m Средняя RMSE = \u001b[0m 9582.7509 \n",
      "\n",
      "\u001b[94m ------------------------------------------------------------------- \u001b[0m\n",
      "\u001b[94m Оптимизатор -  \u001b[0m\n"
     ]
    },
    {
     "data": {
      "text/plain": [
       "RMSprop (\n",
       "Parameter Group 0\n",
       "    alpha: 0.99\n",
       "    centered: False\n",
       "    eps: 1e-08\n",
       "    lr: 0.01\n",
       "    momentum: 0\n",
       "    weight_decay: 0\n",
       ")"
      ]
     },
     "metadata": {},
     "output_type": "display_data"
    },
    {
     "name": "stdout",
     "output_type": "stream",
     "text": [
      "\u001b[94m batch_size =  \u001b[0m 3\n",
      "\u001b[94m     Итерация  \u001b[0m 1 \u001b[94m RMSE =  \u001b[0m 4214.0142\n",
      "\u001b[94m     Итерация  \u001b[0m 2 \u001b[94m RMSE =  \u001b[0m 3551.0701\n",
      "\u001b[94m     Итерация  \u001b[0m 3 \u001b[94m RMSE =  \u001b[0m 3091.4321\n",
      "\u001b[94m     Итерация  \u001b[0m 4 \u001b[94m RMSE =  \u001b[0m 4400.9102\n",
      "\u001b[94m Средняя RMSE = \u001b[0m 3814.3567 \n",
      "\n",
      "\u001b[94m batch_size =  \u001b[0m 6\n",
      "\u001b[94m     Итерация  \u001b[0m 1 \u001b[94m RMSE =  \u001b[0m 3984.9253\n",
      "\u001b[94m     Итерация  \u001b[0m 2 \u001b[94m RMSE =  \u001b[0m 3445.7473\n",
      "\u001b[94m     Итерация  \u001b[0m 3 \u001b[94m RMSE =  \u001b[0m 3170.0332\n",
      "\u001b[94m     Итерация  \u001b[0m 4 \u001b[94m RMSE =  \u001b[0m 3779.8069\n",
      "\u001b[94m Средняя RMSE = \u001b[0m 3595.1282 \n",
      "\n",
      "\u001b[94m batch_size =  \u001b[0m 12\n",
      "\u001b[94m     Итерация  \u001b[0m 1 \u001b[94m RMSE =  \u001b[0m 3806.6282\n",
      "\u001b[94m     Итерация  \u001b[0m 2 \u001b[94m RMSE =  \u001b[0m 3354.3462\n",
      "\u001b[94m     Итерация  \u001b[0m 3 \u001b[94m RMSE =  \u001b[0m 3261.9189\n",
      "\u001b[94m     Итерация  \u001b[0m 4 \u001b[94m RMSE =  \u001b[0m 3440.291\n",
      "\u001b[94m Средняя RMSE = \u001b[0m 3465.7961 \n",
      "\n",
      "\u001b[94m batch_size =  \u001b[0m 24\n",
      "\u001b[94m     Итерация  \u001b[0m 1 \u001b[94m RMSE =  \u001b[0m 3813.302\n",
      "\u001b[94m     Итерация  \u001b[0m 2 \u001b[94m RMSE =  \u001b[0m 3683.0\n",
      "\u001b[94m     Итерация  \u001b[0m 3 \u001b[94m RMSE =  \u001b[0m 2981.7844\n",
      "\u001b[94m     Итерация  \u001b[0m 4 \u001b[94m RMSE =  \u001b[0m 3527.8271\n",
      "\u001b[94m Средняя RMSE = \u001b[0m 3501.4784 \n",
      "\n",
      "\u001b[94m ------------------------------------------------------------------- \u001b[0m\n",
      "\u001b[94m Оптимизатор -  \u001b[0m\n"
     ]
    },
    {
     "data": {
      "text/plain": [
       "Adam (\n",
       "Parameter Group 0\n",
       "    amsgrad: False\n",
       "    betas: (0.9, 0.999)\n",
       "    eps: 1e-08\n",
       "    lr: 0.001\n",
       "    weight_decay: 0\n",
       ")"
      ]
     },
     "metadata": {},
     "output_type": "display_data"
    },
    {
     "name": "stdout",
     "output_type": "stream",
     "text": [
      "\u001b[94m batch_size =  \u001b[0m 3\n",
      "\u001b[94m     Итерация  \u001b[0m 1 \u001b[94m RMSE =  \u001b[0m 5332.2441\n",
      "\u001b[94m     Итерация  \u001b[0m 2 \u001b[94m RMSE =  \u001b[0m 5076.9502\n",
      "\u001b[94m     Итерация  \u001b[0m 3 \u001b[94m RMSE =  \u001b[0m 6788.4712\n",
      "\u001b[94m     Итерация  \u001b[0m 4 \u001b[94m RMSE =  \u001b[0m 3649.9673\n",
      "\u001b[94m Средняя RMSE = \u001b[0m 5211.9082 \n",
      "\n",
      "\u001b[94m batch_size =  \u001b[0m 6\n",
      "\u001b[94m     Итерация  \u001b[0m 1 \u001b[94m RMSE =  \u001b[0m 5369.0273\n",
      "\u001b[94m     Итерация  \u001b[0m 2 \u001b[94m RMSE =  \u001b[0m 5449.5464\n",
      "\u001b[94m     Итерация  \u001b[0m 3 \u001b[94m RMSE =  \u001b[0m 8350.9248\n",
      "\u001b[94m     Итерация  \u001b[0m 4 \u001b[94m RMSE =  \u001b[0m 4268.1265\n",
      "\u001b[94m Средняя RMSE = \u001b[0m 5859.4062 \n",
      "\n",
      "\u001b[94m batch_size =  \u001b[0m 12\n",
      "\u001b[94m     Итерация  \u001b[0m 1 \u001b[94m RMSE =  \u001b[0m 5912.8691\n",
      "\u001b[94m     Итерация  \u001b[0m 2 \u001b[94m RMSE =  \u001b[0m 6173.3345\n",
      "\u001b[94m     Итерация  \u001b[0m 3 \u001b[94m RMSE =  \u001b[0m 9829.6572\n",
      "\u001b[94m     Итерация  \u001b[0m 4 \u001b[94m RMSE =  \u001b[0m 4936.8223\n",
      "\u001b[94m Средняя RMSE = \u001b[0m 6713.1708 \n",
      "\n",
      "\u001b[94m batch_size =  \u001b[0m 24\n",
      "\u001b[94m     Итерация  \u001b[0m 1 \u001b[94m RMSE =  \u001b[0m 7526.1353\n",
      "\u001b[94m     Итерация  \u001b[0m 2 \u001b[94m RMSE =  \u001b[0m 6825.0879\n",
      "\u001b[94m     Итерация  \u001b[0m 3 \u001b[94m RMSE =  \u001b[0m 16133.3877\n",
      "\u001b[94m     Итерация  \u001b[0m 4 \u001b[94m RMSE =  \u001b[0m 12841.8457\n",
      "\u001b[94m Средняя RMSE = \u001b[0m 10831.6141 \n",
      "\n",
      "\u001b[94m ------------------------------------------------------------------- \u001b[0m\n",
      "\u001b[94m Оптимизатор -  \u001b[0m\n"
     ]
    },
    {
     "data": {
      "text/plain": [
       "Adam (\n",
       "Parameter Group 0\n",
       "    amsgrad: False\n",
       "    betas: (0.9, 0.999)\n",
       "    eps: 1e-08\n",
       "    lr: 0.01\n",
       "    weight_decay: 0\n",
       ")"
      ]
     },
     "metadata": {},
     "output_type": "display_data"
    },
    {
     "name": "stdout",
     "output_type": "stream",
     "text": [
      "\u001b[94m batch_size =  \u001b[0m 3\n",
      "\u001b[94m     Итерация  \u001b[0m 1 \u001b[94m RMSE =  \u001b[0m 4005.3218\n",
      "\u001b[94m     Итерация  \u001b[0m 2 \u001b[94m RMSE =  \u001b[0m 3266.5168\n",
      "\u001b[94m     Итерация  \u001b[0m 3 \u001b[94m RMSE =  \u001b[0m 3406.4614\n",
      "\u001b[94m     Итерация  \u001b[0m 4 \u001b[94m RMSE =  \u001b[0m 4285.2671\n",
      "\u001b[94m Средняя RMSE = \u001b[0m 3740.8918 \n",
      "\n",
      "\u001b[94m batch_size =  \u001b[0m 6\n",
      "\u001b[94m     Итерация  \u001b[0m 1 \u001b[94m RMSE =  \u001b[0m 4088.5562\n",
      "\u001b[94m     Итерация  \u001b[0m 2 \u001b[94m RMSE =  \u001b[0m 3355.9277\n",
      "\u001b[94m     Итерация  \u001b[0m 3 \u001b[94m RMSE =  \u001b[0m 3491.8672\n",
      "\u001b[94m     Итерация  \u001b[0m 4 \u001b[94m RMSE =  \u001b[0m 4506.501\n",
      "\u001b[94m Средняя RMSE = \u001b[0m 3860.713 \n",
      "\n",
      "\u001b[94m batch_size =  \u001b[0m 12\n",
      "\u001b[94m     Итерация  \u001b[0m 1 \u001b[94m RMSE =  \u001b[0m 4115.3623\n",
      "\u001b[94m     Итерация  \u001b[0m 2 \u001b[94m RMSE =  \u001b[0m 3455.6628\n",
      "\u001b[94m     Итерация  \u001b[0m 3 \u001b[94m RMSE =  \u001b[0m 3555.0869\n",
      "\u001b[94m     Итерация  \u001b[0m 4 \u001b[94m RMSE =  \u001b[0m 3620.4233\n",
      "\u001b[94m Средняя RMSE = \u001b[0m 3686.6338 \n",
      "\n",
      "\u001b[94m batch_size =  \u001b[0m 24\n",
      "\u001b[94m     Итерация  \u001b[0m 1 \u001b[94m RMSE =  \u001b[0m 4064.0671\n",
      "\u001b[94m     Итерация  \u001b[0m 2 \u001b[94m RMSE =  \u001b[0m 3523.4729\n",
      "\u001b[94m     Итерация  \u001b[0m 3 \u001b[94m RMSE =  \u001b[0m 3196.0312\n",
      "\u001b[94m     Итерация  \u001b[0m 4 \u001b[94m RMSE =  \u001b[0m 3630.4319\n",
      "\u001b[94m Средняя RMSE = \u001b[0m 3603.5008 \n",
      "\n",
      "\u001b[94m ------------------------------------------------------------------- \u001b[0m\n",
      "\u001b[94m Оптимизатор -  \u001b[0m\n"
     ]
    },
    {
     "data": {
      "text/plain": [
       "Adamax (\n",
       "Parameter Group 0\n",
       "    betas: (0.9, 0.999)\n",
       "    eps: 1e-08\n",
       "    lr: 0.001\n",
       "    weight_decay: 0\n",
       ")"
      ]
     },
     "metadata": {},
     "output_type": "display_data"
    },
    {
     "name": "stdout",
     "output_type": "stream",
     "text": [
      "\u001b[94m batch_size =  \u001b[0m 3\n",
      "\u001b[94m     Итерация  \u001b[0m 1 \u001b[94m RMSE =  \u001b[0m 6339.042\n",
      "\u001b[94m     Итерация  \u001b[0m 2 \u001b[94m RMSE =  \u001b[0m 6494.1099\n",
      "\u001b[94m     Итерация  \u001b[0m 3 \u001b[94m RMSE =  \u001b[0m 10454.623\n",
      "\u001b[94m     Итерация  \u001b[0m 4 \u001b[94m RMSE =  \u001b[0m 5724.1533\n",
      "\u001b[94m Средняя RMSE = \u001b[0m 7252.9821 \n",
      "\n",
      "\u001b[94m batch_size =  \u001b[0m 6\n",
      "\u001b[94m     Итерация  \u001b[0m 1 \u001b[94m RMSE =  \u001b[0m 8767.9746\n",
      "\u001b[94m     Итерация  \u001b[0m 2 \u001b[94m RMSE =  \u001b[0m 9798.3193\n",
      "\u001b[94m     Итерация  \u001b[0m 3 \u001b[94m RMSE =  \u001b[0m 12233.5908\n",
      "\u001b[94m     Итерация  \u001b[0m 4 \u001b[94m RMSE =  \u001b[0m 7337.4463\n",
      "\u001b[94m Средняя RMSE = \u001b[0m 9534.3327 \n",
      "\n",
      "\u001b[94m batch_size =  \u001b[0m 12\n",
      "\u001b[94m     Итерация  \u001b[0m 1 \u001b[94m RMSE =  \u001b[0m 12050.2207\n",
      "\u001b[94m     Итерация  \u001b[0m 2 \u001b[94m RMSE =  \u001b[0m 12195.1016\n",
      "\u001b[94m     Итерация  \u001b[0m 3 \u001b[94m RMSE =  \u001b[0m 15566.5127\n",
      "\u001b[94m     Итерация  \u001b[0m 4 \u001b[94m RMSE =  \u001b[0m 12270.0264\n",
      "\u001b[94m Средняя RMSE = \u001b[0m 13020.4654 \n",
      "\n",
      "\u001b[94m batch_size =  \u001b[0m 24\n",
      "\u001b[94m     Итерация  \u001b[0m 1 \u001b[94m RMSE =  \u001b[0m 12889.0498\n",
      "\u001b[94m     Итерация  \u001b[0m 2 \u001b[94m RMSE =  \u001b[0m 12604.4863\n",
      "\u001b[94m     Итерация  \u001b[0m 3 \u001b[94m RMSE =  \u001b[0m 16251.5996\n",
      "\u001b[94m     Итерация  \u001b[0m 4 \u001b[94m RMSE =  \u001b[0m 12719.7109\n",
      "\u001b[94m Средняя RMSE = \u001b[0m 13616.2116 \n",
      "\n",
      "\u001b[94m ------------------------------------------------------------------- \u001b[0m\n",
      "\u001b[94m Оптимизатор -  \u001b[0m\n"
     ]
    },
    {
     "data": {
      "text/plain": [
       "Adamax (\n",
       "Parameter Group 0\n",
       "    betas: (0.9, 0.999)\n",
       "    eps: 1e-08\n",
       "    lr: 0.01\n",
       "    weight_decay: 0\n",
       ")"
      ]
     },
     "metadata": {},
     "output_type": "display_data"
    },
    {
     "name": "stdout",
     "output_type": "stream",
     "text": [
      "\u001b[94m batch_size =  \u001b[0m 3\n",
      "\u001b[94m     Итерация  \u001b[0m 1 \u001b[94m RMSE =  \u001b[0m 3844.1448\n",
      "\u001b[94m     Итерация  \u001b[0m 2 \u001b[94m RMSE =  \u001b[0m 3498.3616\n",
      "\u001b[94m     Итерация  \u001b[0m 3 \u001b[94m RMSE =  \u001b[0m 3494.2188\n",
      "\u001b[94m     Итерация  \u001b[0m 4 \u001b[94m RMSE =  \u001b[0m 3111.1855\n",
      "\u001b[94m Средняя RMSE = \u001b[0m 3486.9777 \n",
      "\n",
      "\u001b[94m batch_size =  \u001b[0m 6\n",
      "\u001b[94m     Итерация  \u001b[0m 1 \u001b[94m RMSE =  \u001b[0m 4274.0654\n",
      "\u001b[94m     Итерация  \u001b[0m 2 \u001b[94m RMSE =  \u001b[0m 3597.4917\n",
      "\u001b[94m     Итерация  \u001b[0m 3 \u001b[94m RMSE =  \u001b[0m 4786.3608\n",
      "\u001b[94m     Итерация  \u001b[0m 4 \u001b[94m RMSE =  \u001b[0m 3142.447\n",
      "\u001b[94m Средняя RMSE = \u001b[0m 3950.0912 \n",
      "\n",
      "\u001b[94m batch_size =  \u001b[0m 12\n",
      "\u001b[94m     Итерация  \u001b[0m 1 \u001b[94m RMSE =  \u001b[0m 5334.4927\n",
      "\u001b[94m     Итерация  \u001b[0m 2 \u001b[94m RMSE =  \u001b[0m 5004.4028\n",
      "\u001b[94m     Итерация  \u001b[0m 3 \u001b[94m RMSE =  \u001b[0m 8423.2637\n",
      "\u001b[94m     Итерация  \u001b[0m 4 \u001b[94m RMSE =  \u001b[0m 4218.4688\n",
      "\u001b[94m Средняя RMSE = \u001b[0m 5745.157 \n",
      "\n",
      "\u001b[94m batch_size =  \u001b[0m 24\n",
      "\u001b[94m     Итерация  \u001b[0m 1 \u001b[94m RMSE =  \u001b[0m 5293.3569\n",
      "\u001b[94m     Итерация  \u001b[0m 2 \u001b[94m RMSE =  \u001b[0m 6262.6636\n",
      "\u001b[94m     Итерация  \u001b[0m 3 \u001b[94m RMSE =  \u001b[0m 8588.2549\n",
      "\u001b[94m     Итерация  \u001b[0m 4 \u001b[94m RMSE =  \u001b[0m 4371.9102\n",
      "\u001b[94m Средняя RMSE = \u001b[0m 6129.0464 \n",
      "\n",
      "CPU times: user 9min 25s, sys: 656 ms, total: 9min 26s\n",
      "Wall time: 9min 31s\n"
     ]
    }
   ],
   "source": [
    "%%time\n",
    "\n",
    "# Формирование списка оптимизаторов для net-модели\n",
    "OPTIMIZER_LST = get_optimizer_lst(net)\n",
    "\n",
    "# Результаты процесса перебора параметров сохраняется в scores\n",
    "scores = cross_val_run(\n",
    "    net,\n",
    "    X_train_torch,\n",
    "    y_train_torch,\n",
    "    optimazer_lst = OPTIMIZER_LST,\n",
    "    bach_size = BATCH_SIZE,\n",
    "    epochs_count = EPOCHS_COUNT,\n",
    "    optimize_iteration_count = OPTIMAZE_ITTERATION_COUNT,\n",
    "    loss = LOSS)"
   ]
  },
  {
   "cell_type": "code",
   "execution_count": 69,
   "id": "89f5d3fa",
   "metadata": {},
   "outputs": [],
   "source": [
    "# Трансформация scores в DataFrame\n",
    "scores = pd.DataFrame(scores, columns = ['optimizer_index', 'batch_size', 'RMSE'])"
   ]
  },
  {
   "cell_type": "code",
   "execution_count": 70,
   "id": "a9a0870c",
   "metadata": {},
   "outputs": [
    {
     "name": "stdout",
     "output_type": "stream",
     "text": [
      "\u001b[94m Оптимальные параматры модели: \u001b[0m\n",
      "\u001b[94m     Лучший оптимайцзер -  \u001b[0m RMSprop\n",
      "\u001b[94m     Индекс оптимизатора -  \u001b[0m 1\n",
      "\u001b[94m     Размер батча -  \u001b[0m 12\n",
      " \n",
      "\u001b[94m Значение метрики -  3465.7961 \u001b[0m\n"
     ]
    }
   ],
   "source": [
    "# Определение лучших параметров по результатам кросс-валидации\n",
    "\n",
    "# best_optimizer_score_index - индекс лучшего оптимизатора из списка \"зашитого\" в get_optimiser_lst()\n",
    "# best_batch_size\n",
    "# best_RMCE\n",
    "\n",
    "best_optimizer_score_index, best_batch_size, best_RMCE = get_best_model_validation_params(\n",
    "    scores_ = scores,\n",
    "    optimazer_lst = OPTIMIZER_LST,\n",
    "    metrica_field = 'RMSE',\n",
    "    optimizer_index_field = 'optimizer_index',\n",
    "    batch_size_field = 'batch_size')"
   ]
  },
  {
   "cell_type": "markdown",
   "id": "23066bce",
   "metadata": {},
   "source": [
    "## Обучение модели. Формирование прогноза по тестовой выборке."
   ]
  },
  {
   "cell_type": "code",
   "execution_count": 71,
   "id": "d3c5e817",
   "metadata": {},
   "outputs": [
    {
     "name": "stdout",
     "output_type": "stream",
     "text": [
      "\u001b[94m RMSE сети на тестовой выборке =  \u001b[0m 3370\n"
     ]
    }
   ],
   "source": [
    "# обучение модели по лучшим оптимайзеру и размеру батча, полученным на этапе кросс-валидации\n",
    "\n",
    "net = fit_model(\n",
    "    net,\n",
    "    X_train_torch,\n",
    "    y_train_torch,\n",
    "    OPTIMIZER_LST[best_optimizer_score_index],\n",
    "    epochs_count = EPOCHS_COUNT,\n",
    "    batch_size = best_batch_size,\n",
    "    loss = LOSS\n",
    "            )\n",
    "net.eval()\n",
    "\n",
    "test_predict = net.forward(X_test_torch)\n",
    "print(\n",
    "    blue_start, 'RMSE сети на тестовой выборке = ', color_end,\n",
    "    int(torch.sqrt(LOSS(y_test_torch, test_predict)))\n",
    ")"
   ]
  },
  {
   "cell_type": "markdown",
   "id": "a1f42fd2",
   "metadata": {},
   "source": [
    "## Формирование датафрейма для \"Факт - прогноз\" анализа"
   ]
  },
  {
   "cell_type": "code",
   "execution_count": 107,
   "id": "ee2871a7",
   "metadata": {},
   "outputs": [],
   "source": [
    "# Перевод тензоров в датафрейм\n",
    "X_test['Прогноз'] = test_predict.detach().numpy()\n",
    "X_test['Факт'] = y_test_torch.detach().numpy()\n",
    "\n",
    "X_test.reset_index(inplace = True)\n",
    "\n",
    "# Формирование датафрейма, содержащего начальные данные и прогноз\n",
    "result_df = pd.merge(stars_df, X_test, on = 'star_index', suffixes = ('', '_trans'))\n",
    "\n",
    "# Поле delta содержит данные об относительной разности Факта и прогноза\n",
    "result_df['Относительная ошибка'] = result_df.apply(lambda x: round(abs(x.temperature - x.prediction) / x.temperature, 2) , axis = 1)\n",
    "\n",
    "#result_df.head(3).sort_values(by = 'delta', ascending = False)"
   ]
  },
  {
   "cell_type": "markdown",
   "id": "973756c3",
   "metadata": {},
   "source": [
    "## Визуализация Факт-прогноз"
   ]
  },
  {
   "cell_type": "code",
   "execution_count": 98,
   "id": "fd4accb1",
   "metadata": {},
   "outputs": [
    {
     "data": {
      "image/png": "[encoded data removed]",
      "text/plain": [
       "<Figure size 1440x432 with 1 Axes>"
      ]
     },
     "metadata": {
      "needs_background": "light"
     },
     "output_type": "display_data"
    }
   ],
   "source": [
    "result_df.sort_values(by = 'Относительная ошибка', ascending = False).plot(\n",
    "    x = 'star_index',\n",
    "    y = ['Факт', 'Прогноз'],\n",
    "    kind = \"bar\",\n",
    "    figsize = (20, 6),\n",
    "    xlabel = 'Номер звезды',\n",
    "    ylabel = 'Температура'\n",
    ");"
   ]
  },
  {
   "cell_type": "markdown",
   "id": "5489f399",
   "metadata": {},
   "source": [
    "## `Выводы`"
   ]
  },
  {
   "cell_type": "markdown",
   "id": "94ab1653",
   "metadata": {},
   "source": [
    "* Построена сеть, содержащая два скрытых слоя, с учетом значени параметров:\n",
    "    * Количество входящих нейронов = количеству входящих признаков\n",
    "    * Количество нейронов первого уровня = 50\n",
    "    * Количество нейронов второго уровня = 20\n",
    "    * Количество выходных нейронов = 1\n",
    "    * Функция потерь - `nn.MSELoss()`\n",
    "    * Количество эпох = 250\n",
    "    * Список значений размеров батча - 3, 6, 12, 24\n",
    "    * Количество итераций обучения = 4\n",
    "    * Список оптимизаторов - RMSprop, Adam, Adamax\n",
    "* В процессе определения лучших параметров оценивались потери для каждого оптимизатора, со скоростями обучения `lr=1e-3` и `lr=1e-2` и по размерам батча, указанным в соответствующем параметре\n",
    "* Время выполнения кросс-валидации - `6min 15s`\n",
    "* **RMSE сети на тестовой выборке = 3370. Это значение удовлетворяет требование по качеству сети.**\n",
    "* По Факт-прогноз визуализации (данные отсортированы по убыванию относительной ошибке) видно, что максимальные ошибки модель делает чаще для звезд с более высокой температурой."
   ]
  },
  {
   "cell_type": "markdown",
   "id": "growing-supply",
   "metadata": {},
   "source": [
    "## Улучшение нейронной сети"
   ]
  },
  {
   "cell_type": "markdown",
   "id": "0bfd2099",
   "metadata": {},
   "source": [
    "### Формирование объекта класса Model с включенной регуляризации"
   ]
  },
  {
   "cell_type": "code",
   "execution_count": 74,
   "id": "acceptable-forwarding",
   "metadata": {},
   "outputs": [],
   "source": [
    "# формирование объекта класса Model с включенной Dropout и BatchNorm регуляризации\n",
    "net_optimized = Model(\n",
    "    N_IN_NEURONS,\n",
    "    N_HIDDEN_NEURONS_1,\n",
    "    N_HIDDEN_NEURONS_2,\n",
    "    N_HIDDEN_NEURONS_3,\n",
    "    N_OUT_NEURONS,\n",
    "    normalization_flag = True) # Включаем Dropout и BatchNorm регуляризацю."
   ]
  },
  {
   "cell_type": "markdown",
   "id": "d468e494",
   "metadata": {},
   "source": [
    "## Кросс-валидация. `1h 12min 12s`"
   ]
  },
  {
   "cell_type": "code",
   "execution_count": 75,
   "id": "1ac91cc6",
   "metadata": {},
   "outputs": [
    {
     "name": "stdout",
     "output_type": "stream",
     "text": [
      "\u001b[94m ------------------------------------------------------------------- \u001b[0m\n",
      "\u001b[94m Оптимизатор -  \u001b[0m\n"
     ]
    },
    {
     "data": {
      "text/plain": [
       "RMSprop (\n",
       "Parameter Group 0\n",
       "    alpha: 0.99\n",
       "    centered: False\n",
       "    eps: 1e-08\n",
       "    lr: 0.001\n",
       "    momentum: 0\n",
       "    weight_decay: 0\n",
       ")"
      ]
     },
     "metadata": {},
     "output_type": "display_data"
    },
    {
     "name": "stdout",
     "output_type": "stream",
     "text": [
      "\u001b[94m batch_size =  \u001b[0m 3\n",
      "\u001b[94m     Итерация  \u001b[0m 1 \u001b[94m RMSE =  \u001b[0m 3771.1016\n",
      "\u001b[94m     Итерация  \u001b[0m 2 \u001b[94m RMSE =  \u001b[0m 4381.3242\n",
      "\u001b[94m     Итерация  \u001b[0m 3 \u001b[94m RMSE =  \u001b[0m 6984.2612\n",
      "\u001b[94m     Итерация  \u001b[0m 4 \u001b[94m RMSE =  \u001b[0m 3764.6963\n",
      "\u001b[94m Средняя RMSE = \u001b[0m 4725.3458 \n",
      "\n",
      "\u001b[94m batch_size =  \u001b[0m 6\n",
      "\u001b[94m     Итерация  \u001b[0m 1 \u001b[94m RMSE =  \u001b[0m 5579.9771\n",
      "\u001b[94m     Итерация  \u001b[0m 2 \u001b[94m RMSE =  \u001b[0m 5629.9688\n",
      "\u001b[94m     Итерация  \u001b[0m 3 \u001b[94m RMSE =  \u001b[0m 8168.1133\n",
      "\u001b[94m     Итерация  \u001b[0m 4 \u001b[94m RMSE =  \u001b[0m 4620.4292\n",
      "\u001b[94m Средняя RMSE = \u001b[0m 5999.6221 \n",
      "\n",
      "\u001b[94m batch_size =  \u001b[0m 12\n",
      "\u001b[94m     Итерация  \u001b[0m 1 \u001b[94m RMSE =  \u001b[0m 6139.4556\n",
      "\u001b[94m     Итерация  \u001b[0m 2 \u001b[94m RMSE =  \u001b[0m 6228.7964\n",
      "\u001b[94m     Итерация  \u001b[0m 3 \u001b[94m RMSE =  \u001b[0m 9451.5713\n",
      "\u001b[94m     Итерация  \u001b[0m 4 \u001b[94m RMSE =  \u001b[0m 5116.9775\n",
      "\u001b[94m Средняя RMSE = \u001b[0m 6734.2002 \n",
      "\n",
      "\u001b[94m batch_size =  \u001b[0m 24\n",
      "\u001b[94m     Итерация  \u001b[0m 1 \u001b[94m RMSE =  \u001b[0m 6897.1987\n",
      "\u001b[94m     Итерация  \u001b[0m 2 \u001b[94m RMSE =  \u001b[0m 6850.2012\n",
      "\u001b[94m     Итерация  \u001b[0m 3 \u001b[94m RMSE =  \u001b[0m 9831.0654\n",
      "\u001b[94m     Итерация  \u001b[0m 4 \u001b[94m RMSE =  \u001b[0m 5892.7959\n",
      "\u001b[94m Средняя RMSE = \u001b[0m 7367.8153 \n",
      "\n",
      "\u001b[94m ------------------------------------------------------------------- \u001b[0m\n",
      "\u001b[94m Оптимизатор -  \u001b[0m\n"
     ]
    },
    {
     "data": {
      "text/plain": [
       "RMSprop (\n",
       "Parameter Group 0\n",
       "    alpha: 0.99\n",
       "    centered: False\n",
       "    eps: 1e-08\n",
       "    lr: 0.01\n",
       "    momentum: 0\n",
       "    weight_decay: 0\n",
       ")"
      ]
     },
     "metadata": {},
     "output_type": "display_data"
    },
    {
     "name": "stdout",
     "output_type": "stream",
     "text": [
      "\u001b[94m batch_size =  \u001b[0m 3\n",
      "\u001b[94m     Итерация  \u001b[0m 1 \u001b[94m RMSE =  \u001b[0m 4261.4531\n",
      "\u001b[94m     Итерация  \u001b[0m 2 \u001b[94m RMSE =  \u001b[0m 3653.1631\n",
      "\u001b[94m     Итерация  \u001b[0m 3 \u001b[94m RMSE =  \u001b[0m 3684.4512\n",
      "\u001b[94m     Итерация  \u001b[0m 4 \u001b[94m RMSE =  \u001b[0m 5151.9038\n",
      "\u001b[94m Средняя RMSE = \u001b[0m 4187.7428 \n",
      "\n",
      "\u001b[94m batch_size =  \u001b[0m 6\n",
      "\u001b[94m     Итерация  \u001b[0m 1 \u001b[94m RMSE =  \u001b[0m 3976.4963\n",
      "\u001b[94m     Итерация  \u001b[0m 2 \u001b[94m RMSE =  \u001b[0m 4029.7747\n",
      "\u001b[94m     Итерация  \u001b[0m 3 \u001b[94m RMSE =  \u001b[0m 3730.5886\n",
      "\u001b[94m     Итерация  \u001b[0m 4 \u001b[94m RMSE =  \u001b[0m 5065.4995\n",
      "\u001b[94m Средняя RMSE = \u001b[0m 4200.5898 \n",
      "\n",
      "\u001b[94m batch_size =  \u001b[0m 12\n",
      "\u001b[94m     Итерация  \u001b[0m 1 \u001b[94m RMSE =  \u001b[0m 3990.6003\n",
      "\u001b[94m     Итерация  \u001b[0m 2 \u001b[94m RMSE =  \u001b[0m 3491.2244\n",
      "\u001b[94m     Итерация  \u001b[0m 3 \u001b[94m RMSE =  \u001b[0m 4509.7407\n",
      "\u001b[94m     Итерация  \u001b[0m 4 \u001b[94m RMSE =  \u001b[0m 3987.8008\n",
      "\u001b[94m Средняя RMSE = \u001b[0m 3994.8416 \n",
      "\n",
      "\u001b[94m batch_size =  \u001b[0m 24\n",
      "\u001b[94m     Итерация  \u001b[0m 1 \u001b[94m RMSE =  \u001b[0m 3857.5483\n",
      "\u001b[94m     Итерация  \u001b[0m 2 \u001b[94m RMSE =  \u001b[0m 3522.7197\n",
      "\u001b[94m     Итерация  \u001b[0m 3 \u001b[94m RMSE =  \u001b[0m 3092.7793\n",
      "\u001b[94m     Итерация  \u001b[0m 4 \u001b[94m RMSE =  \u001b[0m 3980.2151\n",
      "\u001b[94m Средняя RMSE = \u001b[0m 3613.3156 \n",
      "\n",
      "\u001b[94m ------------------------------------------------------------------- \u001b[0m\n",
      "\u001b[94m Оптимизатор -  \u001b[0m\n"
     ]
    },
    {
     "data": {
      "text/plain": [
       "Adam (\n",
       "Parameter Group 0\n",
       "    amsgrad: False\n",
       "    betas: (0.9, 0.999)\n",
       "    eps: 1e-08\n",
       "    lr: 0.001\n",
       "    weight_decay: 0\n",
       ")"
      ]
     },
     "metadata": {},
     "output_type": "display_data"
    },
    {
     "name": "stdout",
     "output_type": "stream",
     "text": [
      "\u001b[94m batch_size =  \u001b[0m 3\n",
      "\u001b[94m     Итерация  \u001b[0m 1 \u001b[94m RMSE =  \u001b[0m 4765.4512\n",
      "\u001b[94m     Итерация  \u001b[0m 2 \u001b[94m RMSE =  \u001b[0m 3602.782\n",
      "\u001b[94m     Итерация  \u001b[0m 3 \u001b[94m RMSE =  \u001b[0m 5072.8779\n",
      "\u001b[94m     Итерация  \u001b[0m 4 \u001b[94m RMSE =  \u001b[0m 3136.3987\n",
      "\u001b[94m Средняя RMSE = \u001b[0m 4144.3775 \n",
      "\n",
      "\u001b[94m batch_size =  \u001b[0m 6\n",
      "\u001b[94m     Итерация  \u001b[0m 1 \u001b[94m RMSE =  \u001b[0m 4130.333\n",
      "\u001b[94m     Итерация  \u001b[0m 2 \u001b[94m RMSE =  \u001b[0m 4356.4966\n",
      "\u001b[94m     Итерация  \u001b[0m 3 \u001b[94m RMSE =  \u001b[0m 7387.3096\n",
      "\u001b[94m     Итерация  \u001b[0m 4 \u001b[94m RMSE =  \u001b[0m 3771.5759\n",
      "\u001b[94m Средняя RMSE = \u001b[0m 4911.4288 \n",
      "\n",
      "\u001b[94m batch_size =  \u001b[0m 12\n",
      "\u001b[94m     Итерация  \u001b[0m 1 \u001b[94m RMSE =  \u001b[0m 5790.9521\n",
      "\u001b[94m     Итерация  \u001b[0m 2 \u001b[94m RMSE =  \u001b[0m 5777.8262\n",
      "\u001b[94m     Итерация  \u001b[0m 3 \u001b[94m RMSE =  \u001b[0m 8855.166\n",
      "\u001b[94m     Итерация  \u001b[0m 4 \u001b[94m RMSE =  \u001b[0m 4967.8003\n",
      "\u001b[94m Средняя RMSE = \u001b[0m 6347.9362 \n",
      "\n",
      "\u001b[94m batch_size =  \u001b[0m 24\n",
      "\u001b[94m     Итерация  \u001b[0m 1 \u001b[94m RMSE =  \u001b[0m 9911.4775\n",
      "\u001b[94m     Итерация  \u001b[0m 2 \u001b[94m RMSE =  \u001b[0m 6238.5674\n",
      "\u001b[94m     Итерация  \u001b[0m 3 \u001b[94m RMSE =  \u001b[0m 12139.4424\n",
      "\u001b[94m     Итерация  \u001b[0m 4 \u001b[94m RMSE =  \u001b[0m 7754.5469\n",
      "\u001b[94m Средняя RMSE = \u001b[0m 9011.0086 \n",
      "\n",
      "\u001b[94m ------------------------------------------------------------------- \u001b[0m\n",
      "\u001b[94m Оптимизатор -  \u001b[0m\n"
     ]
    },
    {
     "data": {
      "text/plain": [
       "Adam (\n",
       "Parameter Group 0\n",
       "    amsgrad: False\n",
       "    betas: (0.9, 0.999)\n",
       "    eps: 1e-08\n",
       "    lr: 0.01\n",
       "    weight_decay: 0\n",
       ")"
      ]
     },
     "metadata": {},
     "output_type": "display_data"
    },
    {
     "name": "stdout",
     "output_type": "stream",
     "text": [
      "\u001b[94m batch_size =  \u001b[0m 3\n",
      "\u001b[94m     Итерация  \u001b[0m 1 \u001b[94m RMSE =  \u001b[0m 4325.2109\n",
      "\u001b[94m     Итерация  \u001b[0m 2 \u001b[94m RMSE =  \u001b[0m 4041.6057\n",
      "\u001b[94m     Итерация  \u001b[0m 3 \u001b[94m RMSE =  \u001b[0m 4131.6548\n",
      "\u001b[94m     Итерация  \u001b[0m 4 \u001b[94m RMSE =  \u001b[0m 4488.1353\n",
      "\u001b[94m Средняя RMSE = \u001b[0m 4246.6517 \n",
      "\n",
      "\u001b[94m batch_size =  \u001b[0m 6\n",
      "\u001b[94m     Итерация  \u001b[0m 1 \u001b[94m RMSE =  \u001b[0m 4265.4199\n",
      "\u001b[94m     Итерация  \u001b[0m 2 \u001b[94m RMSE =  \u001b[0m 3363.2144\n",
      "\u001b[94m     Итерация  \u001b[0m 3 \u001b[94m RMSE =  \u001b[0m 3712.0383\n",
      "\u001b[94m     Итерация  \u001b[0m 4 \u001b[94m RMSE =  \u001b[0m 3788.1743\n",
      "\u001b[94m Средняя RMSE = \u001b[0m 3782.2117 \n",
      "\n",
      "\u001b[94m batch_size =  \u001b[0m 12\n",
      "\u001b[94m     Итерация  \u001b[0m 1 \u001b[94m RMSE =  \u001b[0m 4368.8647\n",
      "\u001b[94m     Итерация  \u001b[0m 2 \u001b[94m RMSE =  \u001b[0m 3636.4368\n",
      "\u001b[94m     Итерация  \u001b[0m 3 \u001b[94m RMSE =  \u001b[0m 3509.5984\n",
      "\u001b[94m     Итерация  \u001b[0m 4 \u001b[94m RMSE =  \u001b[0m 4289.2837\n",
      "\u001b[94m Средняя RMSE = \u001b[0m 3951.0459 \n",
      "\n",
      "\u001b[94m batch_size =  \u001b[0m 24\n",
      "\u001b[94m     Итерация  \u001b[0m 1 \u001b[94m RMSE =  \u001b[0m 3995.2075\n",
      "\u001b[94m     Итерация  \u001b[0m 2 \u001b[94m RMSE =  \u001b[0m 3643.062\n",
      "\u001b[94m     Итерация  \u001b[0m 3 \u001b[94m RMSE =  \u001b[0m 3372.0994\n",
      "\u001b[94m     Итерация  \u001b[0m 4 \u001b[94m RMSE =  \u001b[0m 3536.7422\n",
      "\u001b[94m Средняя RMSE = \u001b[0m 3636.7778 \n",
      "\n",
      "\u001b[94m ------------------------------------------------------------------- \u001b[0m\n",
      "\u001b[94m Оптимизатор -  \u001b[0m\n"
     ]
    },
    {
     "data": {
      "text/plain": [
       "Adamax (\n",
       "Parameter Group 0\n",
       "    betas: (0.9, 0.999)\n",
       "    eps: 1e-08\n",
       "    lr: 0.001\n",
       "    weight_decay: 0\n",
       ")"
      ]
     },
     "metadata": {},
     "output_type": "display_data"
    },
    {
     "name": "stdout",
     "output_type": "stream",
     "text": [
      "\u001b[94m batch_size =  \u001b[0m 3\n",
      "\u001b[94m     Итерация  \u001b[0m 1 \u001b[94m RMSE =  \u001b[0m 6117.4546\n",
      "\u001b[94m     Итерация  \u001b[0m 2 \u001b[94m RMSE =  \u001b[0m 6339.4019\n",
      "\u001b[94m     Итерация  \u001b[0m 3 \u001b[94m RMSE =  \u001b[0m 9882.083\n",
      "\u001b[94m     Итерация  \u001b[0m 4 \u001b[94m RMSE =  \u001b[0m 5591.4331\n",
      "\u001b[94m Средняя RMSE = \u001b[0m 6982.5932 \n",
      "\n",
      "\u001b[94m batch_size =  \u001b[0m 6\n",
      "\u001b[94m     Итерация  \u001b[0m 1 \u001b[94m RMSE =  \u001b[0m 6545.3613\n",
      "\u001b[94m     Итерация  \u001b[0m 2 \u001b[94m RMSE =  \u001b[0m 6736.8843\n",
      "\u001b[94m     Итерация  \u001b[0m 3 \u001b[94m RMSE =  \u001b[0m 10112.0068\n",
      "\u001b[94m     Итерация  \u001b[0m 4 \u001b[94m RMSE =  \u001b[0m 6423.7007\n",
      "\u001b[94m Средняя RMSE = \u001b[0m 7454.4883 \n",
      "\n",
      "\u001b[94m batch_size =  \u001b[0m 12\n",
      "\u001b[94m     Итерация  \u001b[0m 1 \u001b[94m RMSE =  \u001b[0m 10309.8945\n",
      "\u001b[94m     Итерация  \u001b[0m 2 \u001b[94m RMSE =  \u001b[0m 11736.748\n",
      "\u001b[94m     Итерация  \u001b[0m 3 \u001b[94m RMSE =  \u001b[0m 15345.9795\n",
      "\u001b[94m     Итерация  \u001b[0m 4 \u001b[94m RMSE =  \u001b[0m 10020.4287\n",
      "\u001b[94m Средняя RMSE = \u001b[0m 11853.2627 \n",
      "\n",
      "\u001b[94m batch_size =  \u001b[0m 24\n",
      "\u001b[94m     Итерация  \u001b[0m 1 \u001b[94m RMSE =  \u001b[0m 12793.4795\n",
      "\u001b[94m     Итерация  \u001b[0m 2 \u001b[94m RMSE =  \u001b[0m 12660.6592\n",
      "\u001b[94m     Итерация  \u001b[0m 3 \u001b[94m RMSE =  \u001b[0m 16501.6816\n",
      "\u001b[94m     Итерация  \u001b[0m 4 \u001b[94m RMSE =  \u001b[0m 11898.626\n",
      "\u001b[94m Средняя RMSE = \u001b[0m 13463.6116 \n",
      "\n",
      "\u001b[94m ------------------------------------------------------------------- \u001b[0m\n",
      "\u001b[94m Оптимизатор -  \u001b[0m\n"
     ]
    },
    {
     "data": {
      "text/plain": [
       "Adamax (\n",
       "Parameter Group 0\n",
       "    betas: (0.9, 0.999)\n",
       "    eps: 1e-08\n",
       "    lr: 0.01\n",
       "    weight_decay: 0\n",
       ")"
      ]
     },
     "metadata": {},
     "output_type": "display_data"
    },
    {
     "name": "stdout",
     "output_type": "stream",
     "text": [
      "\u001b[94m batch_size =  \u001b[0m 3\n",
      "\u001b[94m     Итерация  \u001b[0m 1 \u001b[94m RMSE =  \u001b[0m 3669.6611\n",
      "\u001b[94m     Итерация  \u001b[0m 2 \u001b[94m RMSE =  \u001b[0m 3500.6392\n",
      "\u001b[94m     Итерация  \u001b[0m 3 \u001b[94m RMSE =  \u001b[0m 3257.6819\n",
      "\u001b[94m     Итерация  \u001b[0m 4 \u001b[94m RMSE =  \u001b[0m 3196.5457\n",
      "\u001b[94m Средняя RMSE = \u001b[0m 3406.132 \n",
      "\n",
      "\u001b[94m batch_size =  \u001b[0m 6\n",
      "\u001b[94m     Итерация  \u001b[0m 1 \u001b[94m RMSE =  \u001b[0m 3457.4465\n",
      "\u001b[94m     Итерация  \u001b[0m 2 \u001b[94m RMSE =  \u001b[0m 3502.9255\n",
      "\u001b[94m     Итерация  \u001b[0m 3 \u001b[94m RMSE =  \u001b[0m 3026.3142\n",
      "\u001b[94m     Итерация  \u001b[0m 4 \u001b[94m RMSE =  \u001b[0m 3134.9497\n",
      "\u001b[94m Средняя RMSE = \u001b[0m 3280.409 \n",
      "\n",
      "\u001b[94m batch_size =  \u001b[0m 12\n",
      "\u001b[94m     Итерация  \u001b[0m 1 \u001b[94m RMSE =  \u001b[0m 4141.1235\n",
      "\u001b[94m     Итерация  \u001b[0m 2 \u001b[94m RMSE =  \u001b[0m 3969.9385\n",
      "\u001b[94m     Итерация  \u001b[0m 3 \u001b[94m RMSE =  \u001b[0m 6246.9399\n",
      "\u001b[94m     Итерация  \u001b[0m 4 \u001b[94m RMSE =  \u001b[0m 3655.9023\n",
      "\u001b[94m Средняя RMSE = \u001b[0m 4503.4761 \n",
      "\n",
      "\u001b[94m batch_size =  \u001b[0m 24\n",
      "\u001b[94m     Итерация  \u001b[0m 1 \u001b[94m RMSE =  \u001b[0m 4920.9531\n",
      "\u001b[94m     Итерация  \u001b[0m 2 \u001b[94m RMSE =  \u001b[0m 4522.1343\n",
      "\u001b[94m     Итерация  \u001b[0m 3 \u001b[94m RMSE =  \u001b[0m 6723.3945\n",
      "\u001b[94m     Итерация  \u001b[0m 4 \u001b[94m RMSE =  \u001b[0m 3894.3423\n",
      "\u001b[94m Средняя RMSE = \u001b[0m 5015.206 \n",
      "\n",
      "CPU times: user 1h 11min 3s, sys: 23.6 s, total: 1h 11min 26s\n",
      "Wall time: 1h 12min 12s\n"
     ]
    }
   ],
   "source": [
    "%%time\n",
    "\n",
    "OPTIMIZER_LST = get_optimizer_lst(net_optimized)\n",
    "\n",
    "scores_1 = cross_val_run(\n",
    "    net_optimized,\n",
    "    X_train_torch,\n",
    "    y_train_torch,\n",
    "    optimazer_lst = OPTIMIZER_LST,\n",
    "    bach_size = BATCH_SIZE,\n",
    "    epochs_count = EPOCHS_COUNT,\n",
    "    optimize_iteration_count = OPTIMAZE_ITTERATION_COUNT,\n",
    "    loss = LOSS)"
   ]
  },
  {
   "cell_type": "code",
   "execution_count": 108,
   "id": "2bb18146",
   "metadata": {},
   "outputs": [],
   "source": [
    "# Трансформация scores_1 в DataFrame\n",
    "scores_1 = pd.DataFrame(scores_1, columns = ['optimizer_index', 'batch_size', 'RMSE'])"
   ]
  },
  {
   "cell_type": "code",
   "execution_count": 109,
   "id": "38c8e170",
   "metadata": {},
   "outputs": [
    {
     "name": "stdout",
     "output_type": "stream",
     "text": [
      "\u001b[94m Оптимальные параматры модели: \u001b[0m\n",
      "\u001b[94m     Лучший оптимайцзер -  \u001b[0m RMSprop\n",
      "\u001b[94m     Индекс оптимизатора -  \u001b[0m 1\n",
      "\u001b[94m     Размер батча -  \u001b[0m 12\n",
      " \n",
      "\u001b[94m Значение метрики -  3465.7961 \u001b[0m\n"
     ]
    }
   ],
   "source": [
    "# Определение лучших параметров по результатам кросс-валидации\n",
    "\n",
    "# best_optimizer_score_index - индекс лучшего оптимизатора из списка \"зашитого\" в get_optimiser_lst()\n",
    "# best_batch_size\n",
    "# best_RMCE\n",
    "\n",
    "best_optimizer_score_index, best_batch_size, best_RMCE = get_best_model_validation_params(\n",
    "    scores_ = scores_1,\n",
    "    optimazer_lst = OPTIMIZER_LST,\n",
    "    metrica_field = 'RMSE',\n",
    "    optimizer_index_field = 'optimizer_index',\n",
    "    batch_size_field = 'batch_size')"
   ]
  },
  {
   "cell_type": "markdown",
   "id": "e599c4a3",
   "metadata": {},
   "source": [
    "## Обучение модели. Формирование прогноза по тестовой выборке."
   ]
  },
  {
   "cell_type": "code",
   "execution_count": 110,
   "id": "1addd9f7",
   "metadata": {},
   "outputs": [
    {
     "name": "stdout",
     "output_type": "stream",
     "text": [
      "\u001b[94m RMSE сети на тестовой выборке =  \u001b[0m 3195\n"
     ]
    }
   ],
   "source": [
    "# обучение модели по лучшим оптимайзеру и размеру батча, полученным на этапе кросс-валидации\n",
    "\n",
    "net = fit_model(\n",
    "    net_optimized,\n",
    "    X_train_torch,\n",
    "    y_train_torch,\n",
    "    OPTIMIZER_LST[best_optimizer_score_index],\n",
    "    epochs_count = EPOCHS_COUNT,\n",
    "    batch_size = best_batch_size,\n",
    "    loss = LOSS\n",
    "            )\n",
    "net.eval()\n",
    "\n",
    "test_predict = net.forward(X_test_torch)\n",
    "print(\n",
    "    blue_start, 'RMSE сети на тестовой выборке = ', color_end,\n",
    "    int(torch.sqrt(LOSS(y_test_torch, test_predict)))\n",
    ")"
   ]
  },
  {
   "cell_type": "markdown",
   "id": "4ad0b422",
   "metadata": {},
   "source": [
    "## Формирование датафрейма для \"Факт - прогноз\" анализа"
   ]
  },
  {
   "cell_type": "code",
   "execution_count": 111,
   "id": "cb4af76a",
   "metadata": {},
   "outputs": [],
   "source": [
    "X_test['Прогноз'] = test_predict.detach().numpy()\n",
    "\n",
    "result_df = pd.merge(\n",
    "    result_df,\n",
    "    X_test[['star_index', 'Прогноз']],\n",
    "    on = 'star_index',\n",
    "    suffixes = ('', '_trans_normalized')\n",
    "                    )\n",
    "\n",
    "# Поле delta_normalized содержит данные об относительной разности Факта и прогноза\n",
    "result_df['Относительная ошибка'] = result_df.apply(\n",
    "    lambda x: round(\n",
    "        abs(x.temperature - x.prediction_normalized) / x.temperature, 2\n",
    "                   ) , axis = 1\n",
    "                                               )\n",
    "#result_df.head(10).sort_values(by = 'delta_normalized', ascending = False)"
   ]
  },
  {
   "cell_type": "markdown",
   "id": "bf7a49aa",
   "metadata": {},
   "source": [
    "## Визуализация Факт-прогноз"
   ]
  },
  {
   "cell_type": "code",
   "execution_count": 112,
   "id": "fd8f3bef",
   "metadata": {},
   "outputs": [
    {
     "data": {
      "image/png": "[encoded data removed]",
      "text/plain": [
       "<Figure size 1440x432 with 1 Axes>"
      ]
     },
     "metadata": {
      "needs_background": "light"
     },
     "output_type": "display_data"
    }
   ],
   "source": [
    "result_df.sort_values(by = 'Относительная ошибка', ascending = False).plot(\n",
    "    x = 'star_index',\n",
    "    y = ['Факт', 'Прогноз'],\n",
    "    kind = \"bar\",\n",
    "    figsize = (20, 6),\n",
    "    xlabel = 'Номер звезды',\n",
    "    ylabel = 'Температура'\n",
    ");"
   ]
  },
  {
   "cell_type": "code",
   "execution_count": 114,
   "id": "c5d832c5",
   "metadata": {},
   "outputs": [
    {
     "data": {
      "image/png": "[encoded data removed]",
      "text/plain": [
       "<Figure size 1440x432 with 1 Axes>"
      ]
     },
     "metadata": {
      "needs_background": "light"
     },
     "output_type": "display_data"
    },
    {
     "data": {
      "text/plain": [
       "''"
      ]
     },
     "execution_count": 114,
     "metadata": {},
     "output_type": "execute_result"
    }
   ],
   "source": [
    "result_df.sort_values(by = 'Относительная ошибка', ascending = False).plot(\n",
    "    x = 'star_index',\n",
    "    y = ['Факт', 'Прогноз', 'Прогноз(улучшеный)'],\n",
    "    kind = \"bar\",\n",
    "    figsize = (20, 6),\n",
    "    xlabel = 'Номер звезды',\n",
    "    ylabel = 'Относительная ошибка'\n",
    ")\n",
    "plt.title(\"Сравнение относительных ошибок базовой и улучшенной сетей.\")\n",
    "plt.show()\n",
    "\n",
    ";"
   ]
  },
  {
   "cell_type": "code",
   "execution_count": 113,
   "id": "eced1182",
   "metadata": {},
   "outputs": [
    {
     "data": {
      "image/png": "[encoded data removed]",
      "text/plain": [
       "<Figure size 1440x432 with 1 Axes>"
      ]
     },
     "metadata": {
      "needs_background": "light"
     },
     "output_type": "display_data"
    },
    {
     "data": {
      "text/plain": [
       "''"
      ]
     },
     "execution_count": 113,
     "metadata": {},
     "output_type": "execute_result"
    }
   ],
   "source": [
    "result_df.sort_values(by = 'Относительная ошибка', ascending = False).plot(\n",
    "    x = 'star_index',\n",
    "    y = ['Относительная ошибка', 'Относительная ошибка (улучшеная)'],\n",
    "    kind = \"bar\",\n",
    "    figsize = (20, 6),\n",
    "    xlabel = 'Номер звезды',\n",
    "    ylabel = 'Относительная ошибка'\n",
    ")\n",
    "plt.title(\"Сравнение относительных ошибок базовой и улучшенной сетей.\")\n",
    "plt.show()\n",
    "\n",
    ";"
   ]
  },
  {
   "cell_type": "markdown",
   "id": "91c03673",
   "metadata": {},
   "source": [
    "## `Выводы`"
   ]
  },
  {
   "cell_type": "markdown",
   "id": "cc8eb24b",
   "metadata": {},
   "source": [
    "* Для улучшения базовой модели, на втором слое добавлен регуляризатор Dropout.\n",
    "* Набор и сочетание регуляризаторов и использование их на слоях проводилось путем \"ручного\" перебора.\n",
    "* Сочетание Dropoutдали лучший RMSE на тесте = `3330`, что незначительно лучше показателя базовой модели.\n",
    "* Время выполнения этапа кроссс - валидации значительно увеличился на улучшеной модели.\n",
    "* **Визуализация сравнения относительных ошибок базовой и улучшеной модели показывает, что в основном относительная ошибка улучшеной модели ниже по сравнению с базовой. При этом улучшеная модель генерирует несколько аномально высоких ошибок.**"
   ]
  },
  {
   "cell_type": "markdown",
   "id": "accurate-infrastructure",
   "metadata": {},
   "source": [
    "# `Общие Выводы`"
   ]
  },
  {
   "cell_type": "markdown",
   "id": "9f35f40f",
   "metadata": {},
   "source": [
    "* Построена и протестирована модель сети, прогнозирующая температуру звезд по предоставленным заказчиком данным.\n",
    "* **Метрика RMSE базовой модели на тестовой выборке = `3370`, что соответствует требованию к качеству модели**\n",
    "* Время выполнения кросс-валидации - `9min 31s`\n",
    "\n",
    "* Для улучшения работы сети, в базовую модель добавлена Dropout регуляризация.\n",
    "* Метрика RMSE улучшенной модели на тестовой выборке = `3330`, что соответствует требованию к качеству модели, и ниже значения метрики базовой модели.\n",
    "* Время выполнения кросс-валидации улучшенной модели - `1h 12min 12s`\n",
    "* **Время выполнения этапа кросс-валидации в разы выше,чем у базовой модели**\n",
    "\n",
    "* **Использование Dropout регуляризации позволило незначительно улучшить базовую модель.**"
   ]
  }
 ],
 "metadata": {
  "ExecuteTimeLog": [
   {
    "duration": 126,
    "start_time": "2025-01-20T15:48:30.959Z"
   },
   {
    "duration": 1416,
    "start_time": "2025-01-20T15:49:11.719Z"
   },
   {
    "duration": 4099,
    "start_time": "2025-01-20T15:52:09.610Z"
   },
   {
    "duration": 864,
    "start_time": "2025-01-20T15:52:17.075Z"
   },
   {
    "duration": 7,
    "start_time": "2025-01-20T15:53:23.178Z"
   },
   {
    "duration": 9,
    "start_time": "2025-01-20T15:54:36.886Z"
   },
   {
    "duration": 2,
    "start_time": "2025-01-20T15:55:22.687Z"
   },
   {
    "duration": 10,
    "start_time": "2025-01-20T15:56:41.302Z"
   },
   {
    "duration": 4,
    "start_time": "2025-01-20T15:58:09.074Z"
   },
   {
    "duration": 7,
    "start_time": "2025-01-20T16:00:35.569Z"
   },
   {
    "duration": 6,
    "start_time": "2025-01-20T16:01:18.118Z"
   },
   {
    "duration": 2,
    "start_time": "2025-01-20T16:01:28.638Z"
   },
   {
    "duration": 3,
    "start_time": "2025-01-20T16:01:42.326Z"
   },
   {
    "duration": 5,
    "start_time": "2025-01-20T16:02:07.582Z"
   },
   {
    "duration": 129,
    "start_time": "2025-01-20T16:03:09.734Z"
   },
   {
    "duration": 2803,
    "start_time": "2025-01-20T16:03:29.118Z"
   },
   {
    "duration": 1926,
    "start_time": "2025-01-20T16:03:31.923Z"
   },
   {
    "duration": 7,
    "start_time": "2025-01-20T16:03:33.851Z"
   },
   {
    "duration": 32,
    "start_time": "2025-01-20T16:03:33.860Z"
   },
   {
    "duration": 10,
    "start_time": "2025-01-20T16:03:33.894Z"
   },
   {
    "duration": 9,
    "start_time": "2025-01-20T16:03:33.906Z"
   },
   {
    "duration": 20,
    "start_time": "2025-01-20T16:03:33.916Z"
   },
   {
    "duration": 27,
    "start_time": "2025-01-20T16:03:33.938Z"
   },
   {
    "duration": 26,
    "start_time": "2025-01-20T16:03:33.966Z"
   },
   {
    "duration": 9,
    "start_time": "2025-01-20T16:03:33.994Z"
   },
   {
    "duration": 16,
    "start_time": "2025-01-20T16:03:34.005Z"
   },
   {
    "duration": 13,
    "start_time": "2025-01-20T16:03:34.023Z"
   },
   {
    "duration": 27,
    "start_time": "2025-01-20T16:03:34.038Z"
   },
   {
    "duration": 19,
    "start_time": "2025-01-20T16:03:34.066Z"
   },
   {
    "duration": 9,
    "start_time": "2025-01-20T16:03:34.086Z"
   },
   {
    "duration": 150,
    "start_time": "2025-01-20T16:03:34.096Z"
   },
   {
    "duration": 6,
    "start_time": "2025-01-20T16:04:48.578Z"
   },
   {
    "duration": 56,
    "start_time": "2025-01-20T16:05:16.641Z"
   },
   {
    "duration": 121,
    "start_time": "2025-01-20T16:05:47.986Z"
   },
   {
    "duration": 2,
    "start_time": "2025-01-20T17:44:23.540Z"
   },
   {
    "duration": 5,
    "start_time": "2025-01-20T17:49:44.184Z"
   },
   {
    "duration": 128,
    "start_time": "2025-01-20T17:58:52.104Z"
   },
   {
    "duration": 2,
    "start_time": "2025-01-20T18:05:19.667Z"
   },
   {
    "duration": 79,
    "start_time": "2025-01-20T18:08:07.794Z"
   },
   {
    "duration": 2721,
    "start_time": "2025-01-20T18:41:11.290Z"
   },
   {
    "duration": 8,
    "start_time": "2025-01-20T18:41:14.014Z"
   },
   {
    "duration": 7,
    "start_time": "2025-01-20T18:41:14.024Z"
   },
   {
    "duration": 12,
    "start_time": "2025-01-20T18:41:14.033Z"
   },
   {
    "duration": 5,
    "start_time": "2025-01-20T18:41:14.047Z"
   },
   {
    "duration": 8,
    "start_time": "2025-01-20T18:41:14.054Z"
   },
   {
    "duration": 7,
    "start_time": "2025-01-20T18:41:14.064Z"
   },
   {
    "duration": 10,
    "start_time": "2025-01-20T18:41:14.073Z"
   },
   {
    "duration": 5,
    "start_time": "2025-01-20T18:41:14.087Z"
   },
   {
    "duration": 10,
    "start_time": "2025-01-20T18:41:14.094Z"
   },
   {
    "duration": 22,
    "start_time": "2025-01-20T18:41:14.105Z"
   },
   {
    "duration": 5,
    "start_time": "2025-01-20T18:41:14.128Z"
   },
   {
    "duration": 8,
    "start_time": "2025-01-20T18:41:14.134Z"
   },
   {
    "duration": 14,
    "start_time": "2025-01-20T18:41:14.143Z"
   },
   {
    "duration": 5,
    "start_time": "2025-01-20T18:41:14.158Z"
   },
   {
    "duration": 78,
    "start_time": "2025-01-20T18:41:14.165Z"
   },
   {
    "duration": 4,
    "start_time": "2025-01-20T18:41:14.245Z"
   },
   {
    "duration": 97,
    "start_time": "2025-01-20T18:41:14.250Z"
   },
   {
    "duration": 5,
    "start_time": "2025-01-20T18:41:14.348Z"
   },
   {
    "duration": 39,
    "start_time": "2025-01-20T18:41:14.354Z"
   },
   {
    "duration": 3,
    "start_time": "2025-01-20T18:41:14.394Z"
   },
   {
    "duration": 5,
    "start_time": "2025-01-20T18:41:14.399Z"
   },
   {
    "duration": 17,
    "start_time": "2025-01-20T18:41:14.406Z"
   },
   {
    "duration": 86,
    "start_time": "2025-01-20T18:41:14.425Z"
   },
   {
    "duration": 19,
    "start_time": "2025-01-20T18:41:14.513Z"
   },
   {
    "duration": 398,
    "start_time": "2025-01-20T18:41:14.533Z"
   },
   {
    "duration": 15,
    "start_time": "2025-01-20T18:41:14.933Z"
   },
   {
    "duration": 21,
    "start_time": "2025-01-20T18:41:14.951Z"
   },
   {
    "duration": 3881,
    "start_time": "2025-01-20T18:41:14.974Z"
   },
   {
    "duration": 782,
    "start_time": "2025-01-20T18:41:18.857Z"
   },
   {
    "duration": 7,
    "start_time": "2025-01-20T18:41:19.640Z"
   },
   {
    "duration": 218,
    "start_time": "2025-01-20T18:41:19.648Z"
   },
   {
    "duration": 0,
    "start_time": "2025-01-20T18:41:19.867Z"
   },
   {
    "duration": 0,
    "start_time": "2025-01-20T18:41:19.869Z"
   },
   {
    "duration": 0,
    "start_time": "2025-01-20T18:41:19.869Z"
   },
   {
    "duration": 0,
    "start_time": "2025-01-20T18:41:19.871Z"
   },
   {
    "duration": 0,
    "start_time": "2025-01-20T18:41:19.871Z"
   },
   {
    "duration": 0,
    "start_time": "2025-01-20T18:41:19.873Z"
   },
   {
    "duration": 0,
    "start_time": "2025-01-20T18:41:19.873Z"
   },
   {
    "duration": 0,
    "start_time": "2025-01-20T18:41:19.875Z"
   },
   {
    "duration": 0,
    "start_time": "2025-01-20T18:41:19.875Z"
   },
   {
    "duration": 0,
    "start_time": "2025-01-20T18:41:19.876Z"
   },
   {
    "duration": 0,
    "start_time": "2025-01-20T18:41:19.877Z"
   },
   {
    "duration": 0,
    "start_time": "2025-01-20T18:41:19.878Z"
   },
   {
    "duration": 0,
    "start_time": "2025-01-20T18:41:19.886Z"
   },
   {
    "duration": 14,
    "start_time": "2025-01-20T18:41:53.498Z"
   },
   {
    "duration": 16,
    "start_time": "2025-01-20T18:42:39.494Z"
   },
   {
    "duration": 13,
    "start_time": "2025-01-20T18:42:49.146Z"
   },
   {
    "duration": 11,
    "start_time": "2025-01-20T18:42:49.161Z"
   },
   {
    "duration": 8,
    "start_time": "2025-01-20T18:42:49.173Z"
   },
   {
    "duration": 31,
    "start_time": "2025-01-20T18:42:49.183Z"
   },
   {
    "duration": 3,
    "start_time": "2025-01-20T18:42:49.215Z"
   },
   {
    "duration": 6,
    "start_time": "2025-01-20T18:42:49.219Z"
   },
   {
    "duration": 6,
    "start_time": "2025-01-20T18:42:49.226Z"
   },
   {
    "duration": 375976,
    "start_time": "2025-01-20T18:42:49.233Z"
   },
   {
    "duration": 5,
    "start_time": "2025-01-20T18:49:05.211Z"
   },
   {
    "duration": 26,
    "start_time": "2025-01-20T18:49:05.219Z"
   },
   {
    "duration": 1909,
    "start_time": "2025-01-20T18:49:05.247Z"
   },
   {
    "duration": 14,
    "start_time": "2025-01-20T18:49:07.158Z"
   },
   {
    "duration": 858,
    "start_time": "2025-01-20T18:49:07.174Z"
   },
   {
    "duration": 3,
    "start_time": "2025-01-20T18:49:18.274Z"
   },
   {
    "duration": 8,
    "start_time": "2025-01-20T18:49:21.301Z"
   },
   {
    "duration": 1961,
    "start_time": "2025-01-20T18:49:33.682Z"
   },
   {
    "duration": 14,
    "start_time": "2025-01-20T18:49:47.562Z"
   },
   {
    "duration": 953,
    "start_time": "2025-01-20T18:49:53.054Z"
   },
   {
    "duration": 50,
    "start_time": "2025-01-20T18:50:40.917Z"
   },
   {
    "duration": 4,
    "start_time": "2025-01-20T19:22:25.491Z"
   },
   {
    "duration": 2627974,
    "start_time": "2025-01-20T19:22:31.031Z"
   },
   {
    "duration": 3,
    "start_time": "2025-01-20T20:06:19.088Z"
   },
   {
    "duration": 8,
    "start_time": "2025-01-20T20:06:19.093Z"
   },
   {
    "duration": 3,
    "start_time": "2025-01-20T20:22:30.895Z"
   },
   {
    "duration": 7,
    "start_time": "2025-01-20T20:22:32.843Z"
   },
   {
    "duration": 14046,
    "start_time": "2025-01-20T20:22:36.858Z"
   },
   {
    "duration": 14,
    "start_time": "2025-01-20T20:25:45.654Z"
   },
   {
    "duration": 841,
    "start_time": "2025-01-20T20:25:50.846Z"
   },
   {
    "duration": 2305,
    "start_time": "2025-01-20T21:19:09.725Z"
   },
   {
    "duration": 6173,
    "start_time": "2025-01-20T21:19:12.033Z"
   },
   {
    "duration": 8,
    "start_time": "2025-01-20T21:19:18.208Z"
   },
   {
    "duration": 15,
    "start_time": "2025-01-20T21:19:18.219Z"
   },
   {
    "duration": 11,
    "start_time": "2025-01-20T21:19:18.236Z"
   },
   {
    "duration": 12,
    "start_time": "2025-01-20T21:19:18.248Z"
   },
   {
    "duration": 6,
    "start_time": "2025-01-20T21:19:18.262Z"
   },
   {
    "duration": 13,
    "start_time": "2025-01-20T21:19:18.270Z"
   },
   {
    "duration": 17,
    "start_time": "2025-01-20T21:19:18.285Z"
   },
   {
    "duration": 4,
    "start_time": "2025-01-20T21:19:18.306Z"
   },
   {
    "duration": 10,
    "start_time": "2025-01-20T21:19:18.312Z"
   },
   {
    "duration": 9,
    "start_time": "2025-01-20T21:19:18.324Z"
   },
   {
    "duration": 8,
    "start_time": "2025-01-20T21:19:18.335Z"
   },
   {
    "duration": 6,
    "start_time": "2025-01-20T21:19:18.345Z"
   },
   {
    "duration": 6,
    "start_time": "2025-01-20T21:19:18.352Z"
   },
   {
    "duration": 197,
    "start_time": "2025-01-20T21:19:18.359Z"
   },
   {
    "duration": 10,
    "start_time": "2025-01-20T21:19:18.558Z"
   },
   {
    "duration": 68,
    "start_time": "2025-01-20T21:19:18.570Z"
   },
   {
    "duration": 5,
    "start_time": "2025-01-20T21:19:18.640Z"
   },
   {
    "duration": 35,
    "start_time": "2025-01-20T21:19:18.647Z"
   },
   {
    "duration": 3,
    "start_time": "2025-01-20T21:19:18.683Z"
   },
   {
    "duration": 88,
    "start_time": "2025-01-20T21:19:18.688Z"
   },
   {
    "duration": 100,
    "start_time": "2025-01-20T21:19:18.778Z"
   },
   {
    "duration": 41,
    "start_time": "2025-01-20T21:19:18.880Z"
   },
   {
    "duration": 14,
    "start_time": "2025-01-20T21:19:18.923Z"
   },
   {
    "duration": 577,
    "start_time": "2025-01-20T21:19:18.939Z"
   },
   {
    "duration": 19,
    "start_time": "2025-01-20T21:19:19.519Z"
   },
   {
    "duration": 25,
    "start_time": "2025-01-20T21:19:19.589Z"
   },
   {
    "duration": 6903,
    "start_time": "2025-01-20T21:19:19.615Z"
   },
   {
    "duration": 628,
    "start_time": "2025-01-20T21:19:26.519Z"
   },
   {
    "duration": 15,
    "start_time": "2025-01-20T21:19:27.149Z"
   },
   {
    "duration": 174,
    "start_time": "2025-01-20T21:19:27.166Z"
   },
   {
    "duration": 0,
    "start_time": "2025-01-20T21:19:27.342Z"
   },
   {
    "duration": 0,
    "start_time": "2025-01-20T21:19:27.343Z"
   },
   {
    "duration": 0,
    "start_time": "2025-01-20T21:19:27.344Z"
   },
   {
    "duration": 0,
    "start_time": "2025-01-20T21:19:27.345Z"
   },
   {
    "duration": 0,
    "start_time": "2025-01-20T21:19:27.346Z"
   },
   {
    "duration": 0,
    "start_time": "2025-01-20T21:19:27.348Z"
   },
   {
    "duration": 0,
    "start_time": "2025-01-20T21:19:27.349Z"
   },
   {
    "duration": 0,
    "start_time": "2025-01-20T21:19:27.350Z"
   },
   {
    "duration": 0,
    "start_time": "2025-01-20T21:19:27.351Z"
   },
   {
    "duration": 0,
    "start_time": "2025-01-20T21:19:27.352Z"
   },
   {
    "duration": 0,
    "start_time": "2025-01-20T21:19:27.353Z"
   },
   {
    "duration": 0,
    "start_time": "2025-01-20T21:19:27.354Z"
   },
   {
    "duration": 0,
    "start_time": "2025-01-20T21:19:27.355Z"
   },
   {
    "duration": 0,
    "start_time": "2025-01-20T21:19:27.356Z"
   },
   {
    "duration": 0,
    "start_time": "2025-01-20T21:19:27.356Z"
   },
   {
    "duration": 0,
    "start_time": "2025-01-20T21:19:27.357Z"
   },
   {
    "duration": 0,
    "start_time": "2025-01-20T21:19:27.387Z"
   },
   {
    "duration": 0,
    "start_time": "2025-01-20T21:19:27.388Z"
   },
   {
    "duration": 0,
    "start_time": "2025-01-20T21:19:27.390Z"
   },
   {
    "duration": 0,
    "start_time": "2025-01-20T21:19:27.392Z"
   },
   {
    "duration": 27,
    "start_time": "2025-01-20T21:34:51.116Z"
   },
   {
    "duration": 16,
    "start_time": "2025-01-20T21:34:59.840Z"
   },
   {
    "duration": 16,
    "start_time": "2025-01-20T21:35:14.872Z"
   },
   {
    "duration": 12,
    "start_time": "2025-01-20T21:35:16.019Z"
   },
   {
    "duration": 4,
    "start_time": "2025-01-20T21:35:17.223Z"
   },
   {
    "duration": 8,
    "start_time": "2025-01-20T21:35:18.386Z"
   },
   {
    "duration": 32,
    "start_time": "2025-01-20T21:35:18.919Z"
   },
   {
    "duration": 4,
    "start_time": "2025-01-20T21:35:20.484Z"
   },
   {
    "duration": 4,
    "start_time": "2025-01-20T21:35:22.243Z"
   },
   {
    "duration": 4,
    "start_time": "2025-01-20T21:35:23.082Z"
   },
   {
    "duration": 2544304,
    "start_time": "2025-01-20T21:41:49.292Z"
   },
   {
    "duration": 4,
    "start_time": "2025-01-20T22:24:13.598Z"
   },
   {
    "duration": 5,
    "start_time": "2025-01-20T22:24:13.605Z"
   },
   {
    "duration": 13691,
    "start_time": "2025-01-20T22:24:13.612Z"
   },
   {
    "duration": 93,
    "start_time": "2025-01-20T22:24:27.306Z"
   },
   {
    "duration": 672,
    "start_time": "2025-01-20T22:24:27.401Z"
   },
   {
    "duration": 2720,
    "start_time": "2025-01-21T00:49:14.905Z"
   },
   {
    "duration": 4301,
    "start_time": "2025-01-21T00:49:17.628Z"
   },
   {
    "duration": 7,
    "start_time": "2025-01-21T00:49:21.931Z"
   },
   {
    "duration": 13,
    "start_time": "2025-01-21T00:49:21.941Z"
   },
   {
    "duration": 6,
    "start_time": "2025-01-21T00:49:21.956Z"
   },
   {
    "duration": 9,
    "start_time": "2025-01-21T00:49:21.964Z"
   },
   {
    "duration": 15,
    "start_time": "2025-01-21T00:49:21.987Z"
   },
   {
    "duration": 11,
    "start_time": "2025-01-21T00:49:22.004Z"
   },
   {
    "duration": 5,
    "start_time": "2025-01-21T00:49:22.017Z"
   },
   {
    "duration": 4,
    "start_time": "2025-01-21T00:49:22.025Z"
   },
   {
    "duration": 3,
    "start_time": "2025-01-21T00:49:22.031Z"
   },
   {
    "duration": 11,
    "start_time": "2025-01-21T00:49:22.036Z"
   },
   {
    "duration": 7,
    "start_time": "2025-01-21T00:49:22.049Z"
   },
   {
    "duration": 6,
    "start_time": "2025-01-21T00:49:22.058Z"
   },
   {
    "duration": 22,
    "start_time": "2025-01-21T00:49:22.066Z"
   },
   {
    "duration": 155,
    "start_time": "2025-01-21T00:49:22.090Z"
   },
   {
    "duration": 8,
    "start_time": "2025-01-21T00:49:22.247Z"
   },
   {
    "duration": 95,
    "start_time": "2025-01-21T00:49:22.257Z"
   },
   {
    "duration": 5,
    "start_time": "2025-01-21T00:49:22.354Z"
   },
   {
    "duration": 21,
    "start_time": "2025-01-21T00:49:22.360Z"
   },
   {
    "duration": 2,
    "start_time": "2025-01-21T00:49:22.383Z"
   },
   {
    "duration": 6,
    "start_time": "2025-01-21T00:49:22.387Z"
   },
   {
    "duration": 19,
    "start_time": "2025-01-21T00:49:22.394Z"
   },
   {
    "duration": 44,
    "start_time": "2025-01-21T00:49:22.414Z"
   },
   {
    "duration": 38,
    "start_time": "2025-01-21T00:49:22.459Z"
   },
   {
    "duration": 467,
    "start_time": "2025-01-21T00:49:22.499Z"
   },
   {
    "duration": 25,
    "start_time": "2025-01-21T00:49:22.968Z"
   },
   {
    "duration": 22,
    "start_time": "2025-01-21T00:49:22.998Z"
   },
   {
    "duration": 6325,
    "start_time": "2025-01-21T00:49:23.022Z"
   },
   {
    "duration": 675,
    "start_time": "2025-01-21T00:49:29.350Z"
   },
   {
    "duration": 35,
    "start_time": "2025-01-21T00:49:30.028Z"
   },
   {
    "duration": 50,
    "start_time": "2025-01-21T00:49:30.066Z"
   },
   {
    "duration": 20,
    "start_time": "2025-01-21T00:49:30.118Z"
   },
   {
    "duration": 13,
    "start_time": "2025-01-21T00:49:30.140Z"
   },
   {
    "duration": 42,
    "start_time": "2025-01-21T00:49:30.155Z"
   },
   {
    "duration": 85,
    "start_time": "2025-01-21T00:49:30.199Z"
   },
   {
    "duration": 32,
    "start_time": "2025-01-21T00:49:30.287Z"
   },
   {
    "duration": 29,
    "start_time": "2025-01-21T00:49:30.321Z"
   },
   {
    "duration": 27,
    "start_time": "2025-01-21T00:49:30.352Z"
   },
   {
    "duration": 377195,
    "start_time": "2025-01-21T00:49:30.381Z"
   },
   {
    "duration": 9,
    "start_time": "2025-01-21T00:55:47.578Z"
   },
   {
    "duration": 9,
    "start_time": "2025-01-21T00:55:47.588Z"
   },
   {
    "duration": 1864,
    "start_time": "2025-01-21T00:55:47.598Z"
   },
   {
    "duration": 15,
    "start_time": "2025-01-21T00:55:49.464Z"
   },
   {
    "duration": 643,
    "start_time": "2025-01-21T00:55:49.487Z"
   },
   {
    "duration": 4,
    "start_time": "2025-01-21T00:55:50.132Z"
   },
   {
    "duration": 2581070,
    "start_time": "2025-01-21T00:55:50.138Z"
   },
   {
    "duration": 4,
    "start_time": "2025-01-21T01:38:51.287Z"
   },
   {
    "duration": 9,
    "start_time": "2025-01-21T01:38:51.293Z"
   },
   {
    "duration": 13688,
    "start_time": "2025-01-21T01:38:51.304Z"
   },
   {
    "duration": 40,
    "start_time": "2025-01-21T01:39:04.994Z"
   },
   {
    "duration": 755,
    "start_time": "2025-01-21T01:39:05.036Z"
   },
   {
    "duration": 83,
    "start_time": "2025-01-21T04:34:22.339Z"
   },
   {
    "duration": 4,
    "start_time": "2025-01-21T04:46:30.511Z"
   },
   {
    "duration": 3265,
    "start_time": "2025-01-21T04:47:36.951Z"
   },
   {
    "duration": 2069,
    "start_time": "2025-01-21T04:47:40.218Z"
   },
   {
    "duration": 6,
    "start_time": "2025-01-21T04:47:42.288Z"
   },
   {
    "duration": 10,
    "start_time": "2025-01-21T04:47:42.296Z"
   },
   {
    "duration": 5,
    "start_time": "2025-01-21T04:47:42.307Z"
   },
   {
    "duration": 8,
    "start_time": "2025-01-21T04:47:42.313Z"
   },
   {
    "duration": 47,
    "start_time": "2025-01-21T04:47:42.322Z"
   },
   {
    "duration": 10,
    "start_time": "2025-01-21T04:47:42.370Z"
   },
   {
    "duration": 5,
    "start_time": "2025-01-21T04:47:42.381Z"
   },
   {
    "duration": 4,
    "start_time": "2025-01-21T04:47:42.388Z"
   },
   {
    "duration": 7,
    "start_time": "2025-01-21T04:47:42.393Z"
   },
   {
    "duration": 6,
    "start_time": "2025-01-21T04:47:42.401Z"
   },
   {
    "duration": 13,
    "start_time": "2025-01-21T04:47:42.408Z"
   },
   {
    "duration": 5,
    "start_time": "2025-01-21T04:47:42.422Z"
   },
   {
    "duration": 5,
    "start_time": "2025-01-21T04:47:42.428Z"
   },
   {
    "duration": 135,
    "start_time": "2025-01-21T04:47:42.434Z"
   },
   {
    "duration": 4,
    "start_time": "2025-01-21T04:47:42.571Z"
   },
   {
    "duration": 76,
    "start_time": "2025-01-21T04:47:42.577Z"
   },
   {
    "duration": 4,
    "start_time": "2025-01-21T04:47:42.655Z"
   },
   {
    "duration": 25,
    "start_time": "2025-01-21T04:47:42.661Z"
   },
   {
    "duration": 4,
    "start_time": "2025-01-21T04:47:42.687Z"
   },
   {
    "duration": 7,
    "start_time": "2025-01-21T04:47:42.692Z"
   },
   {
    "duration": 4,
    "start_time": "2025-01-21T04:47:42.700Z"
   },
   {
    "duration": 4,
    "start_time": "2025-01-21T04:47:56.546Z"
   },
   {
    "duration": 4,
    "start_time": "2025-01-21T04:48:10.678Z"
   },
   {
    "duration": 19,
    "start_time": "2025-01-21T04:48:13.082Z"
   },
   {
    "duration": 4,
    "start_time": "2025-01-21T04:49:07.730Z"
   },
   {
    "duration": 4,
    "start_time": "2025-01-21T04:49:09.982Z"
   },
   {
    "duration": 21,
    "start_time": "2025-01-21T04:49:12.658Z"
   },
   {
    "duration": 25,
    "start_time": "2025-01-21T04:50:25.335Z"
   },
   {
    "duration": 51,
    "start_time": "2025-01-21T04:52:53.790Z"
   },
   {
    "duration": 19,
    "start_time": "2025-01-21T04:53:01.842Z"
   },
   {
    "duration": 19,
    "start_time": "2025-01-21T04:53:28.638Z"
   },
   {
    "duration": 30,
    "start_time": "2025-01-21T04:53:33.354Z"
   },
   {
    "duration": 3782,
    "start_time": "2025-01-21T04:54:28.158Z"
   },
   {
    "duration": 720,
    "start_time": "2025-01-21T04:54:51.286Z"
   },
   {
    "duration": 7,
    "start_time": "2025-01-21T04:54:57.407Z"
   },
   {
    "duration": 2273,
    "start_time": "2025-01-21T05:02:32.634Z"
   },
   {
    "duration": 1835,
    "start_time": "2025-01-21T05:02:34.909Z"
   },
   {
    "duration": 11,
    "start_time": "2025-01-21T05:02:36.745Z"
   },
   {
    "duration": 34,
    "start_time": "2025-01-21T05:02:36.758Z"
   },
   {
    "duration": 20,
    "start_time": "2025-01-21T05:02:36.794Z"
   },
   {
    "duration": 13,
    "start_time": "2025-01-21T05:02:36.816Z"
   },
   {
    "duration": 17,
    "start_time": "2025-01-21T05:02:36.831Z"
   },
   {
    "duration": 9,
    "start_time": "2025-01-21T05:02:36.850Z"
   },
   {
    "duration": 50,
    "start_time": "2025-01-21T05:02:36.860Z"
   },
   {
    "duration": 20,
    "start_time": "2025-01-21T05:02:36.914Z"
   },
   {
    "duration": 25,
    "start_time": "2025-01-21T05:02:36.935Z"
   },
   {
    "duration": 12,
    "start_time": "2025-01-21T05:02:36.961Z"
   },
   {
    "duration": 7,
    "start_time": "2025-01-21T05:02:36.975Z"
   },
   {
    "duration": 6,
    "start_time": "2025-01-21T05:02:36.984Z"
   },
   {
    "duration": 8,
    "start_time": "2025-01-21T05:02:36.991Z"
   },
   {
    "duration": 108,
    "start_time": "2025-01-21T05:02:37.000Z"
   },
   {
    "duration": 5,
    "start_time": "2025-01-21T05:02:37.111Z"
   },
   {
    "duration": 59,
    "start_time": "2025-01-21T05:02:37.120Z"
   },
   {
    "duration": 6,
    "start_time": "2025-01-21T05:02:37.180Z"
   },
   {
    "duration": 21,
    "start_time": "2025-01-21T05:02:37.187Z"
   },
   {
    "duration": 10,
    "start_time": "2025-01-21T05:02:37.210Z"
   },
   {
    "duration": 32,
    "start_time": "2025-01-21T05:02:37.222Z"
   },
   {
    "duration": 5,
    "start_time": "2025-01-21T05:02:37.256Z"
   },
   {
    "duration": 17,
    "start_time": "2025-01-21T05:02:37.263Z"
   },
   {
    "duration": 26,
    "start_time": "2025-01-21T05:02:37.281Z"
   },
   {
    "duration": 85,
    "start_time": "2025-01-21T05:02:37.309Z"
   },
   {
    "duration": 23,
    "start_time": "2025-01-21T05:02:37.397Z"
   },
   {
    "duration": 300,
    "start_time": "2025-01-21T05:02:37.455Z"
   },
   {
    "duration": 17,
    "start_time": "2025-01-21T05:02:37.756Z"
   },
   {
    "duration": 22,
    "start_time": "2025-01-21T05:02:37.775Z"
   },
   {
    "duration": 3761,
    "start_time": "2025-01-21T05:02:37.799Z"
   },
   {
    "duration": 682,
    "start_time": "2025-01-21T05:02:41.562Z"
   },
   {
    "duration": 137,
    "start_time": "2025-01-21T05:02:42.245Z"
   },
   {
    "duration": 0,
    "start_time": "2025-01-21T05:02:42.383Z"
   },
   {
    "duration": 0,
    "start_time": "2025-01-21T05:02:42.384Z"
   },
   {
    "duration": 0,
    "start_time": "2025-01-21T05:02:42.385Z"
   },
   {
    "duration": 10,
    "start_time": "2025-01-21T05:02:42.762Z"
   },
   {
    "duration": 21,
    "start_time": "2025-01-21T05:03:26.342Z"
   },
   {
    "duration": 18,
    "start_time": "2025-01-21T05:40:05.504Z"
   },
   {
    "duration": 17,
    "start_time": "2025-01-21T05:41:03.036Z"
   },
   {
    "duration": 9,
    "start_time": "2025-01-21T05:41:06.440Z"
   },
   {
    "duration": 18,
    "start_time": "2025-01-21T05:41:31.288Z"
   },
   {
    "duration": 9,
    "start_time": "2025-01-21T05:41:53.765Z"
   },
   {
    "duration": 14,
    "start_time": "2025-01-21T05:44:26.632Z"
   },
   {
    "duration": 19,
    "start_time": "2025-01-21T05:44:37.125Z"
   },
   {
    "duration": 5,
    "start_time": "2025-01-21T05:44:41.156Z"
   },
   {
    "duration": 5,
    "start_time": "2025-01-21T05:44:46.235Z"
   },
   {
    "duration": 5,
    "start_time": "2025-01-21T05:44:48.875Z"
   },
   {
    "duration": 5,
    "start_time": "2025-01-21T05:44:56.016Z"
   },
   {
    "duration": 6,
    "start_time": "2025-01-21T05:45:11.948Z"
   },
   {
    "duration": 7,
    "start_time": "2025-01-21T05:45:17.572Z"
   },
   {
    "duration": 16,
    "start_time": "2025-01-21T05:47:10.508Z"
   },
   {
    "duration": 85,
    "start_time": "2025-01-21T05:48:46.432Z"
   },
   {
    "duration": 16,
    "start_time": "2025-01-21T05:49:00.352Z"
   },
   {
    "duration": 13,
    "start_time": "2025-01-21T05:49:37.499Z"
   },
   {
    "duration": 17,
    "start_time": "2025-01-21T05:50:59.971Z"
   },
   {
    "duration": 16,
    "start_time": "2025-01-21T05:51:06.707Z"
   },
   {
    "duration": 6,
    "start_time": "2025-01-21T05:51:12.216Z"
   },
   {
    "duration": 6,
    "start_time": "2025-01-21T05:51:20.868Z"
   },
   {
    "duration": 7,
    "start_time": "2025-01-21T05:52:31.716Z"
   },
   {
    "duration": 6,
    "start_time": "2025-01-21T05:54:41.115Z"
   },
   {
    "duration": 6,
    "start_time": "2025-01-21T05:54:50.691Z"
   },
   {
    "duration": 5,
    "start_time": "2025-01-21T05:59:19.263Z"
   },
   {
    "duration": 6,
    "start_time": "2025-01-21T05:59:25.307Z"
   },
   {
    "duration": 9,
    "start_time": "2025-01-21T05:59:48.231Z"
   },
   {
    "duration": 8,
    "start_time": "2025-01-21T06:03:44.066Z"
   },
   {
    "duration": 13,
    "start_time": "2025-01-21T06:03:57.865Z"
   },
   {
    "duration": 10,
    "start_time": "2025-01-21T06:04:12.935Z"
   },
   {
    "duration": 8,
    "start_time": "2025-01-21T06:04:37.119Z"
   },
   {
    "duration": 8,
    "start_time": "2025-01-21T06:05:22.671Z"
   },
   {
    "duration": 13,
    "start_time": "2025-01-21T06:05:25.612Z"
   },
   {
    "duration": 20,
    "start_time": "2025-01-21T06:05:33.183Z"
   },
   {
    "duration": 1380,
    "start_time": "2025-01-21T06:07:48.514Z"
   },
   {
    "duration": 11,
    "start_time": "2025-01-21T06:08:01.435Z"
   },
   {
    "duration": 11,
    "start_time": "2025-01-21T06:08:09.287Z"
   },
   {
    "duration": 76,
    "start_time": "2025-01-21T06:08:17.007Z"
   },
   {
    "duration": 1314,
    "start_time": "2025-01-21T06:08:22.426Z"
   },
   {
    "duration": 9,
    "start_time": "2025-01-21T06:08:30.439Z"
   },
   {
    "duration": 9,
    "start_time": "2025-01-21T06:11:08.810Z"
   },
   {
    "duration": 1302,
    "start_time": "2025-01-21T06:11:15.761Z"
   },
   {
    "duration": 8,
    "start_time": "2025-01-21T06:12:05.053Z"
   },
   {
    "duration": 10,
    "start_time": "2025-01-21T06:12:51.909Z"
   },
   {
    "duration": 11,
    "start_time": "2025-01-21T06:14:18.669Z"
   },
   {
    "duration": 14,
    "start_time": "2025-01-21T06:14:53.069Z"
   },
   {
    "duration": 5,
    "start_time": "2025-01-21T06:16:52.905Z"
   },
   {
    "duration": 9,
    "start_time": "2025-01-21T06:17:59.389Z"
   },
   {
    "duration": 7,
    "start_time": "2025-01-21T06:18:08.589Z"
   },
   {
    "duration": 7,
    "start_time": "2025-01-21T06:18:14.113Z"
   },
   {
    "duration": 15,
    "start_time": "2025-01-21T06:18:17.012Z"
   },
   {
    "duration": 5,
    "start_time": "2025-01-21T06:20:12.744Z"
   },
   {
    "duration": 15,
    "start_time": "2025-01-21T06:20:21.096Z"
   },
   {
    "duration": 6,
    "start_time": "2025-01-21T06:21:42.524Z"
   },
   {
    "duration": 15,
    "start_time": "2025-01-21T06:22:01.108Z"
   },
   {
    "duration": 6,
    "start_time": "2025-01-21T06:22:17.356Z"
   },
   {
    "duration": 6,
    "start_time": "2025-01-21T06:22:41.852Z"
   },
   {
    "duration": 6,
    "start_time": "2025-01-21T06:22:45.641Z"
   },
   {
    "duration": 6,
    "start_time": "2025-01-21T06:22:51.164Z"
   },
   {
    "duration": 6,
    "start_time": "2025-01-21T06:23:01.524Z"
   },
   {
    "duration": 2249,
    "start_time": "2025-01-21T06:23:18.024Z"
   },
   {
    "duration": 1827,
    "start_time": "2025-01-21T06:23:20.275Z"
   },
   {
    "duration": 7,
    "start_time": "2025-01-21T06:23:22.104Z"
   },
   {
    "duration": 11,
    "start_time": "2025-01-21T06:23:22.114Z"
   },
   {
    "duration": 10,
    "start_time": "2025-01-21T06:23:22.127Z"
   },
   {
    "duration": 21,
    "start_time": "2025-01-21T06:23:22.138Z"
   },
   {
    "duration": 14,
    "start_time": "2025-01-21T06:23:22.160Z"
   },
   {
    "duration": 10,
    "start_time": "2025-01-21T06:23:22.175Z"
   },
   {
    "duration": 10,
    "start_time": "2025-01-21T06:23:22.187Z"
   },
   {
    "duration": 6,
    "start_time": "2025-01-21T06:23:22.199Z"
   },
   {
    "duration": 5,
    "start_time": "2025-01-21T06:23:22.206Z"
   },
   {
    "duration": 16,
    "start_time": "2025-01-21T06:23:22.212Z"
   },
   {
    "duration": 20,
    "start_time": "2025-01-21T06:23:22.230Z"
   },
   {
    "duration": 8,
    "start_time": "2025-01-21T06:23:22.251Z"
   },
   {
    "duration": 5,
    "start_time": "2025-01-21T06:23:22.260Z"
   },
   {
    "duration": 83,
    "start_time": "2025-01-21T06:23:22.266Z"
   },
   {
    "duration": 4,
    "start_time": "2025-01-21T06:23:22.350Z"
   },
   {
    "duration": 52,
    "start_time": "2025-01-21T06:23:22.356Z"
   },
   {
    "duration": 5,
    "start_time": "2025-01-21T06:23:22.409Z"
   },
   {
    "duration": 48,
    "start_time": "2025-01-21T06:23:22.415Z"
   },
   {
    "duration": 3,
    "start_time": "2025-01-21T06:23:22.465Z"
   },
   {
    "duration": 8,
    "start_time": "2025-01-21T06:23:22.469Z"
   },
   {
    "duration": 5,
    "start_time": "2025-01-21T06:23:22.478Z"
   },
   {
    "duration": 4,
    "start_time": "2025-01-21T06:23:22.485Z"
   },
   {
    "duration": 34,
    "start_time": "2025-01-21T06:23:22.490Z"
   },
   {
    "duration": 74,
    "start_time": "2025-01-21T06:23:22.526Z"
   },
   {
    "duration": 53,
    "start_time": "2025-01-21T06:23:22.602Z"
   },
   {
    "duration": 292,
    "start_time": "2025-01-21T06:23:22.658Z"
   },
   {
    "duration": 16,
    "start_time": "2025-01-21T06:23:22.952Z"
   },
   {
    "duration": 22,
    "start_time": "2025-01-21T06:23:22.969Z"
   },
   {
    "duration": 3638,
    "start_time": "2025-01-21T06:23:22.993Z"
   },
   {
    "duration": 724,
    "start_time": "2025-01-21T06:23:26.633Z"
   },
   {
    "duration": 7,
    "start_time": "2025-01-21T06:23:30.164Z"
   },
   {
    "duration": 132,
    "start_time": "2025-01-21T06:23:37.165Z"
   },
   {
    "duration": 10,
    "start_time": "2025-01-21T06:23:43.232Z"
   },
   {
    "duration": 13,
    "start_time": "2025-01-21T06:24:01.513Z"
   },
   {
    "duration": 8,
    "start_time": "2025-01-21T06:24:14.108Z"
   },
   {
    "duration": 13,
    "start_time": "2025-01-21T06:24:29.537Z"
   },
   {
    "duration": 5,
    "start_time": "2025-01-21T06:25:02.252Z"
   },
   {
    "duration": 7,
    "start_time": "2025-01-21T06:25:18.217Z"
   },
   {
    "duration": 6,
    "start_time": "2025-01-21T06:25:27.060Z"
   },
   {
    "duration": 7,
    "start_time": "2025-01-21T06:27:10.972Z"
   },
   {
    "duration": 84,
    "start_time": "2025-01-21T06:27:13.775Z"
   },
   {
    "duration": 86,
    "start_time": "2025-01-21T06:27:55.032Z"
   },
   {
    "duration": 12,
    "start_time": "2025-01-21T06:32:33.614Z"
   },
   {
    "duration": 14,
    "start_time": "2025-01-21T06:32:53.551Z"
   },
   {
    "duration": 13,
    "start_time": "2025-01-21T06:33:42.768Z"
   },
   {
    "duration": 13,
    "start_time": "2025-01-21T06:34:09.830Z"
   },
   {
    "duration": 14,
    "start_time": "2025-01-21T06:34:30.412Z"
   },
   {
    "duration": 12,
    "start_time": "2025-01-21T06:34:37.628Z"
   },
   {
    "duration": 18,
    "start_time": "2025-01-21T06:34:44.479Z"
   },
   {
    "duration": 14,
    "start_time": "2025-01-21T06:35:00.420Z"
   },
   {
    "duration": 4,
    "start_time": "2025-01-21T06:35:03.948Z"
   },
   {
    "duration": 7,
    "start_time": "2025-01-21T06:35:07.368Z"
   },
   {
    "duration": 30,
    "start_time": "2025-01-21T06:35:18.368Z"
   },
   {
    "duration": 11,
    "start_time": "2025-01-21T06:35:24.979Z"
   },
   {
    "duration": 4,
    "start_time": "2025-01-21T06:35:51.107Z"
   },
   {
    "duration": 3,
    "start_time": "2025-01-21T06:36:14.604Z"
   },
   {
    "duration": 3,
    "start_time": "2025-01-21T06:36:17.448Z"
   },
   {
    "duration": 443445,
    "start_time": "2025-01-21T06:36:21.228Z"
   },
   {
    "duration": 4,
    "start_time": "2025-01-21T06:43:50.287Z"
   },
   {
    "duration": 7,
    "start_time": "2025-01-21T06:43:52.631Z"
   },
   {
    "duration": 5616,
    "start_time": "2025-01-21T06:43:59.551Z"
   },
   {
    "duration": 14,
    "start_time": "2025-01-21T06:44:16.663Z"
   },
   {
    "duration": 865,
    "start_time": "2025-01-21T06:44:19.420Z"
   },
   {
    "duration": 5,
    "start_time": "2025-01-21T06:44:31.962Z"
   },
   {
    "duration": 182646,
    "start_time": "2025-01-21T06:44:36.031Z"
   },
   {
    "duration": 4,
    "start_time": "2025-01-21T06:56:42.442Z"
   },
   {
    "duration": 19,
    "start_time": "2025-01-21T06:56:45.714Z"
   },
   {
    "duration": 2315,
    "start_time": "2025-01-21T06:57:32.204Z"
   },
   {
    "duration": 1875,
    "start_time": "2025-01-21T06:57:34.522Z"
   },
   {
    "duration": 6,
    "start_time": "2025-01-21T06:57:36.399Z"
   },
   {
    "duration": 40,
    "start_time": "2025-01-21T06:57:36.407Z"
   },
   {
    "duration": 22,
    "start_time": "2025-01-21T06:57:36.448Z"
   },
   {
    "duration": 12,
    "start_time": "2025-01-21T06:57:36.471Z"
   },
   {
    "duration": 19,
    "start_time": "2025-01-21T06:57:36.484Z"
   },
   {
    "duration": 28,
    "start_time": "2025-01-21T06:57:36.505Z"
   },
   {
    "duration": 22,
    "start_time": "2025-01-21T06:57:36.534Z"
   },
   {
    "duration": 39,
    "start_time": "2025-01-21T06:57:36.559Z"
   },
   {
    "duration": 7,
    "start_time": "2025-01-21T06:57:36.600Z"
   },
   {
    "duration": 31,
    "start_time": "2025-01-21T06:57:36.609Z"
   },
   {
    "duration": 6,
    "start_time": "2025-01-21T06:57:36.642Z"
   },
   {
    "duration": 12,
    "start_time": "2025-01-21T06:57:36.650Z"
   },
   {
    "duration": 7,
    "start_time": "2025-01-21T06:57:36.663Z"
   },
   {
    "duration": 117,
    "start_time": "2025-01-21T06:57:36.671Z"
   },
   {
    "duration": 4,
    "start_time": "2025-01-21T06:57:36.790Z"
   },
   {
    "duration": 84,
    "start_time": "2025-01-21T06:57:36.796Z"
   },
   {
    "duration": 6,
    "start_time": "2025-01-21T06:57:36.882Z"
   },
   {
    "duration": 24,
    "start_time": "2025-01-21T06:57:36.890Z"
   },
   {
    "duration": 3,
    "start_time": "2025-01-21T06:57:36.915Z"
   },
   {
    "duration": 36,
    "start_time": "2025-01-21T06:57:36.920Z"
   },
   {
    "duration": 18,
    "start_time": "2025-01-21T06:57:36.958Z"
   },
   {
    "duration": 19,
    "start_time": "2025-01-21T06:57:36.978Z"
   },
   {
    "duration": 64,
    "start_time": "2025-01-21T06:57:36.999Z"
   },
   {
    "duration": 16,
    "start_time": "2025-01-21T06:57:37.065Z"
   },
   {
    "duration": 278,
    "start_time": "2025-01-21T06:57:37.083Z"
   },
   {
    "duration": 14,
    "start_time": "2025-01-21T06:57:37.364Z"
   },
   {
    "duration": 20,
    "start_time": "2025-01-21T06:57:37.380Z"
   },
   {
    "duration": 3588,
    "start_time": "2025-01-21T06:57:37.401Z"
   },
   {
    "duration": 646,
    "start_time": "2025-01-21T06:57:40.991Z"
   },
   {
    "duration": 7,
    "start_time": "2025-01-21T06:57:41.638Z"
   },
   {
    "duration": 16,
    "start_time": "2025-01-21T06:57:41.646Z"
   },
   {
    "duration": 21,
    "start_time": "2025-01-21T06:57:41.663Z"
   },
   {
    "duration": 3,
    "start_time": "2025-01-21T06:57:41.686Z"
   },
   {
    "duration": 11,
    "start_time": "2025-01-21T06:57:41.691Z"
   },
   {
    "duration": 30,
    "start_time": "2025-01-21T06:57:41.703Z"
   },
   {
    "duration": 4,
    "start_time": "2025-01-21T06:57:41.734Z"
   },
   {
    "duration": 14,
    "start_time": "2025-01-21T06:57:41.739Z"
   },
   {
    "duration": 3,
    "start_time": "2025-01-21T06:57:41.755Z"
   },
   {
    "duration": 2301,
    "start_time": "2025-01-21T07:04:22.409Z"
   },
   {
    "duration": 1847,
    "start_time": "2025-01-21T07:04:24.713Z"
   },
   {
    "duration": 6,
    "start_time": "2025-01-21T07:04:26.561Z"
   },
   {
    "duration": 9,
    "start_time": "2025-01-21T07:04:26.569Z"
   },
   {
    "duration": 6,
    "start_time": "2025-01-21T07:04:26.580Z"
   },
   {
    "duration": 9,
    "start_time": "2025-01-21T07:04:26.587Z"
   },
   {
    "duration": 12,
    "start_time": "2025-01-21T07:04:26.598Z"
   },
   {
    "duration": 9,
    "start_time": "2025-01-21T07:04:26.612Z"
   },
   {
    "duration": 5,
    "start_time": "2025-01-21T07:04:26.623Z"
   },
   {
    "duration": 5,
    "start_time": "2025-01-21T07:04:26.630Z"
   },
   {
    "duration": 19,
    "start_time": "2025-01-21T07:04:26.654Z"
   },
   {
    "duration": 13,
    "start_time": "2025-01-21T07:04:26.675Z"
   },
   {
    "duration": 26,
    "start_time": "2025-01-21T07:04:26.689Z"
   },
   {
    "duration": 18,
    "start_time": "2025-01-21T07:04:26.717Z"
   },
   {
    "duration": 5,
    "start_time": "2025-01-21T07:04:26.737Z"
   },
   {
    "duration": 97,
    "start_time": "2025-01-21T07:04:26.744Z"
   },
   {
    "duration": 5,
    "start_time": "2025-01-21T07:04:26.842Z"
   },
   {
    "duration": 80,
    "start_time": "2025-01-21T07:04:26.851Z"
   },
   {
    "duration": 4,
    "start_time": "2025-01-21T07:04:26.932Z"
   },
   {
    "duration": 25,
    "start_time": "2025-01-21T07:04:26.938Z"
   },
   {
    "duration": 3,
    "start_time": "2025-01-21T07:04:26.965Z"
   },
   {
    "duration": 13,
    "start_time": "2025-01-21T07:04:26.970Z"
   },
   {
    "duration": 28,
    "start_time": "2025-01-21T07:04:26.985Z"
   },
   {
    "duration": 23,
    "start_time": "2025-01-21T07:04:27.014Z"
   },
   {
    "duration": 57,
    "start_time": "2025-01-21T07:04:27.038Z"
   },
   {
    "duration": 19,
    "start_time": "2025-01-21T07:04:27.096Z"
   },
   {
    "duration": 323,
    "start_time": "2025-01-21T07:04:27.117Z"
   },
   {
    "duration": 19,
    "start_time": "2025-01-21T07:04:27.443Z"
   },
   {
    "duration": 38,
    "start_time": "2025-01-21T07:04:27.463Z"
   },
   {
    "duration": 3755,
    "start_time": "2025-01-21T07:04:27.502Z"
   },
   {
    "duration": 709,
    "start_time": "2025-01-21T07:04:31.259Z"
   },
   {
    "duration": 6,
    "start_time": "2025-01-21T07:04:31.970Z"
   },
   {
    "duration": 129,
    "start_time": "2025-01-21T07:04:42.666Z"
   },
   {
    "duration": 12,
    "start_time": "2025-01-21T07:04:53.194Z"
   },
   {
    "duration": 15,
    "start_time": "2025-01-21T07:05:00.853Z"
   },
   {
    "duration": 5,
    "start_time": "2025-01-21T07:05:05.657Z"
   },
   {
    "duration": 6,
    "start_time": "2025-01-21T07:05:09.814Z"
   },
   {
    "duration": 24,
    "start_time": "2025-01-21T07:05:14.845Z"
   },
   {
    "duration": 4,
    "start_time": "2025-01-21T07:05:24.541Z"
   },
   {
    "duration": 3,
    "start_time": "2025-01-21T07:05:26.962Z"
   },
   {
    "duration": 4,
    "start_time": "2025-01-21T07:05:33.917Z"
   },
   {
    "duration": 200470,
    "start_time": "2025-01-21T07:05:40.029Z"
   },
   {
    "duration": 3,
    "start_time": "2025-01-21T07:09:10.097Z"
   },
   {
    "duration": 4,
    "start_time": "2025-01-21T07:09:13.005Z"
   },
   {
    "duration": 432726,
    "start_time": "2025-01-21T07:09:15.545Z"
   },
   {
    "duration": 16,
    "start_time": "2025-01-21T07:25:21.364Z"
   },
   {
    "duration": 4,
    "start_time": "2025-01-21T07:25:55.889Z"
   },
   {
    "duration": 8,
    "start_time": "2025-01-21T07:26:01.801Z"
   },
   {
    "duration": 13,
    "start_time": "2025-01-21T07:26:05.497Z"
   },
   {
    "duration": 4,
    "start_time": "2025-01-21T07:32:48.545Z"
   },
   {
    "duration": 13,
    "start_time": "2025-01-21T07:33:30.240Z"
   },
   {
    "duration": 13,
    "start_time": "2025-01-21T07:33:35.196Z"
   },
   {
    "duration": 4,
    "start_time": "2025-01-21T07:33:42.837Z"
   },
   {
    "duration": 6,
    "start_time": "2025-01-21T07:33:45.473Z"
   },
   {
    "duration": 23,
    "start_time": "2025-01-21T07:33:49.929Z"
   },
   {
    "duration": 5,
    "start_time": "2025-01-21T07:34:07.305Z"
   },
   {
    "duration": 5,
    "start_time": "2025-01-21T07:35:09.436Z"
   },
   {
    "duration": 10,
    "start_time": "2025-01-21T07:35:35.689Z"
   },
   {
    "duration": 5,
    "start_time": "2025-01-21T07:36:06.908Z"
   },
   {
    "duration": 115039,
    "start_time": "2025-01-21T07:36:09.801Z"
   },
   {
    "duration": 16,
    "start_time": "2025-01-21T07:38:17.016Z"
   },
   {
    "duration": 671,
    "start_time": "2025-01-21T07:38:38.688Z"
   },
   {
    "duration": 5,
    "start_time": "2025-01-21T07:39:09.196Z"
   },
   {
    "duration": 4,
    "start_time": "2025-01-21T07:39:12.276Z"
   },
   {
    "duration": 13,
    "start_time": "2025-01-21T07:39:18.185Z"
   },
   {
    "duration": 46,
    "start_time": "2025-01-21T07:44:28.229Z"
   },
   {
    "duration": 2253,
    "start_time": "2025-01-21T07:44:39.402Z"
   },
   {
    "duration": 1891,
    "start_time": "2025-01-21T07:44:41.657Z"
   },
   {
    "duration": 7,
    "start_time": "2025-01-21T07:44:43.549Z"
   },
   {
    "duration": 13,
    "start_time": "2025-01-21T07:44:43.558Z"
   },
   {
    "duration": 24,
    "start_time": "2025-01-21T07:44:43.572Z"
   },
   {
    "duration": 9,
    "start_time": "2025-01-21T07:44:43.597Z"
   },
   {
    "duration": 13,
    "start_time": "2025-01-21T07:44:43.608Z"
   },
   {
    "duration": 11,
    "start_time": "2025-01-21T07:44:43.623Z"
   },
   {
    "duration": 11,
    "start_time": "2025-01-21T07:44:43.635Z"
   },
   {
    "duration": 5,
    "start_time": "2025-01-21T07:44:43.649Z"
   },
   {
    "duration": 5,
    "start_time": "2025-01-21T07:44:43.655Z"
   },
   {
    "duration": 17,
    "start_time": "2025-01-21T07:44:43.661Z"
   },
   {
    "duration": 15,
    "start_time": "2025-01-21T07:44:43.679Z"
   },
   {
    "duration": 7,
    "start_time": "2025-01-21T07:44:43.695Z"
   },
   {
    "duration": 12,
    "start_time": "2025-01-21T07:44:43.703Z"
   },
   {
    "duration": 157,
    "start_time": "2025-01-21T07:44:43.717Z"
   },
   {
    "duration": 4,
    "start_time": "2025-01-21T07:44:43.876Z"
   },
   {
    "duration": 59,
    "start_time": "2025-01-21T07:44:43.882Z"
   },
   {
    "duration": 5,
    "start_time": "2025-01-21T07:44:43.954Z"
   },
   {
    "duration": 38,
    "start_time": "2025-01-21T07:44:43.961Z"
   },
   {
    "duration": 6,
    "start_time": "2025-01-21T07:44:44.000Z"
   },
   {
    "duration": 6,
    "start_time": "2025-01-21T07:44:44.008Z"
   },
   {
    "duration": 10,
    "start_time": "2025-01-21T07:44:44.015Z"
   },
   {
    "duration": 29,
    "start_time": "2025-01-21T07:44:44.026Z"
   },
   {
    "duration": 51,
    "start_time": "2025-01-21T07:44:44.057Z"
   },
   {
    "duration": 52,
    "start_time": "2025-01-21T07:44:44.110Z"
   },
   {
    "duration": 303,
    "start_time": "2025-01-21T07:44:44.163Z"
   },
   {
    "duration": 15,
    "start_time": "2025-01-21T07:44:44.469Z"
   },
   {
    "duration": 22,
    "start_time": "2025-01-21T07:44:44.485Z"
   },
   {
    "duration": 3635,
    "start_time": "2025-01-21T07:44:44.509Z"
   },
   {
    "duration": 708,
    "start_time": "2025-01-21T07:44:48.146Z"
   },
   {
    "duration": 5,
    "start_time": "2025-01-21T07:44:53.304Z"
   },
   {
    "duration": 95,
    "start_time": "2025-01-21T07:45:13.156Z"
   },
   {
    "duration": 5,
    "start_time": "2025-01-21T07:45:23.004Z"
   },
   {
    "duration": 5,
    "start_time": "2025-01-21T07:45:34.240Z"
   },
   {
    "duration": 12,
    "start_time": "2025-01-21T07:45:36.809Z"
   },
   {
    "duration": 2275,
    "start_time": "2025-01-21T07:48:46.433Z"
   },
   {
    "duration": 2025,
    "start_time": "2025-01-21T07:48:48.711Z"
   },
   {
    "duration": 7,
    "start_time": "2025-01-21T07:48:50.737Z"
   },
   {
    "duration": 13,
    "start_time": "2025-01-21T07:48:50.746Z"
   },
   {
    "duration": 7,
    "start_time": "2025-01-21T07:48:50.760Z"
   },
   {
    "duration": 8,
    "start_time": "2025-01-21T07:48:50.769Z"
   },
   {
    "duration": 16,
    "start_time": "2025-01-21T07:48:50.778Z"
   },
   {
    "duration": 10,
    "start_time": "2025-01-21T07:48:50.795Z"
   },
   {
    "duration": 22,
    "start_time": "2025-01-21T07:48:50.806Z"
   },
   {
    "duration": 10,
    "start_time": "2025-01-21T07:48:50.831Z"
   },
   {
    "duration": 11,
    "start_time": "2025-01-21T07:48:50.842Z"
   },
   {
    "duration": 41,
    "start_time": "2025-01-21T07:48:50.854Z"
   },
   {
    "duration": 40,
    "start_time": "2025-01-21T07:48:50.896Z"
   },
   {
    "duration": 15,
    "start_time": "2025-01-21T07:48:50.937Z"
   },
   {
    "duration": 10,
    "start_time": "2025-01-21T07:48:50.953Z"
   },
   {
    "duration": 109,
    "start_time": "2025-01-21T07:48:50.964Z"
   },
   {
    "duration": 4,
    "start_time": "2025-01-21T07:48:51.074Z"
   },
   {
    "duration": 72,
    "start_time": "2025-01-21T07:48:51.080Z"
   },
   {
    "duration": 4,
    "start_time": "2025-01-21T07:48:51.153Z"
   },
   {
    "duration": 32,
    "start_time": "2025-01-21T07:48:51.159Z"
   },
   {
    "duration": 3,
    "start_time": "2025-01-21T07:48:51.192Z"
   },
   {
    "duration": 23,
    "start_time": "2025-01-21T07:48:51.197Z"
   },
   {
    "duration": 18,
    "start_time": "2025-01-21T07:49:00.772Z"
   },
   {
    "duration": 741,
    "start_time": "2025-01-21T07:59:56.711Z"
   },
   {
    "duration": 2496,
    "start_time": "2025-01-21T08:01:14.816Z"
   },
   {
    "duration": 1977,
    "start_time": "2025-01-21T08:01:17.314Z"
   },
   {
    "duration": 7,
    "start_time": "2025-01-21T08:01:19.292Z"
   },
   {
    "duration": 18,
    "start_time": "2025-01-21T08:01:19.301Z"
   },
   {
    "duration": 12,
    "start_time": "2025-01-21T08:01:19.320Z"
   },
   {
    "duration": 12,
    "start_time": "2025-01-21T08:01:19.333Z"
   },
   {
    "duration": 11,
    "start_time": "2025-01-21T08:01:19.346Z"
   },
   {
    "duration": 23,
    "start_time": "2025-01-21T08:01:19.358Z"
   },
   {
    "duration": 17,
    "start_time": "2025-01-21T08:01:19.383Z"
   },
   {
    "duration": 22,
    "start_time": "2025-01-21T08:01:19.402Z"
   },
   {
    "duration": 9,
    "start_time": "2025-01-21T08:01:19.425Z"
   },
   {
    "duration": 6,
    "start_time": "2025-01-21T08:01:19.436Z"
   },
   {
    "duration": 23,
    "start_time": "2025-01-21T08:01:19.443Z"
   },
   {
    "duration": 10,
    "start_time": "2025-01-21T08:01:19.467Z"
   },
   {
    "duration": 11,
    "start_time": "2025-01-21T08:01:19.478Z"
   },
   {
    "duration": 100,
    "start_time": "2025-01-21T08:01:19.490Z"
   },
   {
    "duration": 4,
    "start_time": "2025-01-21T08:01:19.592Z"
   },
   {
    "duration": 64,
    "start_time": "2025-01-21T08:01:19.597Z"
   },
   {
    "duration": 4,
    "start_time": "2025-01-21T08:01:19.663Z"
   },
   {
    "duration": 25,
    "start_time": "2025-01-21T08:01:19.669Z"
   },
   {
    "duration": 3,
    "start_time": "2025-01-21T08:01:19.696Z"
   },
   {
    "duration": 6,
    "start_time": "2025-01-21T08:01:19.701Z"
   },
   {
    "duration": 48,
    "start_time": "2025-01-21T08:01:19.708Z"
   },
   {
    "duration": 58,
    "start_time": "2025-01-21T08:01:19.758Z"
   },
   {
    "duration": 54,
    "start_time": "2025-01-21T08:01:19.817Z"
   },
   {
    "duration": 323,
    "start_time": "2025-01-21T08:01:52.848Z"
   },
   {
    "duration": 256,
    "start_time": "2025-01-21T08:05:28.879Z"
   },
   {
    "duration": 15,
    "start_time": "2025-01-21T08:05:43.411Z"
   },
   {
    "duration": 23,
    "start_time": "2025-01-21T08:05:46.671Z"
   },
   {
    "duration": 3689,
    "start_time": "2025-01-21T08:06:00.400Z"
   },
   {
    "duration": 663,
    "start_time": "2025-01-21T08:06:06.116Z"
   },
   {
    "duration": 7,
    "start_time": "2025-01-21T08:09:20.827Z"
   },
   {
    "duration": 125,
    "start_time": "2025-01-21T08:09:51.023Z"
   },
   {
    "duration": 7,
    "start_time": "2025-01-21T08:10:03.507Z"
   },
   {
    "duration": 4,
    "start_time": "2025-01-21T08:10:12.479Z"
   },
   {
    "duration": 16,
    "start_time": "2025-01-21T08:10:42.191Z"
   },
   {
    "duration": 14,
    "start_time": "2025-01-21T08:10:56.291Z"
   },
   {
    "duration": 6,
    "start_time": "2025-01-21T08:10:59.852Z"
   },
   {
    "duration": 13,
    "start_time": "2025-01-21T08:11:02.347Z"
   },
   {
    "duration": 13,
    "start_time": "2025-01-21T08:11:14.364Z"
   },
   {
    "duration": 13,
    "start_time": "2025-01-21T08:11:18.112Z"
   },
   {
    "duration": 4,
    "start_time": "2025-01-21T08:11:21.943Z"
   },
   {
    "duration": 7,
    "start_time": "2025-01-21T08:11:24.355Z"
   },
   {
    "duration": 26,
    "start_time": "2025-01-21T08:11:28.736Z"
   },
   {
    "duration": 11,
    "start_time": "2025-01-21T08:11:31.524Z"
   },
   {
    "duration": 4,
    "start_time": "2025-01-21T08:11:44.111Z"
   },
   {
    "duration": 4,
    "start_time": "2025-01-21T08:11:46.723Z"
   },
   {
    "duration": 10,
    "start_time": "2025-01-21T08:11:49.419Z"
   },
   {
    "duration": 4,
    "start_time": "2025-01-21T08:11:56.471Z"
   },
   {
    "duration": 447779,
    "start_time": "2025-01-21T08:11:58.500Z"
   },
   {
    "duration": 4,
    "start_time": "2025-01-21T08:20:02.631Z"
   },
   {
    "duration": 8,
    "start_time": "2025-01-21T08:20:06.043Z"
   },
   {
    "duration": 2267,
    "start_time": "2025-01-21T08:20:10.379Z"
   },
   {
    "duration": 13,
    "start_time": "2025-01-21T08:20:16.487Z"
   },
   {
    "duration": 884,
    "start_time": "2025-01-21T08:20:22.814Z"
   },
   {
    "duration": 4,
    "start_time": "2025-01-21T08:20:30.927Z"
   },
   {
    "duration": 17830,
    "start_time": "2025-01-21T08:20:39.115Z"
   },
   {
    "duration": 7,
    "start_time": "2025-01-21T08:29:07.906Z"
   },
   {
    "duration": 7,
    "start_time": "2025-01-21T08:29:15.145Z"
   },
   {
    "duration": 4461,
    "start_time": "2025-01-21T08:29:23.953Z"
   },
   {
    "duration": 4,
    "start_time": "2025-01-21T08:29:30.897Z"
   },
   {
    "duration": 2303951,
    "start_time": "2025-01-21T08:29:35.517Z"
   },
   {
    "duration": 144,
    "start_time": "2025-01-21T09:07:59.470Z"
   },
   {
    "duration": 3,
    "start_time": "2025-01-21T09:09:09.062Z"
   },
   {
    "duration": 8,
    "start_time": "2025-01-21T09:09:12.878Z"
   },
   {
    "duration": 3,
    "start_time": "2025-01-21T09:11:37.482Z"
   },
   {
    "duration": 8,
    "start_time": "2025-01-21T09:11:41.829Z"
   },
   {
    "duration": 8,
    "start_time": "2025-01-21T09:12:19.293Z"
   },
   {
    "duration": 5,
    "start_time": "2025-01-21T09:13:00.333Z"
   },
   {
    "duration": 3,
    "start_time": "2025-01-21T09:13:32.938Z"
   },
   {
    "duration": 5075,
    "start_time": "2025-01-21T12:15:39.995Z"
   },
   {
    "duration": 2643,
    "start_time": "2025-01-21T12:15:45.074Z"
   },
   {
    "duration": 7,
    "start_time": "2025-01-21T12:15:47.719Z"
   },
   {
    "duration": 21,
    "start_time": "2025-01-21T12:15:47.737Z"
   },
   {
    "duration": 9,
    "start_time": "2025-01-21T12:15:47.760Z"
   },
   {
    "duration": 14,
    "start_time": "2025-01-21T12:15:47.771Z"
   },
   {
    "duration": 19,
    "start_time": "2025-01-21T12:15:47.787Z"
   },
   {
    "duration": 30,
    "start_time": "2025-01-21T12:15:47.808Z"
   },
   {
    "duration": 10,
    "start_time": "2025-01-21T12:15:47.842Z"
   },
   {
    "duration": 5,
    "start_time": "2025-01-21T12:15:47.857Z"
   },
   {
    "duration": 15,
    "start_time": "2025-01-21T12:15:47.863Z"
   },
   {
    "duration": 8,
    "start_time": "2025-01-21T12:15:47.880Z"
   },
   {
    "duration": 10,
    "start_time": "2025-01-21T12:15:47.891Z"
   },
   {
    "duration": 37,
    "start_time": "2025-01-21T12:15:47.903Z"
   },
   {
    "duration": 13,
    "start_time": "2025-01-21T12:15:47.943Z"
   },
   {
    "duration": 166,
    "start_time": "2025-01-21T12:15:47.959Z"
   },
   {
    "duration": 6,
    "start_time": "2025-01-21T12:15:48.127Z"
   },
   {
    "duration": 119,
    "start_time": "2025-01-21T12:15:48.135Z"
   },
   {
    "duration": 9,
    "start_time": "2025-01-21T12:15:48.256Z"
   },
   {
    "duration": 31,
    "start_time": "2025-01-21T12:15:48.269Z"
   },
   {
    "duration": 50,
    "start_time": "2025-01-21T12:15:48.302Z"
   },
   {
    "duration": 6,
    "start_time": "2025-01-21T12:15:48.365Z"
   },
   {
    "duration": 23,
    "start_time": "2025-01-21T12:15:48.372Z"
   },
   {
    "duration": 93,
    "start_time": "2025-01-21T12:15:48.397Z"
   },
   {
    "duration": 58,
    "start_time": "2025-01-21T12:15:48.492Z"
   },
   {
    "duration": 421,
    "start_time": "2025-01-21T12:15:48.553Z"
   },
   {
    "duration": 126,
    "start_time": "2025-01-21T12:15:48.976Z"
   },
   {
    "duration": 0,
    "start_time": "2025-01-21T12:15:49.105Z"
   },
   {
    "duration": 0,
    "start_time": "2025-01-21T12:15:49.106Z"
   },
   {
    "duration": 0,
    "start_time": "2025-01-21T12:15:49.108Z"
   },
   {
    "duration": 0,
    "start_time": "2025-01-21T12:15:49.109Z"
   },
   {
    "duration": 0,
    "start_time": "2025-01-21T12:15:49.110Z"
   },
   {
    "duration": 1,
    "start_time": "2025-01-21T12:15:49.111Z"
   },
   {
    "duration": 0,
    "start_time": "2025-01-21T12:15:49.113Z"
   },
   {
    "duration": 0,
    "start_time": "2025-01-21T12:15:49.114Z"
   },
   {
    "duration": 0,
    "start_time": "2025-01-21T12:15:49.115Z"
   },
   {
    "duration": 0,
    "start_time": "2025-01-21T12:15:49.116Z"
   },
   {
    "duration": 0,
    "start_time": "2025-01-21T12:15:49.117Z"
   },
   {
    "duration": 0,
    "start_time": "2025-01-21T12:15:49.119Z"
   },
   {
    "duration": 0,
    "start_time": "2025-01-21T12:15:49.120Z"
   },
   {
    "duration": 0,
    "start_time": "2025-01-21T12:15:49.121Z"
   },
   {
    "duration": 0,
    "start_time": "2025-01-21T12:15:49.122Z"
   },
   {
    "duration": 0,
    "start_time": "2025-01-21T12:15:49.123Z"
   },
   {
    "duration": 0,
    "start_time": "2025-01-21T12:15:49.124Z"
   },
   {
    "duration": 0,
    "start_time": "2025-01-21T12:15:49.126Z"
   },
   {
    "duration": 0,
    "start_time": "2025-01-21T12:15:49.127Z"
   },
   {
    "duration": 0,
    "start_time": "2025-01-21T12:15:49.128Z"
   },
   {
    "duration": 0,
    "start_time": "2025-01-21T12:15:49.129Z"
   },
   {
    "duration": 2257,
    "start_time": "2025-01-21T12:16:16.083Z"
   },
   {
    "duration": 2906,
    "start_time": "2025-01-21T12:17:33.227Z"
   },
   {
    "duration": 15,
    "start_time": "2025-01-21T12:17:36.136Z"
   },
   {
    "duration": 34,
    "start_time": "2025-01-21T12:17:36.155Z"
   },
   {
    "duration": 14,
    "start_time": "2025-01-21T12:17:36.192Z"
   },
   {
    "duration": 23,
    "start_time": "2025-01-21T12:17:36.208Z"
   },
   {
    "duration": 17,
    "start_time": "2025-01-21T12:17:36.233Z"
   },
   {
    "duration": 40,
    "start_time": "2025-01-21T12:17:36.252Z"
   },
   {
    "duration": 37,
    "start_time": "2025-01-21T12:17:36.294Z"
   },
   {
    "duration": 35,
    "start_time": "2025-01-21T12:17:36.333Z"
   },
   {
    "duration": 10,
    "start_time": "2025-01-21T12:17:36.372Z"
   },
   {
    "duration": 8,
    "start_time": "2025-01-21T12:17:36.384Z"
   },
   {
    "duration": 11,
    "start_time": "2025-01-21T12:17:36.394Z"
   },
   {
    "duration": 20,
    "start_time": "2025-01-21T12:17:36.407Z"
   },
   {
    "duration": 21,
    "start_time": "2025-01-21T12:17:36.428Z"
   },
   {
    "duration": 19,
    "start_time": "2025-01-21T12:17:36.451Z"
   },
   {
    "duration": 177,
    "start_time": "2025-01-21T12:17:36.472Z"
   },
   {
    "duration": 6,
    "start_time": "2025-01-21T12:17:36.651Z"
   },
   {
    "duration": 94,
    "start_time": "2025-01-21T12:17:36.660Z"
   },
   {
    "duration": 6,
    "start_time": "2025-01-21T12:17:36.757Z"
   },
   {
    "duration": 34,
    "start_time": "2025-01-21T12:17:36.764Z"
   },
   {
    "duration": 4,
    "start_time": "2025-01-21T12:17:36.799Z"
   },
   {
    "duration": 34,
    "start_time": "2025-01-21T12:17:36.806Z"
   },
   {
    "duration": 53,
    "start_time": "2025-01-21T12:17:36.843Z"
   },
   {
    "duration": 101,
    "start_time": "2025-01-21T12:17:36.899Z"
   },
   {
    "duration": 49,
    "start_time": "2025-01-21T12:17:37.002Z"
   },
   {
    "duration": 349,
    "start_time": "2025-01-21T12:17:37.052Z"
   },
   {
    "duration": 16,
    "start_time": "2025-01-21T12:17:37.403Z"
   },
   {
    "duration": 42,
    "start_time": "2025-01-21T12:17:37.425Z"
   },
   {
    "duration": 4763,
    "start_time": "2025-01-21T12:17:37.468Z"
   },
   {
    "duration": 911,
    "start_time": "2025-01-21T12:17:42.233Z"
   },
   {
    "duration": 16,
    "start_time": "2025-01-21T12:17:43.147Z"
   },
   {
    "duration": 42,
    "start_time": "2025-01-21T12:17:43.165Z"
   },
   {
    "duration": 15,
    "start_time": "2025-01-21T12:17:43.208Z"
   },
   {
    "duration": 4,
    "start_time": "2025-01-21T12:17:43.225Z"
   },
   {
    "duration": 14,
    "start_time": "2025-01-21T12:17:43.231Z"
   },
   {
    "duration": 42,
    "start_time": "2025-01-21T12:17:43.248Z"
   },
   {
    "duration": 4,
    "start_time": "2025-01-21T12:17:43.292Z"
   },
   {
    "duration": 4,
    "start_time": "2025-01-21T12:17:43.297Z"
   },
   {
    "duration": 5,
    "start_time": "2025-01-21T12:17:43.302Z"
   },
   {
    "duration": 571190,
    "start_time": "2025-01-21T12:17:43.308Z"
   },
   {
    "duration": 4,
    "start_time": "2025-01-21T12:27:14.500Z"
   },
   {
    "duration": 75,
    "start_time": "2025-01-21T12:27:14.506Z"
   },
   {
    "duration": 3122,
    "start_time": "2025-01-21T12:27:14.584Z"
   },
   {
    "duration": 17,
    "start_time": "2025-01-21T12:27:17.708Z"
   },
   {
    "duration": 1394,
    "start_time": "2025-01-21T12:27:17.726Z"
   },
   {
    "duration": 5,
    "start_time": "2025-01-21T12:27:19.123Z"
   },
   {
    "duration": 4332101,
    "start_time": "2025-01-21T12:27:19.138Z"
   },
   {
    "duration": 7,
    "start_time": "2025-01-21T13:45:46.247Z"
   },
   {
    "duration": 9,
    "start_time": "2025-01-21T13:45:50.051Z"
   },
   {
    "duration": 24749,
    "start_time": "2025-01-21T13:45:56.202Z"
   },
   {
    "duration": 13,
    "start_time": "2025-01-21T13:48:29.162Z"
   },
   {
    "duration": 1134,
    "start_time": "2025-01-21T13:48:32.939Z"
   },
   {
    "duration": 1246,
    "start_time": "2025-01-21T13:48:40.114Z"
   },
   {
    "duration": 1177,
    "start_time": "2025-01-21T13:53:47.365Z"
   },
   {
    "duration": 1043,
    "start_time": "2025-01-21T13:54:49.785Z"
   },
   {
    "duration": 7,
    "start_time": "2025-01-21T14:08:13.436Z"
   },
   {
    "duration": 4,
    "start_time": "2025-01-21T14:09:57.788Z"
   },
   {
    "duration": 168,
    "start_time": "2025-01-21T14:18:22.016Z"
   },
   {
    "duration": 41,
    "start_time": "2025-01-21T14:19:59.437Z"
   },
   {
    "duration": 161,
    "start_time": "2025-01-21T14:27:36.940Z"
   },
   {
    "duration": 143,
    "start_time": "2025-01-21T14:29:16.120Z"
   },
   {
    "duration": 79,
    "start_time": "2025-01-21T14:30:22.227Z"
   },
   {
    "duration": 134,
    "start_time": "2025-01-21T14:30:34.963Z"
   },
   {
    "duration": 259,
    "start_time": "2025-01-21T14:31:34.855Z"
   },
   {
    "duration": 141,
    "start_time": "2025-01-21T14:32:40.519Z"
   },
   {
    "duration": 1037,
    "start_time": "2025-01-21T14:52:11.995Z"
   },
   {
    "duration": 16,
    "start_time": "2025-01-21T14:54:48.039Z"
   },
   {
    "duration": 1015,
    "start_time": "2025-01-21T14:54:53.363Z"
   },
   {
    "duration": 101,
    "start_time": "2025-01-21T14:55:48.003Z"
   },
   {
    "duration": 995,
    "start_time": "2025-01-21T14:56:20.215Z"
   },
   {
    "duration": 20,
    "start_time": "2025-01-21T14:57:54.830Z"
   },
   {
    "duration": 19,
    "start_time": "2025-01-21T14:58:32.187Z"
   },
   {
    "duration": 1155,
    "start_time": "2025-01-21T14:58:40.122Z"
   },
   {
    "duration": 18,
    "start_time": "2025-01-21T14:59:54.431Z"
   },
   {
    "duration": 1089,
    "start_time": "2025-01-21T14:59:59.475Z"
   },
   {
    "duration": 1064,
    "start_time": "2025-01-21T15:00:33.259Z"
   },
   {
    "duration": 15,
    "start_time": "2025-01-21T15:01:40.407Z"
   },
   {
    "duration": 18,
    "start_time": "2025-01-21T15:02:39.798Z"
   },
   {
    "duration": 14,
    "start_time": "2025-01-21T15:02:55.367Z"
   },
   {
    "duration": 5,
    "start_time": "2025-01-21T15:03:13.223Z"
   },
   {
    "duration": 11,
    "start_time": "2025-01-21T15:03:17.099Z"
   },
   {
    "duration": 20591,
    "start_time": "2025-01-21T15:03:23.347Z"
   },
   {
    "duration": 19,
    "start_time": "2025-01-21T15:03:46.103Z"
   },
   {
    "duration": 1210,
    "start_time": "2025-01-21T15:03:48.971Z"
   },
   {
    "duration": 1088,
    "start_time": "2025-01-21T15:03:54.810Z"
   },
   {
    "duration": 1125,
    "start_time": "2025-01-21T15:11:31.259Z"
   },
   {
    "duration": 89,
    "start_time": "2025-01-21T15:26:31.736Z"
   }
  ],
  "kernelspec": {
   "display_name": "Python 3 (ipykernel)",
   "language": "python",
   "name": "python3"
  },
  "language_info": {
   "codemirror_mode": {
    "name": "ipython",
    "version": 3
   },
   "file_extension": ".py",
   "mimetype": "text/x-python",
   "name": "python",
   "nbconvert_exporter": "python",
   "pygments_lexer": "ipython3",
   "version": "3.12.1"
  },
  "toc": {
   "base_numbering": 1,
   "nav_menu": {},
   "number_sections": false,
   "sideBar": true,
   "skip_h1_title": false,
   "title_cell": "Table of Contents",
   "title_sidebar": "Contents",
   "toc_cell": false,
   "toc_position": {
    "height": "calc(100% - 180px)",
    "left": "10px",
    "top": "150px",
    "width": "235.333px"
   },
   "toc_section_display": true,
   "toc_window_display": true
  },
  "varInspector": {
   "cols": {
    "lenName": 16,
    "lenType": 16,
    "lenVar": 40
   },
   "kernels_config": {
    "python": {
     "delete_cmd_postfix": "",
     "delete_cmd_prefix": "del ",
     "library": "var_list.py",
     "varRefreshCmd": "print(var_dic_list())"
    },
    "r": {
     "delete_cmd_postfix": ") ",
     "delete_cmd_prefix": "rm(",
     "library": "var_list.r",
     "varRefreshCmd": "cat(var_dic_list()) "
    }
   },
   "types_to_exclude": [
    "module",
    "function",
    "builtin_function_or_method",
    "instance",
    "_Feature"
   ],
   "window_display": false
  }
 },
 "nbformat": 4,
 "nbformat_minor": 5
}
