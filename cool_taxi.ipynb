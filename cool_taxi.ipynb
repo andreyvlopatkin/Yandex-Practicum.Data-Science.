{
 "cells": [
  {
   "cell_type": "markdown",
   "metadata": {
    "toc": true
   },
   "source": [
    "<h1>Содержание<span class=\"tocSkip\"></span></h1>\n",
    "<div class=\"toc\"><ul class=\"toc-item\"><li><span><a href=\"#Подготовка\" data-toc-modified-id=\"Подготовка-1\"><span class=\"toc-item-num\">1&nbsp;&nbsp;</span>Подготовка</a></span><ul class=\"toc-item\"><li><span><a href=\"#Установка-пакетов\" data-toc-modified-id=\"Установка-пакетов-1.1\"><span class=\"toc-item-num\">1.1&nbsp;&nbsp;</span>Установка пакетов</a></span></li><li><span><a href=\"#Импорт-библиотек-и-глобальные-установки\" data-toc-modified-id=\"Импорт-библиотек-и-глобальные-установки-1.2\"><span class=\"toc-item-num\">1.2&nbsp;&nbsp;</span>Импорт библиотек и глобальные установки</a></span></li><li><span><a href=\"#Функции\" data-toc-modified-id=\"Функции-1.3\"><span class=\"toc-item-num\">1.3&nbsp;&nbsp;</span>Функции</a></span><ul class=\"toc-item\"><li><span><a href=\"#feature_plot_visualisation---визуализация-признаков\" data-toc-modified-id=\"feature_plot_visualisation---визуализация-признаков-1.3.1\"><span class=\"toc-item-num\">1.3.1&nbsp;&nbsp;</span><strong><code>feature_plot_visualisation</code></strong> - визуализация признаков</a></span></li><li><span><a href=\"#column_analiser---анализ-числовых-признаков\" data-toc-modified-id=\"column_analiser---анализ-числовых-признаков-1.3.2\"><span class=\"toc-item-num\">1.3.2&nbsp;&nbsp;</span><strong><code>column_analiser</code></strong> - анализ числовых признаков</a></span></li><li><span><a href=\"#load_date---загрузка-файлов\" data-toc-modified-id=\"load_date---загрузка-файлов-1.3.3\"><span class=\"toc-item-num\">1.3.3&nbsp;&nbsp;</span><strong><code>load_date</code></strong> - загрузка файлов</a></span></li><li><span><a href=\"#df_inf---информация-о-дата-фрейме\" data-toc-modified-id=\"df_inf---информация-о-дата-фрейме-1.3.4\"><span class=\"toc-item-num\">1.3.4&nbsp;&nbsp;</span><strong><code>df_inf</code></strong> - информация о дата фрейме</a></span></li></ul></li><li><span><a href=\"#Загрузка-данных\" data-toc-modified-id=\"Загрузка-данных-1.4\"><span class=\"toc-item-num\">1.4&nbsp;&nbsp;</span>Загрузка данных</a></span><ul class=\"toc-item\"><li><span><a href=\"#Выводы\" data-toc-modified-id=\"Выводы-1.4.1\"><span class=\"toc-item-num\">1.4.1&nbsp;&nbsp;</span><strong><code>Выводы</code></strong></a></span></li></ul></li><li><span><a href=\"#Предобработка-данных\" data-toc-modified-id=\"Предобработка-данных-1.5\"><span class=\"toc-item-num\">1.5&nbsp;&nbsp;</span>Предобработка данных</a></span><ul class=\"toc-item\"><li><span><a href=\"#Выводы\" data-toc-modified-id=\"Выводы-1.5.1\"><span class=\"toc-item-num\">1.5.1&nbsp;&nbsp;</span><strong><code>Выводы</code></strong></a></span></li></ul></li></ul></li><li><span><a href=\"#Анализ\" data-toc-modified-id=\"Анализ-2\"><span class=\"toc-item-num\">2&nbsp;&nbsp;</span>Анализ</a></span><ul class=\"toc-item\"><li><span><a href=\"#Количество-заказов-в-час,-Скользящее-среднее-(24-часа),-Скользящее-стандартное-отклонение-(24-часа)\" data-toc-modified-id=\"Количество-заказов-в-час,-Скользящее-среднее-(24-часа),-Скользящее-стандартное-отклонение-(24-часа)-2.1\"><span class=\"toc-item-num\">2.1&nbsp;&nbsp;</span>Количество заказов в час, Скользящее среднее (24 часа), Скользящее стандартное отклонение (24 часа)</a></span></li><li><span><a href=\"#Сезонность,-Остаточный-шум,-Скользящее-среднее\" data-toc-modified-id=\"Сезонность,-Остаточный-шум,-Скользящее-среднее-2.2\"><span class=\"toc-item-num\">2.2&nbsp;&nbsp;</span>Сезонность, Остаточный шум, Скользящее среднее</a></span></li><li><span><a href=\"#Расширенный-тест-Дики-Фуллера\" data-toc-modified-id=\"Расширенный-тест-Дики-Фуллера-2.3\"><span class=\"toc-item-num\">2.3&nbsp;&nbsp;</span>Расширенный тест Дики-Фуллера</a></span></li><li><span><a href=\"#Формирование-признаков\" data-toc-modified-id=\"Формирование-признаков-2.4\"><span class=\"toc-item-num\">2.4&nbsp;&nbsp;</span>Формирование признаков</a></span></li><li><span><a href=\"#Данные-после-формирования-признаков\" data-toc-modified-id=\"Данные-после-формирования-признаков-2.5\"><span class=\"toc-item-num\">2.5&nbsp;&nbsp;</span>Данные после формирования признаков</a></span></li><li><span><a href=\"#Недельная-сезонность\" data-toc-modified-id=\"Недельная-сезонность-2.6\"><span class=\"toc-item-num\">2.6&nbsp;&nbsp;</span>Недельная сезонность</a></span></li><li><span><a href=\"#Дневная-сезонность\" data-toc-modified-id=\"Дневная-сезонность-2.7\"><span class=\"toc-item-num\">2.7&nbsp;&nbsp;</span>Дневная сезонность</a></span></li><li><span><a href=\"#Суточная-сезонность\" data-toc-modified-id=\"Суточная-сезонность-2.8\"><span class=\"toc-item-num\">2.8&nbsp;&nbsp;</span>Суточная сезонность</a></span></li><li><span><a href=\"#Выводы\" data-toc-modified-id=\"Выводы-2.9\"><span class=\"toc-item-num\">2.9&nbsp;&nbsp;</span><strong><code>Выводы</code></strong></a></span></li></ul></li><li><span><a href=\"#Обучение\" data-toc-modified-id=\"Обучение-3\"><span class=\"toc-item-num\">3&nbsp;&nbsp;</span>Обучение</a></span><ul class=\"toc-item\"><li><span><a href=\"#Определение-категорий-признаков\" data-toc-modified-id=\"Определение-категорий-признаков-3.1\"><span class=\"toc-item-num\">3.1&nbsp;&nbsp;</span>Определение категорий признаков</a></span></li><li><span><a href=\"#Разделение-на-выборки\" data-toc-modified-id=\"Разделение-на-выборки-3.2\"><span class=\"toc-item-num\">3.2&nbsp;&nbsp;</span>Разделение на выборки</a></span></li><li><span><a href=\"#LGBMRegressor,-RandomForestRegressor,-DecisionTreeRegressor,-LogisticRegression\" data-toc-modified-id=\"LGBMRegressor,-RandomForestRegressor,-DecisionTreeRegressor,-LogisticRegression-3.3\"><span class=\"toc-item-num\">3.3&nbsp;&nbsp;</span>LGBMRegressor, RandomForestRegressor, DecisionTreeRegressor, LogisticRegression</a></span><ul class=\"toc-item\"><li><span><a href=\"#Пайплайны:-кодирование,-масштабирование,-итоговый.\" data-toc-modified-id=\"Пайплайны:-кодирование,-масштабирование,-итоговый.-3.3.1\"><span class=\"toc-item-num\">3.3.1&nbsp;&nbsp;</span>Пайплайны: кодирование, масштабирование, итоговый.</a></span></li><li><span><a href=\"#Словарь-параметров\" data-toc-modified-id=\"Словарь-параметров-3.3.2\"><span class=\"toc-item-num\">3.3.2&nbsp;&nbsp;</span>Словарь параметров</a></span></li><li><span><a href=\"#Оценка-гиперпараметров\" data-toc-modified-id=\"Оценка-гиперпараметров-3.3.3\"><span class=\"toc-item-num\">3.3.3&nbsp;&nbsp;</span>Оценка гиперпараметров</a></span></li><li><span><a href=\"#Обучение-на-трейне\" data-toc-modified-id=\"Обучение-на-трейне-3.3.4\"><span class=\"toc-item-num\">3.3.4&nbsp;&nbsp;</span>Обучение на трейне</a></span></li><li><span><a href=\"#Результаты-обучения\" data-toc-modified-id=\"Результаты-обучения-3.3.5\"><span class=\"toc-item-num\">3.3.5&nbsp;&nbsp;</span>Результаты обучения</a></span></li></ul></li><li><span><a href=\"#CatBoostRegressor\" data-toc-modified-id=\"CatBoostRegressor-3.4\"><span class=\"toc-item-num\">3.4&nbsp;&nbsp;</span>CatBoostRegressor</a></span><ul class=\"toc-item\"><li><span><a href=\"#Оценка-гиперпараметров\" data-toc-modified-id=\"Оценка-гиперпараметров-3.4.1\"><span class=\"toc-item-num\">3.4.1&nbsp;&nbsp;</span>Оценка гиперпараметров</a></span></li><li><span><a href=\"#Обучение-на-трейне\" data-toc-modified-id=\"Обучение-на-трейне-3.4.2\"><span class=\"toc-item-num\">3.4.2&nbsp;&nbsp;</span>Обучение на трейне</a></span></li></ul></li><li><span><a href=\"#Резултаты-обучения-по-всем-моделям\" data-toc-modified-id=\"Резултаты-обучения-по-всем-моделям-3.5\"><span class=\"toc-item-num\">3.5&nbsp;&nbsp;</span>Резултаты обучения по всем моделям</a></span></li><li><span><a href=\"#Определение-лучших-моделей-и-их-параметров\" data-toc-modified-id=\"Определение-лучших-моделей-и-их-параметров-3.6\"><span class=\"toc-item-num\">3.6&nbsp;&nbsp;</span>Определение лучших моделей и их параметров</a></span></li><li><span><a href=\"#Выводы\" data-toc-modified-id=\"Выводы-3.7\"><span class=\"toc-item-num\">3.7&nbsp;&nbsp;</span><strong><code>Выводы</code></strong></a></span></li></ul></li><li><span><a href=\"#Тестирование\" data-toc-modified-id=\"Тестирование-4\"><span class=\"toc-item-num\">4&nbsp;&nbsp;</span>Тестирование</a></span><ul class=\"toc-item\"><li><span><a href=\"#Обучение-лучших-моделей\" data-toc-modified-id=\"Обучение-лучших-моделей-4.1\"><span class=\"toc-item-num\">4.1&nbsp;&nbsp;</span>Обучение лучших моделей</a></span></li><li><span><a href=\"#LGBMRegressor\" data-toc-modified-id=\"LGBMRegressor-4.2\"><span class=\"toc-item-num\">4.2&nbsp;&nbsp;</span>LGBMRegressor</a></span></li><li><span><a href=\"#CatBoostRegressor\" data-toc-modified-id=\"CatBoostRegressor-4.3\"><span class=\"toc-item-num\">4.3&nbsp;&nbsp;</span>CatBoostRegressor</a></span></li><li><span><a href=\"#Визуализация-прогноза\" data-toc-modified-id=\"Визуализация-прогноза-4.4\"><span class=\"toc-item-num\">4.4&nbsp;&nbsp;</span>Визуализация прогноза</a></span></li><li><span><a href=\"#Выводы\" data-toc-modified-id=\"Выводы-4.5\"><span class=\"toc-item-num\">4.5&nbsp;&nbsp;</span><strong><code>Выводы</code></strong></a></span></li><li><span><a href=\"#Важность-признаков\" data-toc-modified-id=\"Важность-признаков-4.6\"><span class=\"toc-item-num\">4.6&nbsp;&nbsp;</span>Важность признаков</a></span></li></ul></li><li><span><a href=\"#Выводы\" data-toc-modified-id=\"Выводы-5\"><span class=\"toc-item-num\">5&nbsp;&nbsp;</span><strong><code>Выводы</code></strong></a></span></li><li><span><a href=\"#Чек-лист-проверки\" data-toc-modified-id=\"Чек-лист-проверки-6\"><span class=\"toc-item-num\">6&nbsp;&nbsp;</span>Чек-лист проверки</a></span></li></ul></div>"
   ]
  },
  {
   "cell_type": "markdown",
   "metadata": {},
   "source": [
    "#  Прогнозирование заказов такси"
   ]
  },
  {
   "cell_type": "markdown",
   "metadata": {},
   "source": [
    "**Проект -** Привлечение большего количества водителей в период пиковой нагрузки.<br>\n",
    "**Заказчик -** Компания \"Чётенькое такси\"<br>\n",
    "**Цель проекта** - Разработка системы прогнозирования количества заказов такси на следующий час.\n",
    "<br>\n",
    "\n",
    "**Ограничения :**<br>\n",
    "* Значение метрики RMSE на тестовой выборке должно быть не больше 48.\n",
    "<br>\n",
    "\n",
    "**Структура предоставленных данных (таблица - `taxi.csv`):**<br>\n",
    "* `datetime` - дата и время\n",
    "* `num_orders` - количество заказов\n",
    "<br>\n",
    "\n",
    "**План проекта**<br>\n",
    "* Загрузка данных\n",
    "* Анализ данных\n",
    "* Подготовка данных\n",
    "* Разработка и тестирование модели\n",
    "* Анализ прогнозов"
   ]
  },
  {
   "cell_type": "markdown",
   "metadata": {},
   "source": [
    "## Подготовка"
   ]
  },
  {
   "cell_type": "markdown",
   "metadata": {},
   "source": [
    "### Установка пакетов"
   ]
  },
  {
   "cell_type": "code",
   "execution_count": null,
   "metadata": {},
   "outputs": [],
   "source": [
    "pip install scikit-learn==1.6.1"
   ]
  },
  {
   "cell_type": "markdown",
   "metadata": {},
   "source": [
    "### Импорт библиотек и глобальные установки"
   ]
  },
  {
   "cell_type": "code",
   "execution_count": null,
   "metadata": {},
   "outputs": [],
   "source": [
    "# Импорт\n",
    "import numpy as np\n",
    "import pandas as pd\n",
    "import warnings\n",
    "\n",
    "from datetime import (\n",
    "    date,\n",
    "    timedelta\n",
    ")\n",
    "\n",
    "import seaborn as sns\n",
    "import matplotlib.pyplot as plt\n",
    "\n",
    "from statsmodels.tsa.seasonal import seasonal_decompose\n",
    "from statsmodels.tsa.stattools import adfuller\n",
    "\n",
    "#from phik.report import plot_correlation_matrix\n",
    "\n",
    "from sklearn.inspection import permutation_importance\n",
    "from sklearn.model_selection import(\n",
    "                                RandomizedSearchCV,\n",
    "                                train_test_split,\n",
    "                                TimeSeriesSplit\n",
    ")\n",
    "\n",
    "from catboost import CatBoostRegressor\n",
    "from sklearn.impute import SimpleImputer\n",
    "from sklearn.compose import ColumnTransformer\n",
    "from sklearn.metrics import mean_squared_error\n",
    "from sklearn.pipeline import Pipeline\n",
    "\n",
    "from sklearn.ensemble import RandomForestRegressor\n",
    "from sklearn.tree import DecisionTreeRegressor\n",
    "from sklearn.linear_model import (\n",
    "                                    LinearRegression,\n",
    "#                                    LogisticRegression,\n",
    "                                    Ridge\n",
    ")\n",
    "\n",
    "from sklearn.preprocessing import (\n",
    "                                   OneHotEncoder,\n",
    "                                   StandardScaler\n",
    ")\n",
    "from lightgbm import LGBMRegressor\n",
    "\n",
    "\n",
    "# Установки\n",
    "np.random.seed(42)\n",
    "\n",
    "warnings.filterwarnings('ignore')\n",
    "\n",
    "pd.set_option(\"display.max_columns\", None) # Отображать все поля DF\n",
    "pd.set_option('display.max_colwidth', None)  # Отображать все содержание полей DF\n",
    "\n",
    "RANDOM_STATE = 2025\n",
    "\n",
    "class color:\n",
    "    PURPLE = '\\033[95m'\n",
    "    CYAN = '\\033[96m'\n",
    "    DARKCYAN = '\\033[36m'\n",
    "    BLUE = '\\033[94m'\n",
    "    GREEN = '\\033[92m'\n",
    "    YELLOW = '\\033[93m'\n",
    "    RED = '\\033[91m'\n",
    "    BOLD = '\\033[1m'\n",
    "    UNDERLINE = '\\033[4m'\n",
    "    END = '\\033[0m'\n",
    "\n",
    "color_end = color.END\n",
    "red_start = color.RED\n",
    "blue_start = color.BLUE\n",
    "purple_start = color.PURPLE"
   ]
  },
  {
   "cell_type": "markdown",
   "metadata": {},
   "source": [
    "### Функции"
   ]
  },
  {
   "cell_type": "markdown",
   "metadata": {},
   "source": [
    "#### **`feature_plot_visualisation`** - визуализация признаков"
   ]
  },
  {
   "cell_type": "code",
   "execution_count": null,
   "metadata": {},
   "outputs": [],
   "source": [
    "def feature_plot_visualisation(\n",
    "    plot_lst_,\n",
    "    date_lst_,\n",
    "    plot_color_lst_,\n",
    "    title_,\n",
    "    xlabel_,\n",
    "    ylabel_,\n",
    "    legend_flag_ = True,\n",
    "    fig_size_ = (30, 10),\n",
    "    legend_font_size_ = 15\n",
    "):\n",
    "    sns.set_style('darkgrid')\n",
    "    plt.figure(figsize = fig_size_)\n",
    "    \n",
    "    ind = 0\n",
    "    color_flag = False\n",
    "    \n",
    "    if len(plot_color_lst_) > 0:\n",
    "        color_flag = True\n",
    "    for cur_date in date_lst_:\n",
    "        if color_flag:\n",
    "            plt.plot(cur_date, color = plot_color_lst_[ind])\n",
    "        else:\n",
    "            plt.plot(cur_date)\n",
    "        ind += 1\n",
    "    \n",
    "    plt.title(title_, fontsize = 18, fontweight = 'bold', y = 1.02)\n",
    "    plt.xlabel(xlabel_, fontsize = 15)\n",
    "    plt.ylabel(ylabel_, fontsize = 15)\n",
    "    if legend_flag_:\n",
    "        plt.legend(plot_lst_, fontsize = legend_font_size_)\n",
    "    plt.show();"
   ]
  },
  {
   "cell_type": "markdown",
   "metadata": {},
   "source": [
    "#### **`column_analiser`** - анализ числовых признаков"
   ]
  },
  {
   "cell_type": "code",
   "execution_count": null,
   "metadata": {},
   "outputs": [],
   "source": [
    "def column_analiser(\n",
    "    df_,\n",
    "    column_,\n",
    "    x_label='',\n",
    "    y_label='',\n",
    "    print_unique = False,\n",
    "    bins_= 70,\n",
    "    figsize_ = (15, 10),\n",
    "    height_ratios_ = [1, 3],\n",
    "    hue_lst_ = [],\n",
    "    kde_plot_log_flag_ = False,\n",
    "    kde_plot_figsize_ = (15, 10),\n",
    "    kde_plot_title = '',\n",
    "    kde_plot_x_label = '',\n",
    "    kde_plot_y_label = ''\n",
    "):\n",
    "\n",
    "    record_count = df_.shape[0]\n",
    "    \n",
    "    print('_____________________________________________________________________________________________________________________________')\n",
    "    print(blue_start, f'Поле : {column_} - {x_label}', color_end)\n",
    "    isna_count = df_[column_].isna().sum()\n",
    "    print(blue_start, '    Количество пропусков - ', color_end, isna_count)\n",
    "    print(blue_start, '    Доля пропусков - ', color_end, round((isna_count / record_count) * 100, 2), '%')\n",
    "    print('')\n",
    "    \n",
    "    print(df_[column_].describe())\n",
    "    if print_unique:\n",
    "        print('Список значений')\n",
    "        print(df_[column_].unique())\n",
    "        \n",
    "    fig, axes = plt.subplots(nrows = 2, ncols = 1, figsize = figsize_, gridspec_kw={'height_ratios': height_ratios_})\n",
    "        \n",
    "    if kde_plot_log_flag_:\n",
    "        axes[0] = np.log1p(df_[column_]).plot(\n",
    "            kind = 'box',\n",
    "            ax = axes[0],\n",
    "            vert=False)\n",
    "        axes[1] = plt.hist(\n",
    "            np.log1p(df_[column_]),\n",
    "            bins=bins_\n",
    "        )\n",
    "    else:\n",
    "        axes[0] = df_[column_].plot(\n",
    "            kind = 'box',\n",
    "            ax = axes[0],\n",
    "            vert=False)\n",
    "        axes[1] = plt.hist(\n",
    "            df_[column_],\n",
    "            bins=bins_,\n",
    "        )\n",
    "\n",
    "    axes[0].set_ylabel(y_label)\n",
    "    plt.xlabel(x_label)\n",
    "    plt.ylabel(y_label)\n",
    "    plt.title('Распределение')    \n",
    "    plt.show()    \n",
    "    \n",
    "    if len(hue_lst_) > 0:\n",
    "        for hue_ in hue_lst_:\n",
    "            print('kde_plot_log_flag_ = ', kde_plot_log_flag_)\n",
    "            if kde_plot_log_flag_:\n",
    "                fig, axes = plt.subplots(nrows = 1, ncols = 1, figsize = kde_plot_figsize_)\n",
    "                sns.kdeplot(data = df_,\n",
    "                            x = np.log1p(df_[column_]),\n",
    "                            hue = hue_,\n",
    "                            fill = True)\n",
    "            else:\n",
    "                fig, axes = plt.subplots(nrows = 1, ncols = 1, figsize = kde_plot_figsize_)\n",
    "                sns.kdeplot(data = df_,\n",
    "                            x = df_[column_],\n",
    "                            hue = hue_,\n",
    "                            fill = True)\n",
    "                \n",
    "            plt.title(kde_plot_title)\n",
    "            plt.xlabel(kde_plot_x_label)\n",
    "            plt.ylabel(kde_plot_y_label)\n",
    "            plt.show()"
   ]
  },
  {
   "cell_type": "markdown",
   "metadata": {},
   "source": [
    "#### **`load_date`** - загрузка файлов"
   ]
  },
  {
   "cell_type": "code",
   "execution_count": null,
   "metadata": {},
   "outputs": [],
   "source": [
    "# Функция загрузки file_name_ с возможностью парсинга даты (парсить/не парсить) \n",
    "# и отображением первых file_name_ строк\n",
    "# последовательность попыток загрузки по локациям:\n",
    "#    - текущая (локальная) директория \n",
    "#    - директория тренажера\n",
    "#    - https://code.s3.yandex.net/datasets/\n",
    "\n",
    "def load_date(\n",
    "    file_name_,\n",
    "    parse_dates_,\n",
    "    head_rows_ = 1):\n",
    "    \n",
    "    read_csv_res = red_start + 'ОШИБКА - ' + file_name_ + '- не загружен' + color_end\n",
    "    err = False\n",
    "    try:\n",
    "        df_ = pd.read_csv(\n",
    "            file_name_,\n",
    "            parse_dates = parse_dates_\n",
    "        )\n",
    "        read_csv_res = blue_start + file_name_ + ' загружен из локальной директории' + color_end\n",
    "    except:\n",
    "        try:\n",
    "            file_path = '/datasets/'\n",
    "            df_ = pd.read_csv(\n",
    "                file_path + file_name_,\n",
    "                parse_dates = parse_dates_\n",
    "            )\n",
    "            read_csv_res = blue_start + file_name_ + ' загружен в тренажере' + color_end\n",
    "        except:\n",
    "            try:\n",
    "                file_path = 'https://code.s3.yandex.net/datasets/'\n",
    "                df_ = pd.read_csv(\n",
    "                    file_path + file_name_,\n",
    "                    parse_dates = parse_dates_\n",
    "                )\n",
    "                read_csv_res = blue_start + file_name_ + ' загружен из - ' + file_path + color_end\n",
    "            except:\n",
    "                read_csv_res = red_start + 'ОШИБКА - '  + file_name_ + ' - не загружен' + color_end\n",
    "                err = True\n",
    "    print(read_csv_res)\n",
    "    if err:\n",
    "        return 'ОШИБКА ЧТЕНИЯ'\n",
    "    else:\n",
    "        df_.name = file_name_\n",
    "        display(df_.head(head_rows_))\n",
    "        return df_"
   ]
  },
  {
   "cell_type": "markdown",
   "metadata": {},
   "source": [
    "#### **`df_inf`** - информация о дата фрейме"
   ]
  },
  {
   "cell_type": "code",
   "execution_count": null,
   "metadata": {},
   "outputs": [],
   "source": [
    "def df_inf(df, head_row=5, drop_duplicates_flag=False):\n",
    "    print(purple_start, '_________________________________________________________________________________', color_end)\n",
    " \n",
    "    try:\n",
    "        df_name = df.name\n",
    "        print(blue_start,'Имя:', df_name, color_end)\n",
    "    except:\n",
    "        df_name = 'Не определено'\n",
    "        print(blue_start,'Имя: Не определено', color_end)\n",
    "    print('')\n",
    "    \n",
    "    df_shape_ = df.shape\n",
    "    \n",
    "    print(blue_start, df_name, '(первые', head_row, 'строк)', color_end)\n",
    "    display(df.head(head_row))\n",
    "    print('')\n",
    "    \n",
    "    print(blue_start,'Информация: ', color_end)\n",
    "    df.info()\n",
    "    print('')\n",
    "\n",
    "    try:\n",
    "        print(blue_start,'Описание числовых полей: ', color_end)\n",
    "        display(df.describe(exclude=['O']))\n",
    "    except ValueError:\n",
    "        print(blue_start,'Числовых полей нет!', color_end)\n",
    "        \n",
    "    print('')\n",
    "    \n",
    "    try:\n",
    "        print(blue_start,'Описание не числовых полей: ', color_end)\n",
    "        display(df.describe(include=['O']))\n",
    "    except ValueError:\n",
    "        print(blue_start,'Не числовых полей нет!', color_end)\n",
    "        \n",
    "    print('')\n",
    "\n",
    "    print(blue_start,'Пропуски: ', color_end)\n",
    "    display(df.isna().sum().T)\n",
    "    print('')\n",
    "    \n",
    "    df_duplicates = []\n",
    "    df_duplicates = df[df.duplicated()]\n",
    "\n",
    "    #isna_record_count  = df[df.isnull().any(axis=1)].drop_duplicates().shape[0]\n",
    "    record_count = df_shape_[0]\n",
    "    isna_record_count  = df[df.isnull().any(axis=1)].shape[0]\n",
    "    \n",
    "    print(blue_start, 'Доля записей, содержащих пропуски:',color_end, round((isna_record_count/record_count)*100, 2),'%')\n",
    "    \n",
    "    if len(df_duplicates) > 0:\n",
    "        print(' ')\n",
    "        print(blue_start,'Количество дубликатов:',len(df_duplicates), color_end)\n",
    "        print(blue_start,'Дубликаты (первые', head_row, 'строк)', color_end)\n",
    "        display(df_duplicates.head(head_row))\n",
    "        if drop_duplicates_flag:\n",
    "            print(blue_start,'Дубликаты удалены!', color_end)\n",
    "            df.drop_duplicates(keep = 'first', inplace = True)\n",
    "            df_duplicates = df[df.duplicated()]\n",
    "            print(blue_start,'Количество дубликатов после удаления:',len(df_duplicates), color_end)\n",
    "    else:\n",
    "        print(blue_start,'Дубликаты не обнаружены!', color_end)\n",
    "    print(' ')\n",
    "    return df_duplicates, df_shape_"
   ]
  },
  {
   "cell_type": "markdown",
   "metadata": {},
   "source": [
    "### Загрузка данных"
   ]
  },
  {
   "cell_type": "code",
   "execution_count": null,
   "metadata": {},
   "outputs": [],
   "source": [
    "taxi_df = load_date(file_name_ = 'taxi.csv', parse_dates_ = ['datetime'], head_rows_ = 3)"
   ]
  },
  {
   "cell_type": "markdown",
   "metadata": {},
   "source": [
    "#### **`Выводы`**"
   ]
  },
  {
   "cell_type": "markdown",
   "metadata": {},
   "source": [
    "* Данные загружены\n",
    "* Структура соответствует описанию\n",
    "* Поле `datetime` приведен к типу `datetime64[ns]`"
   ]
  },
  {
   "cell_type": "markdown",
   "metadata": {},
   "source": [
    "### Предобработка данных"
   ]
  },
  {
   "cell_type": "code",
   "execution_count": null,
   "metadata": {},
   "outputs": [],
   "source": [
    "duplicates_df, taxi_df__original_shape = df_inf(df = taxi_df, head_row = 5, drop_duplicates_flag = False)"
   ]
  },
  {
   "cell_type": "code",
   "execution_count": null,
   "metadata": {},
   "outputs": [],
   "source": [
    "# Установка индекса по полю datetime\n",
    "taxi_df.set_index('datetime', inplace = True)\n",
    "# Сортировка данных по индексу\n",
    "# taxi_df = taxi_df.sort_index(ascending = True)\n",
    "\n",
    "# Ресемплинг по часу\n",
    "taxi_df = taxi_df.resample('1H').sum()\n",
    "\n",
    "# Сортировка данных по индексу\n",
    "taxi_df = taxi_df.sort_index(ascending = True)"
   ]
  },
  {
   "cell_type": "markdown",
   "metadata": {},
   "source": [
    "#### **`Выводы`**"
   ]
  },
  {
   "cell_type": "markdown",
   "metadata": {},
   "source": [
    "* Данные содержат `26496` записей\n",
    "* Информация предоставлена за период с `2018-03-01 00:00:00` по `2018-08-31 23:50:00`\n",
    "* Дубликаты и пропуски не обнаружены\n",
    "* Сформирован индекс по полю `datetime`, данные отсортированы по индексу\n",
    "* Данные разделены на 10 минутные преомежутки\n",
    "* Выполнен ресемплинг по 1 часу"
   ]
  },
  {
   "cell_type": "markdown",
   "metadata": {},
   "source": [
    "## Анализ"
   ]
  },
  {
   "cell_type": "markdown",
   "metadata": {},
   "source": [
    "### Количество заказов в час, Скользящее среднее (24 часа), Скользящее стандартное отклонение (24 часа)"
   ]
  },
  {
   "cell_type": "code",
   "execution_count": null,
   "metadata": {},
   "outputs": [],
   "source": [
    "feature_plot_visualisation(\n",
    "    plot_lst_ = ['Количество заказов в час', 'Скользящее среднее (24 часа)', 'Скользящее стандартное отклонение (24 часа)'],\n",
    "    date_lst_ = [taxi_df['num_orders'], taxi_df.shift()['num_orders'].rolling(24).mean(), taxi_df.shift()['num_orders'].rolling(24).std()],\n",
    "    plot_color_lst_ = ['tab:gray', 'blue', 'tab:red'],\n",
    "    title_ = 'Основные показатели\\n___________________________________________',\n",
    "    xlabel_ = 'Месяц',\n",
    "    ylabel_ = 'Количество заказов'\n",
    ")"
   ]
  },
  {
   "cell_type": "markdown",
   "metadata": {},
   "source": [
    "### Сезонность, Остаточный шум, Скользящее среднее"
   ]
  },
  {
   "cell_type": "code",
   "execution_count": null,
   "metadata": {},
   "outputs": [],
   "source": [
    "decomposed = seasonal_decompose(taxi_df['num_orders'])\n",
    "\n",
    "feature_plot_visualisation(\n",
    "    plot_lst_ = ['Сезонность'],\n",
    "    date_lst_ = [decomposed.seasonal],\n",
    "    plot_color_lst_ = ['gray'],\n",
    "    title_ = 'Сезонность\\n________________________________',\n",
    "    xlabel_ = 'Месяц',\n",
    "    ylabel_ = 'Количество заказов',\n",
    "    legend_flag_ = False\n",
    ")\n",
    "\n",
    "print(' ')\n",
    "\n",
    "feature_plot_visualisation(\n",
    "    plot_lst_ = ['Остаточный шум'],\n",
    "    date_lst_ = [decomposed.resid],\n",
    "    plot_color_lst_ = ['tab:blue'],\n",
    "    title_ = 'Остаточный шум\\n________________________________',\n",
    "    xlabel_ = 'Месяц',\n",
    "    ylabel_ = 'Количество заказов',\n",
    "    legend_flag_ = False\n",
    ")\n",
    "\n",
    "print(' ')\n",
    "\n",
    "feature_plot_visualisation(\n",
    "    plot_lst_ = ['Количество заказов', 'Скользящее среднее'],\n",
    "    date_lst_ = [decomposed.trend, decomposed.trend.resample('1D').mean().rolling(7).mean()],\n",
    "    plot_color_lst_ = ['tab:blue', 'tab:red'],\n",
    "    title_ = 'Тренд\\n________________________________',\n",
    "    xlabel_ = 'Месяц',\n",
    "    ylabel_ = 'Количество заказов',\n",
    "    legend_flag_ = True\n",
    ")"
   ]
  },
  {
   "cell_type": "markdown",
   "metadata": {},
   "source": [
    "### Расширенный тест Дики-Фуллера"
   ]
  },
  {
   "cell_type": "code",
   "execution_count": null,
   "metadata": {},
   "outputs": [],
   "source": [
    "p_value = adfuller(taxi_df['num_orders'])\n",
    "print(blue_start, 'p-значение =', color_end, round(p_value[1], 3))"
   ]
  },
  {
   "cell_type": "markdown",
   "metadata": {},
   "source": [
    "**Гипотезы**:\n",
    "* h0 : Временной ряд является нестационарным.\n",
    "* h1 : Временной ряд является стационарным.\n",
    "<br>\n",
    "\n",
    "**Т.к. p-значение теста α < 0,05, нулевая гипотеза отвергается, временной ряд является стационарным.**"
   ]
  },
  {
   "cell_type": "code",
   "execution_count": null,
   "metadata": {},
   "outputs": [],
   "source": [
    "print(blue_start, 'Стандартное отклонение по количеству заказов в час: ', color_end, round(decomposed.trend.std(), 3))"
   ]
  },
  {
   "cell_type": "markdown",
   "metadata": {},
   "source": [
    "### Формирование признаков"
   ]
  },
  {
   "cell_type": "code",
   "execution_count": null,
   "metadata": {},
   "outputs": [],
   "source": [
    "max_lag = 24\n",
    "roll_mean_size = 7\n",
    "\n",
    "taxi_df['month'] = taxi_df.index.month\n",
    "taxi_df['day_of_week'] = taxi_df.index.dayofweek\n",
    "taxi_df['hour'] = taxi_df.index.hour\n",
    "\n",
    "for lag in range(1, max_lag + 1):\n",
    "    taxi_df['lag_{}'.format(lag)] = taxi_df['num_orders'].shift(lag)\n",
    "\n",
    "for rol in range(1, roll_mean_size + 1):\n",
    "    taxi_df['rol_{}'.format(rol)] = taxi_df['lag_1'].shift().rolling(rol).mean().round(2)"
   ]
  },
  {
   "cell_type": "markdown",
   "metadata": {},
   "source": [
    "### Данные после формирования признаков"
   ]
  },
  {
   "cell_type": "code",
   "execution_count": null,
   "metadata": {},
   "outputs": [],
   "source": [
    "duplicates_df, taxi_df__shape = df_inf(df = taxi_df, head_row = 5, drop_duplicates_flag = False)\n",
    "taxi_df = taxi_df.dropna()\n",
    "#duplicates_df, taxi_df__shape = df_inf(df = taxi_df, head_row = 5, drop_duplicates_flag = False)"
   ]
  },
  {
   "cell_type": "markdown",
   "metadata": {},
   "source": [
    "### Недельная сезонность"
   ]
  },
  {
   "cell_type": "code",
   "execution_count": null,
   "metadata": {},
   "outputs": [],
   "source": [
    "plt.figure(figsize=(10, 5))\n",
    "fig = plt.plot(taxi_df.groupby('day_of_week')['num_orders'].sum())\n",
    "plt.title('Сумма заказов по дню недели', y = 1.01)\n",
    "ax = plt.gca()\n",
    "ax.set_xlabel(\"День недели\", fontsize = 15)\n",
    "ax.set_ylabel(\"Количество заказов\", fontsize = 15)\n",
    "plt.show();"
   ]
  },
  {
   "cell_type": "markdown",
   "metadata": {},
   "source": [
    "### Дневная сезонность"
   ]
  },
  {
   "cell_type": "code",
   "execution_count": null,
   "metadata": {},
   "outputs": [],
   "source": [
    "# Установка\n",
    "start_date = date(2018, 4, 2)\n",
    "day_count = 7\n",
    "\n",
    "plot_lst = []\n",
    "date_lst = []\n",
    "\n",
    "for single_date in (start_date + timedelta(n) for n in range(day_count)):\n",
    "#    print(single_date.strftime(\"%A\"))\n",
    "#    print(str(single_date))\n",
    "    plot_lst.append(single_date.strftime(\"%A\"))\n",
    "    date_lst.append(\n",
    "        decomposed.seasonal[str(single_date):str(single_date)]\n",
    "    )\n",
    "\n",
    "feature_plot_visualisation(\n",
    "    plot_lst_ = plot_lst,\n",
    "    date_lst_ = date_lst,\n",
    "    plot_color_lst_ = [],\n",
    "    title_ = 'Дневная сезонность \\n _______________________________',\n",
    "    xlabel_ = 'Месяц',\n",
    "    ylabel_ = 'Количество заказов',\n",
    "    legend_flag_ = True,\n",
    "    fig_size_ = (30, 7),\n",
    "    legend_font_size_ = 15\n",
    ")"
   ]
  },
  {
   "cell_type": "markdown",
   "metadata": {},
   "source": [
    "### Суточная сезонность"
   ]
  },
  {
   "cell_type": "code",
   "execution_count": null,
   "metadata": {},
   "outputs": [],
   "source": [
    "feature_plot_visualisation(\n",
    "    plot_lst_ = ['Количество заказов в час'],\n",
    "    date_lst_ = [decomposed.seasonal['2018-04-03':'2018-04-03']],\n",
    "    plot_color_lst_ = [],\n",
    "    title_ = 'Суточная сезонность \\n _______________________________',\n",
    "    xlabel_ = 'Час',\n",
    "    ylabel_ = 'Количество заказов в час',\n",
    "    legend_flag_ = False,\n",
    "    fig_size_ = (8, 6),\n",
    "    legend_font_size_ = 12\n",
    ")"
   ]
  },
  {
   "cell_type": "markdown",
   "metadata": {},
   "source": [
    "### **`Выводы`**"
   ]
  },
  {
   "cell_type": "markdown",
   "metadata": {},
   "source": [
    "* Результат теста Дики-Фуллера указывает на то, что временной ряд является стационарным.\n",
    "* Ряд имеет некоторую структуру, зависящую от времени, и имеет постоянную дисперсию во времени.\n",
    "* Возрастающее скользящее среднее говорит о том, что возрастает количество заказов такси.\n",
    "* Наблюдается суточная сезонность.\n",
    "* Количество заказов достигает максимальных значений в 10 часов, 16 часов, 0 часов.\n",
    "* Минимальное количество заказов наблюдается в 6 утра.\n",
    "* В течении недели минимальное количество заказов наблюдается в понедельник.\n",
    "* Со вторника по пятницу наблюдается стабильный рост заказов.\n",
    "* Начиная с выходных количество заказов падает."
   ]
  },
  {
   "cell_type": "markdown",
   "metadata": {},
   "source": [
    "## Обучение"
   ]
  },
  {
   "cell_type": "markdown",
   "metadata": {},
   "source": [
    "### Определение категорий признаков"
   ]
  },
  {
   "cell_type": "code",
   "execution_count": null,
   "metadata": {},
   "outputs": [],
   "source": [
    "# Числовые признаки\n",
    "num_field = taxi_df.drop(columns=['day_of_week', 'hour', 'num_orders']).columns #'month', \n",
    "\n",
    "# Категориальные признаки\n",
    "cat_field = ['month', 'day_of_week', 'hour']\n",
    "\n",
    "# Целевой признак\n",
    "target_field = ['num_orders']\n",
    "\n",
    "feature_field_lst = []\n",
    "feature_field_lst.extend(num_field)\n",
    "feature_field_lst.extend(cat_field)\n",
    "\n",
    "all_field_lst = []\n",
    "all_field_lst.extend(feature_field_lst)\n",
    "all_field_lst.extend(target_field)"
   ]
  },
  {
   "cell_type": "markdown",
   "metadata": {},
   "source": [
    "### Разделение на выборки"
   ]
  },
  {
   "cell_type": "code",
   "execution_count": null,
   "metadata": {},
   "outputs": [],
   "source": [
    "X_train, X_test, y_train, y_test = train_test_split(\n",
    "    taxi_df.drop(target_field, axis = 1),\n",
    "    taxi_df[target_field],\n",
    "    test_size = 0.1,\n",
    "    shuffle = False,\n",
    "    random_state = RANDOM_STATE)"
   ]
  },
  {
   "cell_type": "markdown",
   "metadata": {},
   "source": [
    "### LGBMRegressor, RandomForestRegressor, DecisionTreeRegressor, LogisticRegression"
   ]
  },
  {
   "cell_type": "markdown",
   "metadata": {},
   "source": [
    "#### Пайплайны: кодирование, масштабирование, итоговый."
   ]
  },
  {
   "cell_type": "code",
   "execution_count": null,
   "metadata": {},
   "outputs": [],
   "source": [
    "# Пайплайн подготовки признаков num_field и cat_field: заполнение пропусков и кодирование\n",
    "ohe_pipe = Pipeline(\n",
    "    [\n",
    "        ('simpleImputer_ohe', SimpleImputer(missing_values = np.nan, strategy = 'most_frequent')),\n",
    "        ('ohe', OneHotEncoder(drop = 'first', handle_unknown = 'ignore', sparse_output = False)),\n",
    "        ('simpleImputer_after_ohe', SimpleImputer(missing_values = np.nan, strategy = 'most_frequent'))\n",
    "    ]\n",
    ")\n",
    "\n",
    "# Общий пайплайн подготовки данных\n",
    "data_preprocessor = ColumnTransformer(\n",
    "    [('ohe', ohe_pipe, cat_field),\n",
    "     ('num', StandardScaler(), num_field)\n",
    "    ],\n",
    "    remainder='passthrough'\n",
    ")\n",
    "\n",
    "# Итоговый пайплайн\n",
    "pipe_final = Pipeline([\n",
    "    ('preprocessor', data_preprocessor),\n",
    "    ('models', LinearRegression())\n",
    "])"
   ]
  },
  {
   "cell_type": "markdown",
   "metadata": {},
   "source": [
    "#### Словарь параметров"
   ]
  },
  {
   "cell_type": "code",
   "execution_count": null,
   "metadata": {},
   "outputs": [],
   "source": [
    "# Определение параметров для поиска\n",
    "param_dist = [\n",
    "    {\n",
    "        'models': [LGBMRegressor(random_state = RANDOM_STATE)],\n",
    "        'models__n_estimators': [100, 120],\n",
    "        'models__max_depth': [12, 14],\n",
    "        'models__learning_rate':[.1, .3, .5]\n",
    "    },\n",
    "    {\n",
    "        'models': [RandomForestRegressor(random_state = RANDOM_STATE)],\n",
    "        'models__n_estimators': [100, 120],\n",
    "        'models__max_depth': [12, 14]\n",
    "    },\n",
    "    {\n",
    "        'models': [DecisionTreeRegressor(random_state = RANDOM_STATE)],\n",
    "        'models__max_depth': [None, 2, 3, 4, 5, 6],\n",
    "        'models__max_features': range(2, 15)\n",
    "    },\n",
    "    {\n",
    "#        'models': [LogisticRegression(random_state = RANDOM_STATE, solver = 'liblinear', penalty='l1')],\n",
    "#        'models__C': range(1, 10),\n",
    "        'models': [LinearRegression()],\n",
    "        'models__n_jobs': [1, 5, 10, None]\n",
    "    },\n",
    "    {\n",
    "        'models': [Ridge(random_state = RANDOM_STATE)]\n",
    "    }\n",
    "]"
   ]
  },
  {
   "cell_type": "markdown",
   "metadata": {},
   "source": [
    "#### Оценка гиперпараметров"
   ]
  },
  {
   "cell_type": "code",
   "execution_count": null,
   "metadata": {},
   "outputs": [],
   "source": [
    "tss = TimeSeriesSplit(n_splits = 3)\n",
    "\n",
    "search = RandomizedSearchCV(\n",
    "    pipe_final,\n",
    "    param_distributions = param_dist,\n",
    "    n_iter = 50,\n",
    "    cv = tss,\n",
    "    verbose = 0,\n",
    "    scoring = 'neg_mean_squared_error',\n",
    "    random_state = RANDOM_STATE,\n",
    "    n_jobs = -1\n",
    ")"
   ]
  },
  {
   "cell_type": "markdown",
   "metadata": {},
   "source": [
    "#### Обучение на трейне"
   ]
  },
  {
   "cell_type": "code",
   "execution_count": null,
   "metadata": {},
   "outputs": [],
   "source": [
    "%%time\n",
    "search.fit(X_train, y_train)"
   ]
  },
  {
   "cell_type": "markdown",
   "metadata": {},
   "source": [
    "#### Результаты обучения"
   ]
  },
  {
   "cell_type": "code",
   "execution_count": null,
   "metadata": {},
   "outputs": [],
   "source": [
    "cv_results = pd.DataFrame(search.cv_results_)\n",
    "\n",
    "# Формирование поля models_name\n",
    "cv_results['models_name'] = cv_results['param_models'].astype(str)\n",
    "cv_results['models_name'] = cv_results['models_name'].apply(lambda x: x.split('(', 1)[0])\n",
    "results = pd.DataFrame(\n",
    "    cv_results.groupby('models_name')['mean_test_score'].max()\n",
    "                      ).reset_index()\n",
    "\n",
    "# Формирование поля mean_test_score\n",
    "results['mean_test_score'] = results['mean_test_score'].apply(lambda x: round(abs(x)**.5, 2))\n",
    "\n",
    "display(results.sort_values(by = 'mean_test_score', ascending = True))"
   ]
  },
  {
   "cell_type": "markdown",
   "metadata": {},
   "source": [
    "### CatBoostRegressor"
   ]
  },
  {
   "cell_type": "markdown",
   "metadata": {},
   "source": [
    "#### Оценка гиперпараметров"
   ]
  },
  {
   "cell_type": "code",
   "execution_count": null,
   "metadata": {},
   "outputs": [],
   "source": [
    "param_grid_cbr = {\n",
    "    'depth': (5, 6, 7),\n",
    "    'iterations': range(170, 190, 5), \n",
    "    'learning_rate' : (0.01, 0.05, 0.1)\n",
    "                 }\n",
    "\n",
    "search_cbr = RandomizedSearchCV(\n",
    "    estimator = CatBoostRegressor(random_state = RANDOM_STATE, cat_features = cat_field, verbose=False),\n",
    "    param_distributions = param_grid_cbr,\n",
    "    n_iter = 50,\n",
    "    cv = tss,\n",
    "    scoring = 'neg_root_mean_squared_error',\n",
    "    n_jobs = -1,\n",
    "    random_state = RANDOM_STATE\n",
    "                             )"
   ]
  },
  {
   "cell_type": "markdown",
   "metadata": {},
   "source": [
    "#### Обучение на трейне"
   ]
  },
  {
   "cell_type": "code",
   "execution_count": null,
   "metadata": {},
   "outputs": [],
   "source": [
    "%%time\n",
    "search_cbr.fit(X_train, y_train)"
   ]
  },
  {
   "cell_type": "code",
   "execution_count": null,
   "metadata": {},
   "outputs": [],
   "source": [
    "cv_results_cbr = pd.DataFrame(search_cbr.cv_results_)"
   ]
  },
  {
   "cell_type": "markdown",
   "metadata": {},
   "source": [
    "### Резултаты обучения по всем моделям"
   ]
  },
  {
   "cell_type": "code",
   "execution_count": null,
   "metadata": {},
   "outputs": [],
   "source": [
    "cv_results_cbr = pd.DataFrame(search_cbr.cv_results_)\n",
    "mean_test_score = cv_results_cbr['mean_test_score'].max()\n",
    "results.loc[len(results)] = ['CatBoostRegressor', round(abs(mean_test_score), 2)]\n",
    "display(results.sort_values(by = 'mean_test_score', ascending = True))"
   ]
  },
  {
   "cell_type": "markdown",
   "metadata": {},
   "source": [
    "### Определение лучших моделей и их параметров"
   ]
  },
  {
   "cell_type": "code",
   "execution_count": null,
   "metadata": {},
   "outputs": [],
   "source": [
    "print(blue_start, 'Лучшая модель и её параметры среди:\\n LGBMRegressor, RandomForestRegressor, DecisionTreeRegressor, LinearRegression\\n\\n', color_end, search.best_estimator_, '\\n')\n",
    "print(blue_start, 'Лучшая метрика на кросс валидации :', color_end, round(abs(search.best_score_)**0.5, 2), '\\n')"
   ]
  },
  {
   "cell_type": "code",
   "execution_count": null,
   "metadata": {},
   "outputs": [],
   "source": [
    "print(blue_start, 'Оптимальные параметры CatBoostRegressor:\\n\\n', color_end, search_cbr.best_estimator_.get_params(), '\\n')\n",
    "print(blue_start, 'Лучшая метрика на кросс валидации :', color_end, round(abs(search_cbr.best_score_), 2), '\\n')"
   ]
  },
  {
   "cell_type": "markdown",
   "metadata": {},
   "source": [
    "### **`Выводы`**"
   ]
  },
  {
   "cell_type": "markdown",
   "metadata": {},
   "source": [
    "* Подобраны гиперпараметры и проведено обучение нескольких моделей.\n",
    "* Качество моделей оценивалось метрикой `RMSE`\n",
    "* Результаты обучения моделей на тренировочной выборке:\n",
    "\n",
    "|Модель|RMSE|\n",
    "|-----------|---------------|\n",
    "|CatBoostRegressor|25.81|\n",
    "|Ridge|26.17|\n",
    "|LGBMRegressor|27.11|\n",
    "|RandomForestRegressor|27.20|\n",
    "|DecisionTreeRegressor|32.82|\n"
   ]
  },
  {
   "cell_type": "markdown",
   "metadata": {},
   "source": [
    "## Тестирование"
   ]
  },
  {
   "cell_type": "markdown",
   "metadata": {},
   "source": [
    "### Обучение лучших моделей"
   ]
  },
  {
   "cell_type": "markdown",
   "metadata": {},
   "source": [
    "### Ridge"
   ]
  },
  {
   "cell_type": "code",
   "execution_count": null,
   "metadata": {},
   "outputs": [],
   "source": [
    "best_param_model = search.best_estimator_.fit(X_train, y_train)\n",
    "y_test_predict = best_param_model.predict(X_test);\n",
    "\n",
    "X_test['prediction'] = y_test_predict\n",
    "X_test['fact'] = y_test\n",
    "X_test['residuals'] = abs(X_test['fact'] - X_test['prediction'])\n",
    "\n",
    "rmse = mean_squared_error(y_test, y_test_predict) ** .5\n",
    "print(blue_start, 'Ridge RMSE -', color_end, round(rmse, 2))"
   ]
  },
  {
   "cell_type": "markdown",
   "metadata": {},
   "source": [
    "### CatBoostRegressor"
   ]
  },
  {
   "cell_type": "code",
   "execution_count": null,
   "metadata": {},
   "outputs": [],
   "source": [
    "best_param_model_cbr = search_cbr.best_estimator_.fit(X_train, y_train);\n",
    "y_test_predict = best_param_model_cbr.predict(X_test);\n",
    "\n",
    "X_test['prediction_cbr'] = y_test_predict\n",
    "X_test['residuals_cbr'] = abs(X_test['fact'] - X_test['prediction_cbr'])\n",
    "\n",
    "rmse = mean_squared_error(y_test, y_test_predict) ** .5\n",
    "print(blue_start, 'CatBoostRegressor RMSE -', color_end, round(rmse, 2))"
   ]
  },
  {
   "cell_type": "markdown",
   "metadata": {},
   "source": [
    "### Визуализация прогноза"
   ]
  },
  {
   "cell_type": "code",
   "execution_count": null,
   "metadata": {},
   "outputs": [],
   "source": [
    "# Прогноз и Факт - LGBMRegressor\n",
    "feature_plot_visualisation(\n",
    "    plot_lst_ = ['Прогноз', 'Факт'],\n",
    "    date_lst_ = [X_test['prediction'], X_test['fact']],\n",
    "    plot_color_lst_ = ['tab:red', 'tab:blue'],\n",
    "    title_ = 'Прогноз / Факт - LGBMRegressor\\n__________________________________________',\n",
    "    xlabel_ = 'Дата',\n",
    "    ylabel_ = 'Количество заказов в час',\n",
    "    legend_flag_ = True,\n",
    "    fig_size_ = (30, 7)\n",
    "    #legend_font_size_ = 12\n",
    ")\n",
    "\n",
    "print('')\n",
    "\n",
    "# Прогноз и Факт - CatBoostRegressor\n",
    "feature_plot_visualisation(\n",
    "    plot_lst_ = ['Прогноз', 'Факт'],\n",
    "    date_lst_ = [X_test['prediction_cbr'], X_test['fact']],\n",
    "    plot_color_lst_ = ['tab:red', 'tab:blue'],\n",
    "    title_ = 'Прогноз / Факт - CatBoostRegressor\\n__________________________________________',\n",
    "    xlabel_ = 'Дата',\n",
    "    ylabel_ = 'Количество заказов в час',\n",
    "    legend_flag_ = True,\n",
    "    fig_size_ = (30, 7)\n",
    "    #legend_font_size_ = 12\n",
    ")\n",
    "\n",
    "print('')\n",
    "\n",
    "# Остатки - LGBMRegressor\n",
    "feature_plot_visualisation(\n",
    "    plot_lst_ = ['Остатки'],\n",
    "    date_lst_ = [X_test['residuals']],\n",
    "    plot_color_lst_ = ['tab:red', 'tab:blue'],\n",
    "    title_ = 'Остатки - LGBMRegressor\\n______________________________',\n",
    "    xlabel_ = 'Дата',\n",
    "    ylabel_ = 'Остатки',\n",
    "    legend_flag_ = True,\n",
    "    fig_size_ = (30, 7)\n",
    "    #legend_font_size_ = 12\n",
    ")\n",
    "\n",
    "print('')\n",
    "\n",
    "# Остатки - CatBoostRegressor\n",
    "feature_plot_visualisation(\n",
    "    plot_lst_ = ['Остатки'],\n",
    "    date_lst_ = [X_test['residuals_cbr']],\n",
    "    plot_color_lst_ = ['tab:red', 'tab:blue'],\n",
    "    title_ = 'Остатки - CatBoostRegressor\\n______________________________',\n",
    "    xlabel_ = 'Дата',\n",
    "    ylabel_ = 'Остатки',\n",
    "    legend_flag_ = True,\n",
    "    fig_size_ = (30, 7)\n",
    "    #legend_font_size_ = 12\n",
    ")"
   ]
  },
  {
   "cell_type": "markdown",
   "metadata": {},
   "source": [
    "### **`Выводы`**"
   ]
  },
  {
   "cell_type": "markdown",
   "metadata": {},
   "source": [
    "* Тестирование проводилось по двум моделям:\n",
    "|Модель|RMSE на кросс валидации|\n",
    "|:-----------|---------------|\n",
    "|CatBoostRegressor|25.81|\n",
    "|Ridge|26.17|\n",
    "* Тестирование моделей показало, что качество модели на тестовой выборке лучше у `LGBMRegressor`:\n",
    "|Модель|RMSE на кросс валидации|RMSE на тесте|\n",
    "|:-----------|---------------|---------------|\n",
    "|CatBoostRegressor|25.81|41.07|\n",
    "|Ridge|26.17|43.07|\n",
    "* Характер распределения остатков у обеих моделей схож.\n",
    "* Обе модели плохо справляются с прогнозом резкого роста количества заказов."
   ]
  },
  {
   "cell_type": "markdown",
   "metadata": {},
   "source": [
    "### Важность признаков"
   ]
  },
  {
   "cell_type": "code",
   "execution_count": null,
   "metadata": {},
   "outputs": [],
   "source": [
    "newdf = X_test.drop(['prediction',\n",
    "       'fact', 'residuals', 'prediction_cbr', 'residuals_cbr'], axis='columns')"
   ]
  },
  {
   "cell_type": "code",
   "execution_count": null,
   "metadata": {},
   "outputs": [],
   "source": [
    "result = permutation_importance(best_param_model, newdf, y_test, scoring = 'neg_root_mean_squared_error')"
   ]
  },
  {
   "cell_type": "code",
   "execution_count": null,
   "metadata": {},
   "outputs": [],
   "source": [
    "# Формирование таблицы факторов\n",
    "#feature_importance = pd.DataFrame({'Feature': X_test.columns, 'Importance': result['importances_mean']})\n",
    "feature_importance = pd.DataFrame({'Feature': newdf.columns, 'Importance': result['importances_mean']})\n",
    "\n",
    "#display(feature_importance.sort_values('Importance', ascending = False))\n",
    "\n",
    "# Формирование графика\n",
    "feature_importance = feature_importance.sort_values('Importance', ascending = True)\n",
    "sns.set_style('white')\n",
    "feature_importance.plot(x='Feature', y='Importance', kind='barh', figsize=(10, 10));\n",
    "plt.title('Степень важности признаков.', y = 1.03)\n",
    "plt.xlabel(\"Importance\")\n",
    "plt.show()"
   ]
  },
  {
   "cell_type": "markdown",
   "metadata": {},
   "source": [
    "## **`Выводы`**"
   ]
  },
  {
   "cell_type": "markdown",
   "metadata": {},
   "source": [
    "* Предоставлены данные о заказах такси за период с 01.03.2018 по 31.08.2018.\n",
    "* Интервал между наблюдениями - 10 минут.\n",
    "* Для анализа временного ряда данные отсортированы по времени и реализован ресемплинг данных по одному часу.\n",
    "* Построены графики временного ряда:\n",
    "    * количество заказов, \n",
    "    * скользящее стандартное среднее отклонение\n",
    "    * скользящее стандартное отклонение\n",
    "    * сезонность - суточная, дневная, недельная, период полностью\n",
    "    * тренд\n",
    "    * остатки\n",
    "\n",
    "* Графики и результаты теста Дики-Фуллера указывают на то, что временной ряд стационарный.\n",
    "* Структура ряда зависит от времени, и имеет постоянную дисперсию.\n",
    "* Возрастающее скользящее среднее указывает на рост количества заказов с начала апреля до конца периода\n",
    "* Наблюдается суточная сезонность.\n",
    "* Количество заказов достигает максимальных значений в 10 часов, 16 часов, 0 часов.\n",
    "* Минимальное количество заказов наблюдается в 6 утра.\n",
    "* В течении недели минимальное количество заказов наблюдается в понедельник.\n",
    "* Со вторника по пятницу наблюдается стабильный рост заказов.\n",
    "* Начиная с выходных количество заказов падает.\n",
    "<br>\n",
    "* Для обучения и тестирования моделей данные разделены в пропорции 90/10 (без перемешивания)\n",
    "* Подобраны гиперпараметры и проведено обучение нескольких моделей.\n",
    "* Качество моделей оценивалось метрикой `RMSE`\n",
    "* Результаты обучения моделей на тренировочной выборке:\n",
    "\n",
    "|Модель|RMSE|\n",
    "|-----------|---------------|\n",
    "|CatBoostRegressor|25.81|\n",
    "|Ridge|26.17|\n",
    "|LGBMRegressor|27.11|\n",
    "|RandomForestRegressor|27.20|\n",
    "|DecisionTreeRegressor|32.82|\n",
    "\n",
    "* Тестирование проводилось по двум моделям:\n",
    "|Модель|RMSE на кросс валидации|\n",
    "|:-----------|---------------|\n",
    "|CatBoostRegressor|25.81|\n",
    "|Ridge|26.17|\n",
    "* Тестирование моделей показало, что качество модели на тестовой выборке лучше у `CatBoostRegressor`:\n",
    "|Модель|RMSE на кросс валидации|RMSE на тесте|\n",
    "|:-----------|---------------|---------------|\n",
    "|CatBoostRegressor|25.81|41.07|\n",
    "|Ridge|26.17|43.07|\n",
    "* Характер распределения остатков у обеих моделей схож.\n",
    "* Обе модели плохо справляются с прогнозом резкого роста количества заказов.\n",
    "* Обе модели удовлетворяют требование заказчика по значению метрики на тестовой выборке - **`RSME < 48`**\n",
    "\n",
    "* Значимость признаков по мере убывания:\n",
    "    * `lag_24` - количество заказов со смещением на 24 часа\n",
    "    * `lag_1` - количество заказов со смещением на 1 час\n",
    "    * `hour` - час\n",
    "    * `lag_19` - количество заказов со смещением на 19 час\n",
    "    * `lag_13` - количество заказов со смещением на 13 час\n",
    "    * `lag_12` - количество заказов со смещением на 12 час\n",
    "    * `lag_7` - количество заказов со смещением на 7 час\n",
    "    * `lag_22` - количество заказов со смещением на 12 час\n",
    "    * `day_of_week` - день недели\n",
    "    * `lag_18` - количество заказов со смещением на 18 час"
   ]
  }
 ],
 "metadata": {
  "ExecuteTimeLog": [
   {
    "duration": 52,
    "start_time": "2025-02-21T08:09:09.582Z"
   },
   {
    "duration": 1460,
    "start_time": "2025-02-21T08:10:07.961Z"
   },
   {
    "duration": 0,
    "start_time": "2025-02-21T08:10:09.424Z"
   },
   {
    "duration": 0,
    "start_time": "2025-02-21T08:10:09.425Z"
   },
   {
    "duration": 0,
    "start_time": "2025-02-21T08:10:09.426Z"
   },
   {
    "duration": 0,
    "start_time": "2025-02-21T08:10:09.427Z"
   },
   {
    "duration": 0,
    "start_time": "2025-02-21T08:10:09.428Z"
   },
   {
    "duration": 0,
    "start_time": "2025-02-21T08:10:09.429Z"
   },
   {
    "duration": 0,
    "start_time": "2025-02-21T08:10:09.430Z"
   },
   {
    "duration": 0,
    "start_time": "2025-02-21T08:10:09.432Z"
   },
   {
    "duration": 0,
    "start_time": "2025-02-21T08:10:09.433Z"
   },
   {
    "duration": 0,
    "start_time": "2025-02-21T08:10:09.434Z"
   },
   {
    "duration": 7472,
    "start_time": "2025-02-21T08:13:00.680Z"
   },
   {
    "duration": 21,
    "start_time": "2025-02-21T08:13:13.063Z"
   },
   {
    "duration": 3265,
    "start_time": "2025-02-21T08:13:33.073Z"
   },
   {
    "duration": 1440,
    "start_time": "2025-02-21T08:13:36.341Z"
   },
   {
    "duration": 0,
    "start_time": "2025-02-21T08:13:37.783Z"
   },
   {
    "duration": 0,
    "start_time": "2025-02-21T08:13:37.784Z"
   },
   {
    "duration": 0,
    "start_time": "2025-02-21T08:13:37.785Z"
   },
   {
    "duration": 0,
    "start_time": "2025-02-21T08:13:37.787Z"
   },
   {
    "duration": 0,
    "start_time": "2025-02-21T08:13:37.788Z"
   },
   {
    "duration": 0,
    "start_time": "2025-02-21T08:13:37.789Z"
   },
   {
    "duration": 0,
    "start_time": "2025-02-21T08:13:37.790Z"
   },
   {
    "duration": 0,
    "start_time": "2025-02-21T08:13:37.791Z"
   },
   {
    "duration": 0,
    "start_time": "2025-02-21T08:13:37.793Z"
   },
   {
    "duration": 0,
    "start_time": "2025-02-21T08:13:37.795Z"
   },
   {
    "duration": 4274,
    "start_time": "2025-02-21T08:15:56.609Z"
   },
   {
    "duration": 278,
    "start_time": "2025-02-21T08:16:02.675Z"
   },
   {
    "duration": 9,
    "start_time": "2025-02-21T08:16:12.288Z"
   },
   {
    "duration": 13,
    "start_time": "2025-02-21T08:16:12.299Z"
   },
   {
    "duration": 17,
    "start_time": "2025-02-21T08:16:12.314Z"
   },
   {
    "duration": 18,
    "start_time": "2025-02-21T08:16:12.333Z"
   },
   {
    "duration": 10,
    "start_time": "2025-02-21T08:16:12.353Z"
   },
   {
    "duration": 206,
    "start_time": "2025-02-21T08:16:12.365Z"
   },
   {
    "duration": 47,
    "start_time": "2025-02-21T08:16:12.573Z"
   },
   {
    "duration": 608,
    "start_time": "2025-02-21T08:16:12.622Z"
   },
   {
    "duration": 38,
    "start_time": "2025-02-21T08:16:13.232Z"
   },
   {
    "duration": 0,
    "start_time": "2025-02-21T08:16:13.271Z"
   },
   {
    "duration": 0,
    "start_time": "2025-02-21T08:16:13.272Z"
   },
   {
    "duration": 12,
    "start_time": "2025-02-21T08:22:42.597Z"
   },
   {
    "duration": 620,
    "start_time": "2025-02-21T08:22:45.356Z"
   },
   {
    "duration": 1133,
    "start_time": "2025-02-21T08:22:49.795Z"
   },
   {
    "duration": 2380,
    "start_time": "2025-02-21T08:23:05.685Z"
   },
   {
    "duration": 5,
    "start_time": "2025-02-21T08:23:37.496Z"
   },
   {
    "duration": 34,
    "start_time": "2025-02-21T08:24:37.443Z"
   },
   {
    "duration": 207,
    "start_time": "2025-02-21T08:44:23.454Z"
   },
   {
    "duration": 10,
    "start_time": "2025-02-21T08:44:59.346Z"
   },
   {
    "duration": 180,
    "start_time": "2025-02-21T08:45:05.726Z"
   },
   {
    "duration": 142,
    "start_time": "2025-02-21T08:47:12.897Z"
   },
   {
    "duration": 341,
    "start_time": "2025-02-21T08:47:57.578Z"
   },
   {
    "duration": 353,
    "start_time": "2025-02-21T08:48:14.899Z"
   },
   {
    "duration": 170,
    "start_time": "2025-02-21T08:51:08.235Z"
   },
   {
    "duration": 176,
    "start_time": "2025-02-21T08:51:17.468Z"
   },
   {
    "duration": 175,
    "start_time": "2025-02-21T08:51:41.872Z"
   },
   {
    "duration": 186,
    "start_time": "2025-02-21T08:52:04.146Z"
   },
   {
    "duration": 1604,
    "start_time": "2025-02-21T09:06:11.170Z"
   },
   {
    "duration": 6,
    "start_time": "2025-02-21T09:06:12.776Z"
   },
   {
    "duration": 11,
    "start_time": "2025-02-21T09:06:12.784Z"
   },
   {
    "duration": 19,
    "start_time": "2025-02-21T09:06:12.797Z"
   },
   {
    "duration": 18,
    "start_time": "2025-02-21T09:06:12.819Z"
   },
   {
    "duration": 119,
    "start_time": "2025-02-21T09:06:12.839Z"
   },
   {
    "duration": 48,
    "start_time": "2025-02-21T09:06:12.960Z"
   },
   {
    "duration": 11,
    "start_time": "2025-02-21T09:06:13.010Z"
   },
   {
    "duration": 587,
    "start_time": "2025-02-21T09:06:13.023Z"
   },
   {
    "duration": 1221,
    "start_time": "2025-02-21T09:06:13.612Z"
   },
   {
    "duration": 2035,
    "start_time": "2025-02-21T09:06:14.835Z"
   },
   {
    "duration": 99,
    "start_time": "2025-02-21T09:06:16.963Z"
   },
   {
    "duration": 51,
    "start_time": "2025-02-21T09:06:17.065Z"
   },
   {
    "duration": 194,
    "start_time": "2025-02-21T09:06:17.119Z"
   },
   {
    "duration": 177,
    "start_time": "2025-02-21T09:06:17.314Z"
   },
   {
    "duration": 389,
    "start_time": "2025-02-21T09:06:17.493Z"
   },
   {
    "duration": 212,
    "start_time": "2025-02-21T09:06:17.884Z"
   },
   {
    "duration": 5,
    "start_time": "2025-02-21T09:06:18.098Z"
   },
   {
    "duration": 46,
    "start_time": "2025-02-21T09:06:18.105Z"
   },
   {
    "duration": 7,
    "start_time": "2025-02-21T09:06:18.153Z"
   },
   {
    "duration": 10,
    "start_time": "2025-02-21T09:06:18.162Z"
   },
   {
    "duration": 11,
    "start_time": "2025-02-21T09:06:18.174Z"
   },
   {
    "duration": 371463,
    "start_time": "2025-02-21T09:06:18.187Z"
   },
   {
    "duration": 11,
    "start_time": "2025-02-21T09:12:29.652Z"
   },
   {
    "duration": 109,
    "start_time": "2025-02-21T09:12:29.665Z"
   },
   {
    "duration": 4,
    "start_time": "2025-02-21T09:12:46.056Z"
   },
   {
    "duration": 88,
    "start_time": "2025-02-21T09:12:50.771Z"
   },
   {
    "duration": 50,
    "start_time": "2025-02-21T09:14:18.242Z"
   },
   {
    "duration": 137,
    "start_time": "2025-02-21T09:21:04.483Z"
   },
   {
    "duration": 858,
    "start_time": "2025-02-21T09:23:25.554Z"
   },
   {
    "duration": 4,
    "start_time": "2025-02-21T09:24:00.879Z"
   },
   {
    "duration": 4,
    "start_time": "2025-02-21T09:24:15.768Z"
   },
   {
    "duration": 88,
    "start_time": "2025-02-21T09:24:31.055Z"
   },
   {
    "duration": 12,
    "start_time": "2025-02-21T09:25:44.267Z"
   },
   {
    "duration": 85,
    "start_time": "2025-02-21T09:26:26.760Z"
   },
   {
    "duration": 5,
    "start_time": "2025-02-21T09:26:47.242Z"
   },
   {
    "duration": 5,
    "start_time": "2025-02-21T09:27:36.441Z"
   },
   {
    "duration": 6,
    "start_time": "2025-02-21T09:27:52.737Z"
   },
   {
    "duration": 4,
    "start_time": "2025-02-21T09:28:04.953Z"
   },
   {
    "duration": 16,
    "start_time": "2025-02-21T09:29:25.250Z"
   },
   {
    "duration": 21,
    "start_time": "2025-02-21T09:30:26.254Z"
   },
   {
    "duration": 4,
    "start_time": "2025-02-21T09:30:40.456Z"
   },
   {
    "duration": 875,
    "start_time": "2025-02-21T09:31:17.963Z"
   },
   {
    "duration": 849,
    "start_time": "2025-02-21T09:32:53.354Z"
   },
   {
    "duration": 5,
    "start_time": "2025-02-21T09:33:07.856Z"
   },
   {
    "duration": 14,
    "start_time": "2025-02-21T09:34:45.846Z"
   },
   {
    "duration": 816,
    "start_time": "2025-02-21T09:37:55.922Z"
   },
   {
    "duration": 331,
    "start_time": "2025-02-21T09:39:11.704Z"
   },
   {
    "duration": 351,
    "start_time": "2025-02-21T09:39:18.611Z"
   },
   {
    "duration": 347,
    "start_time": "2025-02-21T09:39:27.706Z"
   },
   {
    "duration": 13,
    "start_time": "2025-02-21T09:40:15.639Z"
   },
   {
    "duration": 12,
    "start_time": "2025-02-21T09:43:01.495Z"
   },
   {
    "duration": 15,
    "start_time": "2025-02-21T09:43:21.728Z"
   },
   {
    "duration": 18,
    "start_time": "2025-02-21T09:47:00.043Z"
   },
   {
    "duration": 12,
    "start_time": "2025-02-21T09:49:09.726Z"
   },
   {
    "duration": 16,
    "start_time": "2025-02-21T09:49:27.105Z"
   },
   {
    "duration": 15,
    "start_time": "2025-02-21T09:49:54.974Z"
   },
   {
    "duration": 18,
    "start_time": "2025-02-21T09:50:11.928Z"
   },
   {
    "duration": 17,
    "start_time": "2025-02-21T09:52:35.664Z"
   },
   {
    "duration": 18,
    "start_time": "2025-02-21T09:56:04.904Z"
   },
   {
    "duration": 18,
    "start_time": "2025-02-21T09:56:39.374Z"
   },
   {
    "duration": 17,
    "start_time": "2025-02-21T09:56:50.308Z"
   },
   {
    "duration": 20,
    "start_time": "2025-02-21T09:58:15.494Z"
   },
   {
    "duration": 24,
    "start_time": "2025-02-21T09:59:26.297Z"
   },
   {
    "duration": 22,
    "start_time": "2025-02-21T09:59:31.862Z"
   },
   {
    "duration": 25,
    "start_time": "2025-02-21T10:01:23.937Z"
   },
   {
    "duration": 22,
    "start_time": "2025-02-21T10:01:53.081Z"
   },
   {
    "duration": 22,
    "start_time": "2025-02-21T10:03:00.976Z"
   },
   {
    "duration": 22,
    "start_time": "2025-02-21T10:04:56.536Z"
   },
   {
    "duration": 28,
    "start_time": "2025-02-21T10:05:21.665Z"
   },
   {
    "duration": 29,
    "start_time": "2025-02-21T10:06:39.417Z"
   },
   {
    "duration": 2009,
    "start_time": "2025-02-21T10:09:01.758Z"
   },
   {
    "duration": 6,
    "start_time": "2025-02-21T10:09:05.680Z"
   },
   {
    "duration": 601,
    "start_time": "2025-02-21T10:09:52.377Z"
   },
   {
    "duration": 4,
    "start_time": "2025-02-21T10:37:18.518Z"
   },
   {
    "duration": 236575,
    "start_time": "2025-02-21T10:37:21.229Z"
   },
   {
    "duration": 5,
    "start_time": "2025-02-21T10:43:08.380Z"
   },
   {
    "duration": 984,
    "start_time": "2025-02-21T10:43:11.044Z"
   },
   {
    "duration": 38,
    "start_time": "2025-02-21T10:43:31.692Z"
   },
   {
    "duration": 12,
    "start_time": "2025-02-21T10:45:54.359Z"
   },
   {
    "duration": 14,
    "start_time": "2025-02-21T10:46:16.826Z"
   },
   {
    "duration": 25,
    "start_time": "2025-02-21T10:46:36.830Z"
   },
   {
    "duration": 13,
    "start_time": "2025-02-21T10:47:48.623Z"
   },
   {
    "duration": 12,
    "start_time": "2025-02-21T10:48:09.564Z"
   },
   {
    "duration": 13,
    "start_time": "2025-02-21T10:48:22.063Z"
   },
   {
    "duration": 24,
    "start_time": "2025-02-21T10:48:26.831Z"
   },
   {
    "duration": 13,
    "start_time": "2025-02-21T10:48:36.644Z"
   },
   {
    "duration": 21,
    "start_time": "2025-02-21T10:49:35.814Z"
   },
   {
    "duration": 23,
    "start_time": "2025-02-21T10:49:47.487Z"
   },
   {
    "duration": 13,
    "start_time": "2025-02-21T10:50:09.078Z"
   },
   {
    "duration": 2,
    "start_time": "2025-02-21T10:51:26.093Z"
   },
   {
    "duration": 5,
    "start_time": "2025-02-21T11:05:08.420Z"
   },
   {
    "duration": 5,
    "start_time": "2025-02-21T11:05:16.637Z"
   },
   {
    "duration": 8,
    "start_time": "2025-02-21T11:09:37.718Z"
   },
   {
    "duration": 3271,
    "start_time": "2025-02-21T11:10:01.486Z"
   },
   {
    "duration": 2435,
    "start_time": "2025-02-21T11:10:34.439Z"
   },
   {
    "duration": 3253,
    "start_time": "2025-02-21T11:10:40.500Z"
   },
   {
    "duration": 564,
    "start_time": "2025-02-21T11:10:54.150Z"
   },
   {
    "duration": 671,
    "start_time": "2025-02-21T11:11:54.200Z"
   },
   {
    "duration": 32,
    "start_time": "2025-02-21T11:29:55.838Z"
   },
   {
    "duration": 32,
    "start_time": "2025-02-21T11:30:10.423Z"
   },
   {
    "duration": 32,
    "start_time": "2025-02-21T11:30:23.214Z"
   },
   {
    "duration": 31,
    "start_time": "2025-02-21T11:30:27.631Z"
   },
   {
    "duration": 32,
    "start_time": "2025-02-21T11:31:31.311Z"
   },
   {
    "duration": 34,
    "start_time": "2025-02-21T11:31:45.775Z"
   },
   {
    "duration": 32,
    "start_time": "2025-02-21T11:32:10.782Z"
   },
   {
    "duration": 4,
    "start_time": "2025-02-21T11:33:10.864Z"
   },
   {
    "duration": 10,
    "start_time": "2025-02-21T11:34:57.783Z"
   },
   {
    "duration": 4,
    "start_time": "2025-02-21T11:35:16.502Z"
   },
   {
    "duration": 3,
    "start_time": "2025-02-21T11:35:48.838Z"
   },
   {
    "duration": 5,
    "start_time": "2025-02-21T11:36:16.495Z"
   },
   {
    "duration": 5,
    "start_time": "2025-02-21T11:36:38.046Z"
   },
   {
    "duration": 614,
    "start_time": "2025-02-21T11:54:02.959Z"
   },
   {
    "duration": 637,
    "start_time": "2025-02-21T11:54:09.839Z"
   },
   {
    "duration": 637,
    "start_time": "2025-02-21T11:54:17.698Z"
   },
   {
    "duration": 630,
    "start_time": "2025-02-21T11:54:24.309Z"
   },
   {
    "duration": 973,
    "start_time": "2025-02-21T11:55:38.398Z"
   },
   {
    "duration": 1087,
    "start_time": "2025-02-21T11:56:29.959Z"
   },
   {
    "duration": 1391,
    "start_time": "2025-02-21T11:57:20.359Z"
   },
   {
    "duration": 1867,
    "start_time": "2025-02-21T12:45:49.510Z"
   },
   {
    "duration": 4681,
    "start_time": "2025-02-21T12:45:58.494Z"
   },
   {
    "duration": 3522,
    "start_time": "2025-02-21T12:46:27.829Z"
   },
   {
    "duration": 14,
    "start_time": "2025-02-21T12:51:41.832Z"
   },
   {
    "duration": 3451,
    "start_time": "2025-02-21T12:53:26.007Z"
   },
   {
    "duration": 1870,
    "start_time": "2025-02-21T12:53:34.408Z"
   },
   {
    "duration": 3395,
    "start_time": "2025-02-21T12:53:38.573Z"
   },
   {
    "duration": 12,
    "start_time": "2025-02-21T12:53:56.657Z"
   },
   {
    "duration": 13,
    "start_time": "2025-02-21T12:54:42.871Z"
   },
   {
    "duration": 13,
    "start_time": "2025-02-21T12:56:29.393Z"
   },
   {
    "duration": 12,
    "start_time": "2025-02-21T12:58:22.676Z"
   },
   {
    "duration": 7265,
    "start_time": "2025-02-21T12:59:22.022Z"
   },
   {
    "duration": 410,
    "start_time": "2025-02-21T12:59:53.376Z"
   },
   {
    "duration": 39,
    "start_time": "2025-02-21T13:03:10.013Z"
   },
   {
    "duration": 51,
    "start_time": "2025-02-21T13:04:05.286Z"
   },
   {
    "duration": 4,
    "start_time": "2025-02-21T13:05:12.688Z"
   },
   {
    "duration": 53,
    "start_time": "2025-02-21T13:05:21.159Z"
   },
   {
    "duration": 36,
    "start_time": "2025-02-21T13:07:24.120Z"
   },
   {
    "duration": 5,
    "start_time": "2025-02-21T13:07:35.585Z"
   },
   {
    "duration": 988,
    "start_time": "2025-02-21T13:08:03.569Z"
   },
   {
    "duration": 4,
    "start_time": "2025-02-21T13:10:19.057Z"
   },
   {
    "duration": 6264,
    "start_time": "2025-02-21T13:10:30.812Z"
   },
   {
    "duration": 379,
    "start_time": "2025-02-21T13:11:07.128Z"
   },
   {
    "duration": 390,
    "start_time": "2025-02-21T13:11:29.655Z"
   },
   {
    "duration": 504,
    "start_time": "2025-02-21T13:11:40.521Z"
   },
   {
    "duration": 84,
    "start_time": "2025-02-21T15:39:19.205Z"
   },
   {
    "duration": 80,
    "start_time": "2025-02-21T16:21:33.577Z"
   },
   {
    "duration": 3516,
    "start_time": "2025-02-21T16:33:05.332Z"
   },
   {
    "duration": 1776,
    "start_time": "2025-02-21T16:33:08.851Z"
   },
   {
    "duration": 5,
    "start_time": "2025-02-21T16:33:10.628Z"
   },
   {
    "duration": 25,
    "start_time": "2025-02-21T16:33:10.636Z"
   },
   {
    "duration": 17,
    "start_time": "2025-02-21T16:33:10.663Z"
   },
   {
    "duration": 22,
    "start_time": "2025-02-21T16:33:10.681Z"
   },
   {
    "duration": 123,
    "start_time": "2025-02-21T16:33:10.704Z"
   },
   {
    "duration": 45,
    "start_time": "2025-02-21T16:33:10.828Z"
   },
   {
    "duration": 57,
    "start_time": "2025-02-21T16:33:10.875Z"
   },
   {
    "duration": 498,
    "start_time": "2025-02-21T16:33:10.934Z"
   },
   {
    "duration": 1079,
    "start_time": "2025-02-21T16:33:11.435Z"
   },
   {
    "duration": 1633,
    "start_time": "2025-02-21T16:33:12.516Z"
   },
   {
    "duration": 98,
    "start_time": "2025-02-21T16:33:14.151Z"
   },
   {
    "duration": 54,
    "start_time": "2025-02-21T16:33:14.250Z"
   },
   {
    "duration": 158,
    "start_time": "2025-02-21T16:33:14.305Z"
   },
   {
    "duration": 142,
    "start_time": "2025-02-21T16:33:14.465Z"
   },
   {
    "duration": 341,
    "start_time": "2025-02-21T16:33:14.609Z"
   },
   {
    "duration": 169,
    "start_time": "2025-02-21T16:33:14.951Z"
   },
   {
    "duration": 73,
    "start_time": "2025-02-21T16:33:15.122Z"
   },
   {
    "duration": 0,
    "start_time": "2025-02-21T16:33:15.197Z"
   },
   {
    "duration": 0,
    "start_time": "2025-02-21T16:33:15.198Z"
   },
   {
    "duration": 0,
    "start_time": "2025-02-21T16:33:15.199Z"
   },
   {
    "duration": 0,
    "start_time": "2025-02-21T16:33:15.201Z"
   },
   {
    "duration": 0,
    "start_time": "2025-02-21T16:33:15.202Z"
   },
   {
    "duration": 0,
    "start_time": "2025-02-21T16:33:15.202Z"
   },
   {
    "duration": 0,
    "start_time": "2025-02-21T16:33:15.204Z"
   },
   {
    "duration": 0,
    "start_time": "2025-02-21T16:33:15.205Z"
   },
   {
    "duration": 0,
    "start_time": "2025-02-21T16:33:15.206Z"
   },
   {
    "duration": 0,
    "start_time": "2025-02-21T16:33:15.207Z"
   },
   {
    "duration": 0,
    "start_time": "2025-02-21T16:33:15.208Z"
   },
   {
    "duration": 0,
    "start_time": "2025-02-21T16:33:15.209Z"
   },
   {
    "duration": 0,
    "start_time": "2025-02-21T16:33:15.210Z"
   },
   {
    "duration": 0,
    "start_time": "2025-02-21T16:33:15.211Z"
   },
   {
    "duration": 0,
    "start_time": "2025-02-21T16:33:15.212Z"
   },
   {
    "duration": 0,
    "start_time": "2025-02-21T16:33:15.213Z"
   },
   {
    "duration": 0,
    "start_time": "2025-02-21T16:33:15.214Z"
   },
   {
    "duration": 0,
    "start_time": "2025-02-21T16:33:15.215Z"
   },
   {
    "duration": 0,
    "start_time": "2025-02-21T16:33:15.217Z"
   },
   {
    "duration": 2297,
    "start_time": "2025-02-21T16:33:40.615Z"
   },
   {
    "duration": 8,
    "start_time": "2025-02-21T16:33:42.914Z"
   },
   {
    "duration": 19,
    "start_time": "2025-02-21T16:33:42.924Z"
   },
   {
    "duration": 12,
    "start_time": "2025-02-21T16:33:42.945Z"
   },
   {
    "duration": 19,
    "start_time": "2025-02-21T16:33:42.985Z"
   },
   {
    "duration": 94,
    "start_time": "2025-02-21T16:33:43.005Z"
   },
   {
    "duration": 47,
    "start_time": "2025-02-21T16:33:43.101Z"
   },
   {
    "duration": 9,
    "start_time": "2025-02-21T16:33:43.150Z"
   },
   {
    "duration": 399,
    "start_time": "2025-02-21T16:33:43.162Z"
   },
   {
    "duration": 995,
    "start_time": "2025-02-21T16:33:43.562Z"
   },
   {
    "duration": 1988,
    "start_time": "2025-02-21T16:33:44.559Z"
   },
   {
    "duration": 97,
    "start_time": "2025-02-21T16:33:46.551Z"
   },
   {
    "duration": 29,
    "start_time": "2025-02-21T16:33:46.650Z"
   },
   {
    "duration": 177,
    "start_time": "2025-02-21T16:33:46.681Z"
   },
   {
    "duration": 138,
    "start_time": "2025-02-21T16:33:46.860Z"
   },
   {
    "duration": 332,
    "start_time": "2025-02-21T16:33:47.000Z"
   },
   {
    "duration": 176,
    "start_time": "2025-02-21T16:33:47.334Z"
   },
   {
    "duration": 2391,
    "start_time": "2025-02-21T16:34:05.012Z"
   },
   {
    "duration": 1468,
    "start_time": "2025-02-21T16:34:07.406Z"
   },
   {
    "duration": 4,
    "start_time": "2025-02-21T16:34:08.876Z"
   },
   {
    "duration": 20,
    "start_time": "2025-02-21T16:34:08.882Z"
   },
   {
    "duration": 32,
    "start_time": "2025-02-21T16:34:08.904Z"
   },
   {
    "duration": 9,
    "start_time": "2025-02-21T16:34:08.938Z"
   },
   {
    "duration": 88,
    "start_time": "2025-02-21T16:34:08.949Z"
   },
   {
    "duration": 42,
    "start_time": "2025-02-21T16:34:09.038Z"
   },
   {
    "duration": 10,
    "start_time": "2025-02-21T16:34:09.082Z"
   },
   {
    "duration": 490,
    "start_time": "2025-02-21T16:34:09.094Z"
   },
   {
    "duration": 1021,
    "start_time": "2025-02-21T16:34:09.586Z"
   },
   {
    "duration": 1943,
    "start_time": "2025-02-21T16:34:10.608Z"
   },
   {
    "duration": 196,
    "start_time": "2025-02-21T16:34:12.553Z"
   },
   {
    "duration": 28,
    "start_time": "2025-02-21T16:34:12.750Z"
   },
   {
    "duration": 310,
    "start_time": "2025-02-21T16:34:12.780Z"
   },
   {
    "duration": 242,
    "start_time": "2025-02-21T16:34:13.147Z"
   },
   {
    "duration": 680,
    "start_time": "2025-02-21T16:34:13.390Z"
   },
   {
    "duration": 227,
    "start_time": "2025-02-21T16:34:14.072Z"
   },
   {
    "duration": 5,
    "start_time": "2025-02-21T16:34:14.300Z"
   },
   {
    "duration": 15,
    "start_time": "2025-02-21T16:34:14.306Z"
   },
   {
    "duration": 132,
    "start_time": "2025-02-21T16:34:14.322Z"
   },
   {
    "duration": 0,
    "start_time": "2025-02-21T16:34:14.456Z"
   },
   {
    "duration": 0,
    "start_time": "2025-02-21T16:34:14.458Z"
   },
   {
    "duration": 0,
    "start_time": "2025-02-21T16:34:14.460Z"
   },
   {
    "duration": 0,
    "start_time": "2025-02-21T16:34:14.461Z"
   },
   {
    "duration": 0,
    "start_time": "2025-02-21T16:34:14.462Z"
   },
   {
    "duration": 0,
    "start_time": "2025-02-21T16:34:14.464Z"
   },
   {
    "duration": 0,
    "start_time": "2025-02-21T16:34:14.466Z"
   },
   {
    "duration": 0,
    "start_time": "2025-02-21T16:34:14.467Z"
   },
   {
    "duration": 0,
    "start_time": "2025-02-21T16:34:14.469Z"
   },
   {
    "duration": 0,
    "start_time": "2025-02-21T16:34:14.470Z"
   },
   {
    "duration": 0,
    "start_time": "2025-02-21T16:34:14.471Z"
   },
   {
    "duration": 0,
    "start_time": "2025-02-21T16:34:14.473Z"
   },
   {
    "duration": 0,
    "start_time": "2025-02-21T16:34:14.474Z"
   },
   {
    "duration": 0,
    "start_time": "2025-02-21T16:34:14.476Z"
   },
   {
    "duration": 0,
    "start_time": "2025-02-21T16:34:14.477Z"
   },
   {
    "duration": 0,
    "start_time": "2025-02-21T16:34:14.478Z"
   },
   {
    "duration": 2320,
    "start_time": "2025-02-21T16:35:22.592Z"
   },
   {
    "duration": 2227,
    "start_time": "2025-02-21T16:35:24.914Z"
   },
   {
    "duration": 5,
    "start_time": "2025-02-21T16:35:27.143Z"
   },
   {
    "duration": 12,
    "start_time": "2025-02-21T16:35:27.150Z"
   },
   {
    "duration": 5,
    "start_time": "2025-02-21T16:35:27.163Z"
   },
   {
    "duration": 8,
    "start_time": "2025-02-21T16:35:27.170Z"
   },
   {
    "duration": 83,
    "start_time": "2025-02-21T16:35:27.179Z"
   },
   {
    "duration": 41,
    "start_time": "2025-02-21T16:35:27.264Z"
   },
   {
    "duration": 10,
    "start_time": "2025-02-21T16:35:27.307Z"
   },
   {
    "duration": 901,
    "start_time": "2025-02-21T16:35:27.347Z"
   },
   {
    "duration": 1316,
    "start_time": "2025-02-21T16:35:28.251Z"
   },
   {
    "duration": 1788,
    "start_time": "2025-02-21T16:35:29.569Z"
   },
   {
    "duration": 7,
    "start_time": "2025-02-21T16:35:31.447Z"
   },
   {
    "duration": 127,
    "start_time": "2025-02-21T16:35:31.457Z"
   },
   {
    "duration": 243,
    "start_time": "2025-02-21T16:35:31.585Z"
   },
   {
    "duration": 149,
    "start_time": "2025-02-21T16:35:31.830Z"
   },
   {
    "duration": 332,
    "start_time": "2025-02-21T16:35:31.980Z"
   },
   {
    "duration": 183,
    "start_time": "2025-02-21T16:35:32.313Z"
   },
   {
    "duration": 5,
    "start_time": "2025-02-21T16:35:32.498Z"
   },
   {
    "duration": 92,
    "start_time": "2025-02-21T16:35:32.504Z"
   },
   {
    "duration": 22,
    "start_time": "2025-02-21T16:35:32.598Z"
   },
   {
    "duration": 21,
    "start_time": "2025-02-21T16:35:32.622Z"
   },
   {
    "duration": 43,
    "start_time": "2025-02-21T16:35:32.644Z"
   },
   {
    "duration": 1326,
    "start_time": "2025-02-21T16:35:32.689Z"
   },
   {
    "duration": 12,
    "start_time": "2025-02-21T16:35:34.016Z"
   },
   {
    "duration": 0,
    "start_time": "2025-02-21T16:35:34.029Z"
   },
   {
    "duration": 0,
    "start_time": "2025-02-21T16:35:34.030Z"
   },
   {
    "duration": 0,
    "start_time": "2025-02-21T16:35:34.031Z"
   },
   {
    "duration": 0,
    "start_time": "2025-02-21T16:35:34.033Z"
   },
   {
    "duration": 0,
    "start_time": "2025-02-21T16:35:34.033Z"
   },
   {
    "duration": 0,
    "start_time": "2025-02-21T16:35:34.035Z"
   },
   {
    "duration": 0,
    "start_time": "2025-02-21T16:35:34.036Z"
   },
   {
    "duration": 0,
    "start_time": "2025-02-21T16:35:34.037Z"
   },
   {
    "duration": 0,
    "start_time": "2025-02-21T16:35:34.038Z"
   },
   {
    "duration": 0,
    "start_time": "2025-02-21T16:35:34.039Z"
   },
   {
    "duration": 0,
    "start_time": "2025-02-21T16:35:34.040Z"
   },
   {
    "duration": 0,
    "start_time": "2025-02-21T16:35:34.041Z"
   },
   {
    "duration": 77,
    "start_time": "2025-02-21T16:37:01.172Z"
   },
   {
    "duration": 2290,
    "start_time": "2025-02-21T16:37:33.664Z"
   },
   {
    "duration": 1414,
    "start_time": "2025-02-21T16:37:35.956Z"
   },
   {
    "duration": 21156,
    "start_time": "2025-02-21T16:37:37.371Z"
   },
   {
    "duration": 1554,
    "start_time": "2025-02-21T16:37:58.529Z"
   },
   {
    "duration": 5,
    "start_time": "2025-02-21T16:38:00.085Z"
   },
   {
    "duration": 62,
    "start_time": "2025-02-21T16:38:00.092Z"
   },
   {
    "duration": 185,
    "start_time": "2025-02-21T16:38:00.156Z"
   },
   {
    "duration": 198,
    "start_time": "2025-02-21T16:38:00.343Z"
   },
   {
    "duration": 129,
    "start_time": "2025-02-21T16:38:00.542Z"
   },
   {
    "duration": 38,
    "start_time": "2025-02-21T16:38:00.674Z"
   },
   {
    "duration": 34,
    "start_time": "2025-02-21T16:38:00.714Z"
   },
   {
    "duration": 471,
    "start_time": "2025-02-21T16:38:00.749Z"
   },
   {
    "duration": 1048,
    "start_time": "2025-02-21T16:38:01.223Z"
   },
   {
    "duration": 1777,
    "start_time": "2025-02-21T16:38:02.273Z"
   },
   {
    "duration": 94,
    "start_time": "2025-02-21T16:38:04.057Z"
   },
   {
    "duration": 35,
    "start_time": "2025-02-21T16:38:04.152Z"
   },
   {
    "duration": 176,
    "start_time": "2025-02-21T16:38:04.188Z"
   },
   {
    "duration": 144,
    "start_time": "2025-02-21T16:38:04.365Z"
   },
   {
    "duration": 330,
    "start_time": "2025-02-21T16:38:04.510Z"
   },
   {
    "duration": 289,
    "start_time": "2025-02-21T16:38:04.842Z"
   },
   {
    "duration": 0,
    "start_time": "2025-02-21T16:38:05.133Z"
   },
   {
    "duration": 0,
    "start_time": "2025-02-21T16:38:05.135Z"
   },
   {
    "duration": 0,
    "start_time": "2025-02-21T16:38:05.148Z"
   },
   {
    "duration": 0,
    "start_time": "2025-02-21T16:38:05.149Z"
   },
   {
    "duration": 0,
    "start_time": "2025-02-21T16:38:05.151Z"
   },
   {
    "duration": 0,
    "start_time": "2025-02-21T16:38:05.152Z"
   },
   {
    "duration": 0,
    "start_time": "2025-02-21T16:38:05.153Z"
   },
   {
    "duration": 0,
    "start_time": "2025-02-21T16:38:05.154Z"
   },
   {
    "duration": 0,
    "start_time": "2025-02-21T16:38:05.155Z"
   },
   {
    "duration": 0,
    "start_time": "2025-02-21T16:38:05.156Z"
   },
   {
    "duration": 0,
    "start_time": "2025-02-21T16:38:05.157Z"
   },
   {
    "duration": 0,
    "start_time": "2025-02-21T16:38:05.158Z"
   },
   {
    "duration": 0,
    "start_time": "2025-02-21T16:38:05.159Z"
   },
   {
    "duration": 0,
    "start_time": "2025-02-21T16:38:05.160Z"
   },
   {
    "duration": 0,
    "start_time": "2025-02-21T16:38:05.162Z"
   },
   {
    "duration": 0,
    "start_time": "2025-02-21T16:38:05.163Z"
   },
   {
    "duration": 0,
    "start_time": "2025-02-21T16:38:05.164Z"
   },
   {
    "duration": 0,
    "start_time": "2025-02-21T16:38:05.166Z"
   },
   {
    "duration": 0,
    "start_time": "2025-02-21T16:38:05.167Z"
   },
   {
    "duration": 47,
    "start_time": "2025-02-21T16:38:14.100Z"
   },
   {
    "duration": 2293,
    "start_time": "2025-02-21T16:38:20.804Z"
   },
   {
    "duration": 142450,
    "start_time": "2025-02-21T16:38:23.099Z"
   },
   {
    "duration": 90081,
    "start_time": "2025-02-21T16:40:45.550Z"
   },
   {
    "duration": 1700,
    "start_time": "2025-02-21T16:42:15.636Z"
   },
   {
    "duration": 5,
    "start_time": "2025-02-21T16:42:17.338Z"
   },
   {
    "duration": 90,
    "start_time": "2025-02-21T16:42:17.347Z"
   },
   {
    "duration": 14,
    "start_time": "2025-02-21T16:42:17.439Z"
   },
   {
    "duration": 8,
    "start_time": "2025-02-21T16:42:17.454Z"
   },
   {
    "duration": 91,
    "start_time": "2025-02-21T16:42:17.463Z"
   },
   {
    "duration": 44,
    "start_time": "2025-02-21T16:42:17.557Z"
   },
   {
    "duration": 9,
    "start_time": "2025-02-21T16:42:17.603Z"
   },
   {
    "duration": 693,
    "start_time": "2025-02-21T16:42:17.648Z"
   },
   {
    "duration": 1377,
    "start_time": "2025-02-21T16:42:18.343Z"
   },
   {
    "duration": 1527,
    "start_time": "2025-02-21T16:42:19.722Z"
   },
   {
    "duration": 5,
    "start_time": "2025-02-21T16:42:21.251Z"
   },
   {
    "duration": 193,
    "start_time": "2025-02-21T16:42:21.258Z"
   },
   {
    "duration": 325,
    "start_time": "2025-02-21T16:42:21.452Z"
   },
   {
    "duration": 470,
    "start_time": "2025-02-21T16:42:21.778Z"
   },
   {
    "duration": 652,
    "start_time": "2025-02-21T16:42:22.250Z"
   },
   {
    "duration": 319,
    "start_time": "2025-02-21T16:42:22.903Z"
   },
   {
    "duration": 6,
    "start_time": "2025-02-21T16:42:23.224Z"
   },
   {
    "duration": 122,
    "start_time": "2025-02-21T16:42:23.231Z"
   },
   {
    "duration": 4,
    "start_time": "2025-02-21T16:42:23.355Z"
   },
   {
    "duration": 15,
    "start_time": "2025-02-21T16:42:23.361Z"
   },
   {
    "duration": 14,
    "start_time": "2025-02-21T16:42:23.377Z"
   },
   {
    "duration": 1759912,
    "start_time": "2025-02-21T16:42:23.393Z"
   },
   {
    "duration": 0,
    "start_time": "2025-02-21T17:11:43.321Z"
   },
   {
    "duration": 0,
    "start_time": "2025-02-21T17:11:43.323Z"
   },
   {
    "duration": 0,
    "start_time": "2025-02-21T17:11:43.325Z"
   },
   {
    "duration": 0,
    "start_time": "2025-02-21T17:11:43.326Z"
   },
   {
    "duration": 0,
    "start_time": "2025-02-21T17:11:43.328Z"
   },
   {
    "duration": 0,
    "start_time": "2025-02-21T17:11:43.329Z"
   },
   {
    "duration": 0,
    "start_time": "2025-02-21T17:11:43.330Z"
   },
   {
    "duration": 0,
    "start_time": "2025-02-21T17:11:43.331Z"
   },
   {
    "duration": 0,
    "start_time": "2025-02-21T17:11:43.332Z"
   },
   {
    "duration": 0,
    "start_time": "2025-02-21T17:11:43.333Z"
   },
   {
    "duration": 0,
    "start_time": "2025-02-21T17:11:43.334Z"
   },
   {
    "duration": 0,
    "start_time": "2025-02-21T17:11:43.335Z"
   },
   {
    "duration": 0,
    "start_time": "2025-02-21T17:11:43.338Z"
   },
   {
    "duration": 2060,
    "start_time": "2025-02-21T17:13:33.988Z"
   },
   {
    "duration": 6,
    "start_time": "2025-02-21T17:13:36.050Z"
   },
   {
    "duration": 22,
    "start_time": "2025-02-21T17:13:36.057Z"
   },
   {
    "duration": 36,
    "start_time": "2025-02-21T17:13:36.081Z"
   },
   {
    "duration": 14,
    "start_time": "2025-02-21T17:13:36.120Z"
   },
   {
    "duration": 125,
    "start_time": "2025-02-21T17:13:36.137Z"
   },
   {
    "duration": 57,
    "start_time": "2025-02-21T17:13:36.264Z"
   },
   {
    "duration": 34,
    "start_time": "2025-02-21T17:13:36.323Z"
   },
   {
    "duration": 929,
    "start_time": "2025-02-21T17:13:36.359Z"
   },
   {
    "duration": 1676,
    "start_time": "2025-02-21T17:13:37.292Z"
   },
   {
    "duration": 1489,
    "start_time": "2025-02-21T17:13:38.970Z"
   },
   {
    "duration": 85,
    "start_time": "2025-02-21T17:13:40.463Z"
   },
   {
    "duration": 204,
    "start_time": "2025-02-21T17:13:40.552Z"
   },
   {
    "duration": 217,
    "start_time": "2025-02-21T17:13:40.758Z"
   },
   {
    "duration": 257,
    "start_time": "2025-02-21T17:13:40.976Z"
   },
   {
    "duration": 492,
    "start_time": "2025-02-21T17:13:41.235Z"
   },
   {
    "duration": 384,
    "start_time": "2025-02-21T17:13:41.730Z"
   },
   {
    "duration": 8,
    "start_time": "2025-02-21T17:13:42.117Z"
   },
   {
    "duration": 21,
    "start_time": "2025-02-21T17:13:42.127Z"
   },
   {
    "duration": 6,
    "start_time": "2025-02-21T17:13:42.151Z"
   },
   {
    "duration": 7,
    "start_time": "2025-02-21T17:13:42.159Z"
   },
   {
    "duration": 19,
    "start_time": "2025-02-21T17:13:42.168Z"
   },
   {
    "duration": 5720041,
    "start_time": "2025-02-21T17:13:42.189Z"
   },
   {
    "duration": 14,
    "start_time": "2025-02-21T18:49:02.232Z"
   },
   {
    "duration": 0,
    "start_time": "2025-02-21T18:49:02.253Z"
   },
   {
    "duration": 0,
    "start_time": "2025-02-21T18:49:02.254Z"
   },
   {
    "duration": 0,
    "start_time": "2025-02-21T18:49:02.255Z"
   },
   {
    "duration": 0,
    "start_time": "2025-02-21T18:49:02.256Z"
   },
   {
    "duration": 0,
    "start_time": "2025-02-21T18:49:02.257Z"
   },
   {
    "duration": 0,
    "start_time": "2025-02-21T18:49:02.258Z"
   },
   {
    "duration": 0,
    "start_time": "2025-02-21T18:49:02.259Z"
   },
   {
    "duration": 1,
    "start_time": "2025-02-21T18:49:02.260Z"
   },
   {
    "duration": 0,
    "start_time": "2025-02-21T18:49:02.262Z"
   },
   {
    "duration": 0,
    "start_time": "2025-02-21T18:49:02.263Z"
   },
   {
    "duration": 0,
    "start_time": "2025-02-21T18:49:02.264Z"
   },
   {
    "duration": 0,
    "start_time": "2025-02-21T18:49:02.265Z"
   },
   {
    "duration": 7092,
    "start_time": "2025-02-22T07:47:02.016Z"
   },
   {
    "duration": 1519,
    "start_time": "2025-02-22T07:47:38.906Z"
   },
   {
    "duration": 0,
    "start_time": "2025-02-22T07:47:40.428Z"
   },
   {
    "duration": 0,
    "start_time": "2025-02-22T07:47:40.430Z"
   },
   {
    "duration": 0,
    "start_time": "2025-02-22T07:47:40.431Z"
   },
   {
    "duration": 0,
    "start_time": "2025-02-22T07:47:40.432Z"
   },
   {
    "duration": 0,
    "start_time": "2025-02-22T07:47:40.433Z"
   },
   {
    "duration": 0,
    "start_time": "2025-02-22T07:47:40.435Z"
   },
   {
    "duration": 0,
    "start_time": "2025-02-22T07:47:40.436Z"
   },
   {
    "duration": 0,
    "start_time": "2025-02-22T07:47:40.437Z"
   },
   {
    "duration": 0,
    "start_time": "2025-02-22T07:47:40.439Z"
   },
   {
    "duration": 0,
    "start_time": "2025-02-22T07:47:40.440Z"
   },
   {
    "duration": 0,
    "start_time": "2025-02-22T07:47:40.441Z"
   },
   {
    "duration": 0,
    "start_time": "2025-02-22T07:47:40.442Z"
   },
   {
    "duration": 0,
    "start_time": "2025-02-22T07:47:40.475Z"
   },
   {
    "duration": 0,
    "start_time": "2025-02-22T07:47:40.476Z"
   },
   {
    "duration": 0,
    "start_time": "2025-02-22T07:47:40.477Z"
   },
   {
    "duration": 0,
    "start_time": "2025-02-22T07:47:40.479Z"
   },
   {
    "duration": 0,
    "start_time": "2025-02-22T07:47:40.480Z"
   },
   {
    "duration": 0,
    "start_time": "2025-02-22T07:47:40.481Z"
   },
   {
    "duration": 0,
    "start_time": "2025-02-22T07:47:40.482Z"
   },
   {
    "duration": 0,
    "start_time": "2025-02-22T07:47:40.483Z"
   },
   {
    "duration": 0,
    "start_time": "2025-02-22T07:47:40.484Z"
   },
   {
    "duration": 0,
    "start_time": "2025-02-22T07:47:40.486Z"
   },
   {
    "duration": 0,
    "start_time": "2025-02-22T07:47:40.487Z"
   },
   {
    "duration": 0,
    "start_time": "2025-02-22T07:47:40.488Z"
   },
   {
    "duration": 0,
    "start_time": "2025-02-22T07:47:40.489Z"
   },
   {
    "duration": 0,
    "start_time": "2025-02-22T07:47:40.490Z"
   },
   {
    "duration": 0,
    "start_time": "2025-02-22T07:47:40.491Z"
   },
   {
    "duration": 0,
    "start_time": "2025-02-22T07:47:40.493Z"
   },
   {
    "duration": 0,
    "start_time": "2025-02-22T07:47:40.494Z"
   },
   {
    "duration": 0,
    "start_time": "2025-02-22T07:47:40.495Z"
   },
   {
    "duration": 0,
    "start_time": "2025-02-22T07:47:40.496Z"
   },
   {
    "duration": 0,
    "start_time": "2025-02-22T07:47:40.497Z"
   },
   {
    "duration": 0,
    "start_time": "2025-02-22T07:47:40.498Z"
   },
   {
    "duration": 0,
    "start_time": "2025-02-22T07:47:40.499Z"
   },
   {
    "duration": 0,
    "start_time": "2025-02-22T07:47:40.500Z"
   },
   {
    "duration": 208,
    "start_time": "2025-02-22T07:48:09.441Z"
   },
   {
    "duration": 5,
    "start_time": "2025-02-22T07:48:21.838Z"
   },
   {
    "duration": 10,
    "start_time": "2025-02-22T07:48:21.853Z"
   },
   {
    "duration": 8,
    "start_time": "2025-02-22T07:48:21.864Z"
   },
   {
    "duration": 9,
    "start_time": "2025-02-22T07:48:21.874Z"
   },
   {
    "duration": 86,
    "start_time": "2025-02-22T07:48:21.884Z"
   },
   {
    "duration": 46,
    "start_time": "2025-02-22T07:48:21.972Z"
   },
   {
    "duration": 10,
    "start_time": "2025-02-22T07:48:22.020Z"
   },
   {
    "duration": 535,
    "start_time": "2025-02-22T07:48:22.032Z"
   },
   {
    "duration": 1134,
    "start_time": "2025-02-22T07:48:22.569Z"
   },
   {
    "duration": 1974,
    "start_time": "2025-02-22T07:48:23.705Z"
   },
   {
    "duration": 97,
    "start_time": "2025-02-22T07:48:25.681Z"
   },
   {
    "duration": 123,
    "start_time": "2025-02-22T07:48:25.782Z"
   },
   {
    "duration": 196,
    "start_time": "2025-02-22T07:48:25.906Z"
   },
   {
    "duration": 167,
    "start_time": "2025-02-22T07:48:26.104Z"
   },
   {
    "duration": 356,
    "start_time": "2025-02-22T07:48:26.274Z"
   },
   {
    "duration": 187,
    "start_time": "2025-02-22T07:48:26.632Z"
   },
   {
    "duration": 5,
    "start_time": "2025-02-22T07:48:26.821Z"
   },
   {
    "duration": 11,
    "start_time": "2025-02-22T07:48:26.827Z"
   },
   {
    "duration": 14,
    "start_time": "2025-02-22T07:48:26.839Z"
   },
   {
    "duration": 5,
    "start_time": "2025-02-22T07:48:26.855Z"
   },
   {
    "duration": 3,
    "start_time": "2025-02-22T07:48:26.874Z"
   },
   {
    "duration": 356548,
    "start_time": "2025-02-22T07:48:26.879Z"
   },
   {
    "duration": 23,
    "start_time": "2025-02-22T07:54:23.428Z"
   },
   {
    "duration": 23,
    "start_time": "2025-02-22T07:54:23.452Z"
   },
   {
    "duration": 236481,
    "start_time": "2025-02-22T07:54:23.477Z"
   },
   {
    "duration": 4,
    "start_time": "2025-02-22T07:58:19.961Z"
   },
   {
    "duration": 19,
    "start_time": "2025-02-22T07:58:19.966Z"
   },
   {
    "duration": 40,
    "start_time": "2025-02-22T07:58:19.987Z"
   },
   {
    "duration": 4,
    "start_time": "2025-02-22T07:58:20.029Z"
   },
   {
    "duration": 1843,
    "start_time": "2025-02-22T07:58:20.036Z"
   },
   {
    "duration": 3259,
    "start_time": "2025-02-22T07:58:21.880Z"
   },
   {
    "duration": 1213,
    "start_time": "2025-02-22T07:58:25.141Z"
   },
   {
    "duration": 20,
    "start_time": "2025-02-22T07:58:26.356Z"
   },
   {
    "duration": 6002,
    "start_time": "2025-02-22T07:58:26.378Z"
   },
   {
    "duration": 358,
    "start_time": "2025-02-22T07:58:32.381Z"
   }
  ],
  "kernelspec": {
   "display_name": "Python 3 (ipykernel)",
   "language": "python",
   "name": "python3"
  },
  "language_info": {
   "codemirror_mode": {
    "name": "ipython",
    "version": 3
   },
   "file_extension": ".py",
   "mimetype": "text/x-python",
   "name": "python",
   "nbconvert_exporter": "python",
   "pygments_lexer": "ipython3",
   "version": "3.12.1"
  },
  "toc": {
   "base_numbering": 1,
   "nav_menu": {},
   "number_sections": true,
   "sideBar": true,
   "skip_h1_title": true,
   "title_cell": "Содержание",
   "title_sidebar": "Contents",
   "toc_cell": true,
   "toc_position": {
    "height": "calc(100% - 180px)",
    "left": "10px",
    "top": "150px",
    "width": "316.79px"
   },
   "toc_section_display": true,
   "toc_window_display": true
  }
 },
 "nbformat": 4,
 "nbformat_minor": 4
}
